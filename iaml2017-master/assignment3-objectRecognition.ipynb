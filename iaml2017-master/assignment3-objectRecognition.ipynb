{
 "cells": [
  {
   "cell_type": "code",
   "execution_count": 2,
   "metadata": {},
   "outputs": [],
   "source": [
    "# Introductory applied machine learning (INFR10069)"
   ]
  },
  {
   "cell_type": "markdown",
   "metadata": {},
   "source": [
    "# Assignment 3: Object recognition"
   ]
  },
  {
   "cell_type": "markdown",
   "metadata": {},
   "source": [
    "## Marking Breakdown\n",
    "\n",
    "**70-100%** results/answer correct plus extra achievement at understanding or analysis of results. Clear explanations, evidence of creative or deeper thought will contribute to a higher grade.\n",
    "\n",
    "**60-69%** results/answer correct or nearly correct and well explained.\n",
    "\n",
    "**50-59%** results/answer in right direction but significant errors.\n",
    "\n",
    "**40-49%** some evidence that the student has gained some understanding, but not answered the questions\n",
    "properly.\n",
    "\n",
    "**0-39%** serious error or slack work."
   ]
  },
  {
   "cell_type": "markdown",
   "metadata": {},
   "source": [
    "## Mechanics\n",
    "\n",
    "Fill out this notebook, save it, and submit it **and a `.txt` file** (see Part 2) in answer to this assignment.\n",
    "**You need to submit these two files electronically as described below.**\n",
    "\n",
    "On a DICE environment, open the terminal, navigate to the location of this notebook, and submit this notebook file using the following command:\n",
    "\n",
    "`submit iaml cw2 07_Assignment_3.ipynb assignment_3_predictions.txt`\n",
    "\n",
    "What actually happens in the background is that your file is placed in a folder available to markers. If you submit a file with the same name into the same location, **it will *overwrite* your previous submission**. You can check the status of your submissions with the `show_submissions` command.\n",
    "\n",
    "**Distance Learners:** To copy your work up to DICE (such that you can use the `submit` command) you can use `scp` or `rsync` (you may need to install these yourself). You can copy files up using `student.ssh.inf.ed.ac.uk`, then ssh in to submit, e.g. (in a unix terminal):\n",
    "```\n",
    "filename1=07_Assignment_3.ipynb\n",
    "local_scp_filepath1=~/git/iaml2017/${filename1}\n",
    "filename2=assignment_3_predictions.txt\n",
    "local_scp_filepath2=~/git/iaml2017/${filename2}\n",
    "UUN=s0816700\n",
    "server_address=student.ssh.inf.ed.ac.uk\n",
    "scp -r ${local_scp_filepath1} ${UUN}@${server_address}:${filename1}\n",
    "scp -r ${local_scp_filepath2} ${UUN}@${server_address}:${filename2}\n",
    "# rsync -rl ${local_scp_filepath1} ${UUN}@${server_address}:${filename1}\n",
    "# rsync -rl ${local_scp_filepath2} ${UUN}@${server_address}:${filename2}\n",
    "ssh ${UUN}@${server_address}\n",
    "ssh student.login\n",
    "submit iaml cw2 07_Assignment_3.ipynb assignment_3_predictions.txt\n",
    "```\n",
    "\n",
    "**Late submissions:** The policy stated in the School of Informatics MSc Degree Guide is that normally you will not be allowed to submit coursework late. See http://www.inf.ed.ac.uk/teaching/years/msc/courseguide10.html#exam for exceptions to this, e.g. in case of serious medical illness or serious personal problems.\n",
    "\n",
    "**Collaboration:** You may discuss the assignment with your colleagues, provided that the writing that you submit is entirely your own. That is, you should NOT borrow actual text or code from other students. We ask that you provide a list of the people who you've had discussions with (if any).\n",
    "\n",
    "**Resubmission:** If you submit your file again, the previous submission is **overwritten**. We will mark the version that is in the submission folder at the deadline."
   ]
  },
  {
   "cell_type": "markdown",
   "metadata": {},
   "source": [
    "## Important Instructions\n",
    "\n",
    "1. You *MUST* have your environment set up as in the [README](https://github.com/JamesOwers/iaml2017) and you *must activate this environment before running this notebook*:\n",
    "```\n",
    "source activate iaml\n",
    "cd iaml_2017\n",
    "jupyter notebook\n",
    "# Navigate to this file\n",
    "```\n",
    "\n",
    "1. Wherever you are required to produce code you should use code cells, otherwise you should use markdown cells to report results and explain answers.\n",
    "\n",
    "1. The .csv files that you will be using are located at `./datasets` (the `datasets` directory is adjacent to this file).\n",
    "\n",
    "1. **IMPORTANT:** Keep your answers brief and concise. Most written questions can be answered with 2-3 lines of explanation."
   ]
  },
  {
   "cell_type": "markdown",
   "metadata": {},
   "source": [
    "## Imports\n",
    "\n",
    "Include all required imports and execute the cell below. It's typical to include package imports at the top of the file for clarity."
   ]
  },
  {
   "cell_type": "code",
   "execution_count": 3,
   "metadata": {},
   "outputs": [],
   "source": [
    "from __future__ import print_function, division\n",
    "import os\n",
    "import numpy as np\n",
    "import pandas as pd\n",
    "import matplotlib.pyplot as plt\n",
    "import seaborn as sns\n",
    "from sklearn.metrics import accuracy_score, log_loss\n",
    "from sklearn.linear_model import LogisticRegression, LogisticRegressionCV\n",
    "from sklearn.preprocessing import StandardScaler\n",
    "from sklearn.metrics import confusion_matrix, accuracy_score\n",
    "from sklearn.model_selection import KFold, cross_val_predict, cross_val_score\n",
    "from sklearn.ensemble import RandomForestClassifier\n",
    "from sklearn.svm import LinearSVC, SVC\n",
    "from sklearn.dummy import DummyClassifier\n",
    "from sklearn.calibration import CalibratedClassifierCV\n",
    "from sklearn.neighbors import NearestNeighbors\n",
    "%matplotlib inline"
   ]
  },
  {
   "cell_type": "markdown",
   "metadata": {},
   "source": [
    "## Description of the dataset\n",
    "In this assignment our goal is to recognize objects in images of realistic scenes. There are 19 different classes of object e.g. person, dog, cat, car, etc. The dataset derives from several thousands photographs harvested from the web. Each object of a relevant class has been manually annotated with a bounding box. Images can contain none, one or multiple objects of each class. We have prepared a [website](http://www.inf.ed.ac.uk/teaching/courses/iaml/2014/assts/asst3/images.html) where you can view the images.\n",
    "\n",
    "We are going to detect whether images contain a person or not - a binary classification problem. To save you time and to make the problem manageable with limited computational resources, we have preprocessed the dataset. We will use the [Bag of Visual Words](https://en.wikipedia.org/wiki/Bag-of-words_model_in_computer_vision) representation. Each column of the dataset (which is not an lable), refers to a 'visual word'. Each image is represented by a 500 dimensional vector that contains the normalized count for each of 500 different visual words present in the respective image (a similar representation is used for the spambase dataset, just for real words). See the Appendix at the bottom of the notebook for more information. The image data is thus a $N \\times 500$ dimensional matrix where `N` is the number of images.\n",
    "\n",
    "The full dataset has 520 attributes (dimensions). The first attribute (`imgID`) contains the image ID which allows you to associate a data point with an actual image. The next 500 attributes (`dim1`, ..., `dim500`) are a normalized count vector for each visual word. The last 19 attributes (`is_class`) are the labels - 1 means the class is present in the image. In most of the experiments (unless explicitly noted otherwise) you will only need the `is_person` attribute and the 500 dimensional feature vector. **Do not use the additional class indicator attributes as features** unless explicitly told to do so. \n",
    "\n",
    "In Part A we provide you with a training (`train_images partA.csv`) and a validation (`valid_images partA .csv`) dataset. In Part B we provide three data sets: a training set (`train_images partB.csv`), a validation set (`valid_images partB.csv`), and a test set (`test_images partB.csv`). The training and validation set contain valid labels. In the test set the labels are missing. The files are available from the GitHub repository. \n",
    "\n",
    "**Important**: *Throughout the assignment you will be given various versions of the dataset that are relevant\n",
    "to a particular question. Please be careful to use the correct version of the dataset when instructed to do so.\n",
    "If you use the wrong version of the dataset by mistake no marks will be awarded.*"
   ]
  },
  {
   "cell_type": "markdown",
   "metadata": {},
   "source": [
    "## 1. Exploration of the dataset [70%]"
   ]
  },
  {
   "cell_type": "markdown",
   "metadata": {},
   "source": [
    "### ========== Question 1.1 --- [1 mark] ==========\n",
    "Create two Pandas DataFrame objects called `train_A` and `valid_A` by loading the datasets `train_images_partA.csv` and `valid_images_partA.csv`. Display the number of data points and attributes in each of the two datasets."
   ]
  },
  {
   "cell_type": "code",
   "execution_count": 4,
   "metadata": {},
   "outputs": [
    {
     "name": "stdout",
     "output_type": "stream",
     "text": [
      "number of data points in train_A: 2093, number of attributes in train_A: 520\n",
      "number of data points in valid_A: 1113, number of attributes in valid_A: 520\n"
     ]
    }
   ],
   "source": [
    "#Loading the datasets\n",
    "data_path = os.path.join(os.getcwd(), 'datasets', 'train_images_partA.csv')\n",
    "train_A = pd.read_csv(data_path, delimiter = ',')\n",
    "\n",
    "data_path = os.path.join(os.getcwd(), 'datasets', 'valid_images_partA.csv')\n",
    "valid_A = pd.read_csv(data_path, delimiter = ',')\n",
    "\n",
    "#Printing out the number of data points and attributes\n",
    "print('number of data points in train_A: {}, number of attributes in train_A: {}'\n",
    "                                     .format(train_A.shape[0], train_A.shape[1]))\n",
    "\n",
    "print('number of data points in valid_A: {}, number of attributes in valid_A: {}'\n",
    "                                     .format(valid_A.shape[0], valid_A.shape[1]))"
   ]
  },
  {
   "cell_type": "markdown",
   "metadata": {},
   "source": [
    "### ========== Question 1.2 --- [1 mark] ==========\n",
    "Display and inspect the first 10 instances in the training dataset."
   ]
  },
  {
   "cell_type": "code",
   "execution_count": 5,
   "metadata": {},
   "outputs": [
    {
     "data": {
      "text/html": [
       "<div>\n",
       "<style>\n",
       "    .dataframe thead tr:only-child th {\n",
       "        text-align: right;\n",
       "    }\n",
       "\n",
       "    .dataframe thead th {\n",
       "        text-align: left;\n",
       "    }\n",
       "\n",
       "    .dataframe tbody tr th {\n",
       "        vertical-align: top;\n",
       "    }\n",
       "</style>\n",
       "<table border=\"1\" class=\"dataframe\">\n",
       "  <thead>\n",
       "    <tr style=\"text-align: right;\">\n",
       "      <th></th>\n",
       "      <th>imgId</th>\n",
       "      <th>dim1</th>\n",
       "      <th>dim2</th>\n",
       "      <th>dim3</th>\n",
       "      <th>dim4</th>\n",
       "      <th>dim5</th>\n",
       "      <th>dim6</th>\n",
       "      <th>dim7</th>\n",
       "      <th>dim8</th>\n",
       "      <th>dim9</th>\n",
       "      <th>...</th>\n",
       "      <th>is_cow</th>\n",
       "      <th>is_diningtable</th>\n",
       "      <th>is_dog</th>\n",
       "      <th>is_horse</th>\n",
       "      <th>is_motorbike</th>\n",
       "      <th>is_person</th>\n",
       "      <th>is_pottedplant</th>\n",
       "      <th>is_sheep</th>\n",
       "      <th>is_sofa</th>\n",
       "      <th>is_tvmonitor</th>\n",
       "    </tr>\n",
       "  </thead>\n",
       "  <tbody>\n",
       "    <tr>\n",
       "      <th>0</th>\n",
       "      <td>2008_000008</td>\n",
       "      <td>0.002232</td>\n",
       "      <td>0.000558</td>\n",
       "      <td>0.002790</td>\n",
       "      <td>0.000837</td>\n",
       "      <td>0.001674</td>\n",
       "      <td>0.001953</td>\n",
       "      <td>0.001395</td>\n",
       "      <td>0.002232</td>\n",
       "      <td>0.003627</td>\n",
       "      <td>...</td>\n",
       "      <td>0</td>\n",
       "      <td>0</td>\n",
       "      <td>0</td>\n",
       "      <td>1</td>\n",
       "      <td>0</td>\n",
       "      <td>1</td>\n",
       "      <td>0</td>\n",
       "      <td>0</td>\n",
       "      <td>0</td>\n",
       "      <td>0</td>\n",
       "    </tr>\n",
       "    <tr>\n",
       "      <th>1</th>\n",
       "      <td>2008_000015</td>\n",
       "      <td>0.001563</td>\n",
       "      <td>0.000391</td>\n",
       "      <td>0.007422</td>\n",
       "      <td>0.003516</td>\n",
       "      <td>0.003906</td>\n",
       "      <td>0.005078</td>\n",
       "      <td>0.001953</td>\n",
       "      <td>0.002344</td>\n",
       "      <td>0.001953</td>\n",
       "      <td>...</td>\n",
       "      <td>0</td>\n",
       "      <td>0</td>\n",
       "      <td>0</td>\n",
       "      <td>0</td>\n",
       "      <td>0</td>\n",
       "      <td>0</td>\n",
       "      <td>0</td>\n",
       "      <td>0</td>\n",
       "      <td>0</td>\n",
       "      <td>0</td>\n",
       "    </tr>\n",
       "    <tr>\n",
       "      <th>2</th>\n",
       "      <td>2008_000019</td>\n",
       "      <td>0.000521</td>\n",
       "      <td>0.000000</td>\n",
       "      <td>0.000000</td>\n",
       "      <td>0.001042</td>\n",
       "      <td>0.001563</td>\n",
       "      <td>0.005729</td>\n",
       "      <td>0.000521</td>\n",
       "      <td>0.002083</td>\n",
       "      <td>0.003646</td>\n",
       "      <td>...</td>\n",
       "      <td>0</td>\n",
       "      <td>0</td>\n",
       "      <td>1</td>\n",
       "      <td>0</td>\n",
       "      <td>0</td>\n",
       "      <td>0</td>\n",
       "      <td>0</td>\n",
       "      <td>0</td>\n",
       "      <td>0</td>\n",
       "      <td>0</td>\n",
       "    </tr>\n",
       "    <tr>\n",
       "      <th>3</th>\n",
       "      <td>2008_000023</td>\n",
       "      <td>0.002976</td>\n",
       "      <td>0.002232</td>\n",
       "      <td>0.004464</td>\n",
       "      <td>0.000372</td>\n",
       "      <td>0.000372</td>\n",
       "      <td>0.002232</td>\n",
       "      <td>0.000000</td>\n",
       "      <td>0.003720</td>\n",
       "      <td>0.000000</td>\n",
       "      <td>...</td>\n",
       "      <td>0</td>\n",
       "      <td>0</td>\n",
       "      <td>0</td>\n",
       "      <td>0</td>\n",
       "      <td>0</td>\n",
       "      <td>1</td>\n",
       "      <td>0</td>\n",
       "      <td>0</td>\n",
       "      <td>0</td>\n",
       "      <td>1</td>\n",
       "    </tr>\n",
       "    <tr>\n",
       "      <th>4</th>\n",
       "      <td>2008_000028</td>\n",
       "      <td>0.001359</td>\n",
       "      <td>0.000340</td>\n",
       "      <td>0.001359</td>\n",
       "      <td>0.000340</td>\n",
       "      <td>0.001359</td>\n",
       "      <td>0.002038</td>\n",
       "      <td>0.002378</td>\n",
       "      <td>0.000000</td>\n",
       "      <td>0.003397</td>\n",
       "      <td>...</td>\n",
       "      <td>0</td>\n",
       "      <td>0</td>\n",
       "      <td>0</td>\n",
       "      <td>0</td>\n",
       "      <td>0</td>\n",
       "      <td>0</td>\n",
       "      <td>0</td>\n",
       "      <td>0</td>\n",
       "      <td>0</td>\n",
       "      <td>0</td>\n",
       "    </tr>\n",
       "    <tr>\n",
       "      <th>5</th>\n",
       "      <td>2008_000033</td>\n",
       "      <td>0.000000</td>\n",
       "      <td>0.006324</td>\n",
       "      <td>0.000372</td>\n",
       "      <td>0.000372</td>\n",
       "      <td>0.000372</td>\n",
       "      <td>0.000372</td>\n",
       "      <td>0.000744</td>\n",
       "      <td>0.008185</td>\n",
       "      <td>0.000372</td>\n",
       "      <td>...</td>\n",
       "      <td>0</td>\n",
       "      <td>0</td>\n",
       "      <td>0</td>\n",
       "      <td>0</td>\n",
       "      <td>0</td>\n",
       "      <td>0</td>\n",
       "      <td>0</td>\n",
       "      <td>0</td>\n",
       "      <td>0</td>\n",
       "      <td>0</td>\n",
       "    </tr>\n",
       "    <tr>\n",
       "      <th>6</th>\n",
       "      <td>2008_000036</td>\n",
       "      <td>0.000340</td>\n",
       "      <td>0.000000</td>\n",
       "      <td>0.004416</td>\n",
       "      <td>0.000340</td>\n",
       "      <td>0.000679</td>\n",
       "      <td>0.006114</td>\n",
       "      <td>0.001359</td>\n",
       "      <td>0.002717</td>\n",
       "      <td>0.003057</td>\n",
       "      <td>...</td>\n",
       "      <td>0</td>\n",
       "      <td>0</td>\n",
       "      <td>0</td>\n",
       "      <td>0</td>\n",
       "      <td>0</td>\n",
       "      <td>1</td>\n",
       "      <td>0</td>\n",
       "      <td>0</td>\n",
       "      <td>0</td>\n",
       "      <td>0</td>\n",
       "    </tr>\n",
       "    <tr>\n",
       "      <th>7</th>\n",
       "      <td>2008_000037</td>\n",
       "      <td>0.000837</td>\n",
       "      <td>0.002232</td>\n",
       "      <td>0.000279</td>\n",
       "      <td>0.000279</td>\n",
       "      <td>0.000837</td>\n",
       "      <td>0.000000</td>\n",
       "      <td>0.000279</td>\n",
       "      <td>0.006696</td>\n",
       "      <td>0.000000</td>\n",
       "      <td>...</td>\n",
       "      <td>0</td>\n",
       "      <td>0</td>\n",
       "      <td>0</td>\n",
       "      <td>0</td>\n",
       "      <td>0</td>\n",
       "      <td>0</td>\n",
       "      <td>0</td>\n",
       "      <td>0</td>\n",
       "      <td>0</td>\n",
       "      <td>0</td>\n",
       "    </tr>\n",
       "    <tr>\n",
       "      <th>8</th>\n",
       "      <td>2008_000041</td>\n",
       "      <td>0.002378</td>\n",
       "      <td>0.001359</td>\n",
       "      <td>0.004755</td>\n",
       "      <td>0.001019</td>\n",
       "      <td>0.003736</td>\n",
       "      <td>0.001359</td>\n",
       "      <td>0.001019</td>\n",
       "      <td>0.004076</td>\n",
       "      <td>0.003397</td>\n",
       "      <td>...</td>\n",
       "      <td>0</td>\n",
       "      <td>1</td>\n",
       "      <td>0</td>\n",
       "      <td>0</td>\n",
       "      <td>0</td>\n",
       "      <td>1</td>\n",
       "      <td>0</td>\n",
       "      <td>0</td>\n",
       "      <td>0</td>\n",
       "      <td>0</td>\n",
       "    </tr>\n",
       "    <tr>\n",
       "      <th>9</th>\n",
       "      <td>2008_000045</td>\n",
       "      <td>0.001019</td>\n",
       "      <td>0.000340</td>\n",
       "      <td>0.006454</td>\n",
       "      <td>0.001698</td>\n",
       "      <td>0.001359</td>\n",
       "      <td>0.003736</td>\n",
       "      <td>0.000000</td>\n",
       "      <td>0.004076</td>\n",
       "      <td>0.000000</td>\n",
       "      <td>...</td>\n",
       "      <td>0</td>\n",
       "      <td>0</td>\n",
       "      <td>0</td>\n",
       "      <td>0</td>\n",
       "      <td>0</td>\n",
       "      <td>0</td>\n",
       "      <td>0</td>\n",
       "      <td>0</td>\n",
       "      <td>0</td>\n",
       "      <td>0</td>\n",
       "    </tr>\n",
       "  </tbody>\n",
       "</table>\n",
       "<p>10 rows × 520 columns</p>\n",
       "</div>"
      ],
      "text/plain": [
       "         imgId      dim1      dim2      dim3      dim4      dim5      dim6  \\\n",
       "0  2008_000008  0.002232  0.000558  0.002790  0.000837  0.001674  0.001953   \n",
       "1  2008_000015  0.001563  0.000391  0.007422  0.003516  0.003906  0.005078   \n",
       "2  2008_000019  0.000521  0.000000  0.000000  0.001042  0.001563  0.005729   \n",
       "3  2008_000023  0.002976  0.002232  0.004464  0.000372  0.000372  0.002232   \n",
       "4  2008_000028  0.001359  0.000340  0.001359  0.000340  0.001359  0.002038   \n",
       "5  2008_000033  0.000000  0.006324  0.000372  0.000372  0.000372  0.000372   \n",
       "6  2008_000036  0.000340  0.000000  0.004416  0.000340  0.000679  0.006114   \n",
       "7  2008_000037  0.000837  0.002232  0.000279  0.000279  0.000837  0.000000   \n",
       "8  2008_000041  0.002378  0.001359  0.004755  0.001019  0.003736  0.001359   \n",
       "9  2008_000045  0.001019  0.000340  0.006454  0.001698  0.001359  0.003736   \n",
       "\n",
       "       dim7      dim8      dim9      ...       is_cow  is_diningtable  is_dog  \\\n",
       "0  0.001395  0.002232  0.003627      ...            0               0       0   \n",
       "1  0.001953  0.002344  0.001953      ...            0               0       0   \n",
       "2  0.000521  0.002083  0.003646      ...            0               0       1   \n",
       "3  0.000000  0.003720  0.000000      ...            0               0       0   \n",
       "4  0.002378  0.000000  0.003397      ...            0               0       0   \n",
       "5  0.000744  0.008185  0.000372      ...            0               0       0   \n",
       "6  0.001359  0.002717  0.003057      ...            0               0       0   \n",
       "7  0.000279  0.006696  0.000000      ...            0               0       0   \n",
       "8  0.001019  0.004076  0.003397      ...            0               1       0   \n",
       "9  0.000000  0.004076  0.000000      ...            0               0       0   \n",
       "\n",
       "   is_horse  is_motorbike  is_person  is_pottedplant  is_sheep  is_sofa  \\\n",
       "0         1             0          1               0         0        0   \n",
       "1         0             0          0               0         0        0   \n",
       "2         0             0          0               0         0        0   \n",
       "3         0             0          1               0         0        0   \n",
       "4         0             0          0               0         0        0   \n",
       "5         0             0          0               0         0        0   \n",
       "6         0             0          1               0         0        0   \n",
       "7         0             0          0               0         0        0   \n",
       "8         0             0          1               0         0        0   \n",
       "9         0             0          0               0         0        0   \n",
       "\n",
       "   is_tvmonitor  \n",
       "0             0  \n",
       "1             0  \n",
       "2             0  \n",
       "3             1  \n",
       "4             0  \n",
       "5             0  \n",
       "6             0  \n",
       "7             0  \n",
       "8             0  \n",
       "9             0  \n",
       "\n",
       "[10 rows x 520 columns]"
      ]
     },
     "execution_count": 5,
     "metadata": {},
     "output_type": "execute_result"
    }
   ],
   "source": [
    "#Displaying first 10 instances in training dataset\n",
    "train_A.head(10)"
   ]
  },
  {
   "cell_type": "code",
   "execution_count": 6,
   "metadata": {},
   "outputs": [
    {
     "data": {
      "text/html": [
       "<div>\n",
       "<style>\n",
       "    .dataframe thead tr:only-child th {\n",
       "        text-align: right;\n",
       "    }\n",
       "\n",
       "    .dataframe thead th {\n",
       "        text-align: left;\n",
       "    }\n",
       "\n",
       "    .dataframe tbody tr th {\n",
       "        vertical-align: top;\n",
       "    }\n",
       "</style>\n",
       "<table border=\"1\" class=\"dataframe\">\n",
       "  <thead>\n",
       "    <tr style=\"text-align: right;\">\n",
       "      <th></th>\n",
       "      <th>dim1</th>\n",
       "      <th>dim2</th>\n",
       "      <th>dim3</th>\n",
       "      <th>dim4</th>\n",
       "      <th>dim5</th>\n",
       "      <th>dim6</th>\n",
       "      <th>dim7</th>\n",
       "      <th>dim8</th>\n",
       "      <th>dim9</th>\n",
       "      <th>dim10</th>\n",
       "      <th>...</th>\n",
       "      <th>is_cow</th>\n",
       "      <th>is_diningtable</th>\n",
       "      <th>is_dog</th>\n",
       "      <th>is_horse</th>\n",
       "      <th>is_motorbike</th>\n",
       "      <th>is_person</th>\n",
       "      <th>is_pottedplant</th>\n",
       "      <th>is_sheep</th>\n",
       "      <th>is_sofa</th>\n",
       "      <th>is_tvmonitor</th>\n",
       "    </tr>\n",
       "  </thead>\n",
       "  <tbody>\n",
       "    <tr>\n",
       "      <th>count</th>\n",
       "      <td>10.000000</td>\n",
       "      <td>10.000000</td>\n",
       "      <td>10.000000</td>\n",
       "      <td>10.000000</td>\n",
       "      <td>10.000000</td>\n",
       "      <td>10.000000</td>\n",
       "      <td>10.000000</td>\n",
       "      <td>10.000000</td>\n",
       "      <td>10.000000</td>\n",
       "      <td>10.000000</td>\n",
       "      <td>...</td>\n",
       "      <td>10.0</td>\n",
       "      <td>10.000000</td>\n",
       "      <td>10.000000</td>\n",
       "      <td>10.000000</td>\n",
       "      <td>10.0</td>\n",
       "      <td>10.000000</td>\n",
       "      <td>10.0</td>\n",
       "      <td>10.0</td>\n",
       "      <td>10.0</td>\n",
       "      <td>10.000000</td>\n",
       "    </tr>\n",
       "    <tr>\n",
       "      <th>mean</th>\n",
       "      <td>0.001323</td>\n",
       "      <td>0.001378</td>\n",
       "      <td>0.003231</td>\n",
       "      <td>0.000981</td>\n",
       "      <td>0.001586</td>\n",
       "      <td>0.002861</td>\n",
       "      <td>0.000965</td>\n",
       "      <td>0.003613</td>\n",
       "      <td>0.001945</td>\n",
       "      <td>0.002949</td>\n",
       "      <td>...</td>\n",
       "      <td>0.0</td>\n",
       "      <td>0.100000</td>\n",
       "      <td>0.100000</td>\n",
       "      <td>0.100000</td>\n",
       "      <td>0.0</td>\n",
       "      <td>0.400000</td>\n",
       "      <td>0.0</td>\n",
       "      <td>0.0</td>\n",
       "      <td>0.0</td>\n",
       "      <td>0.100000</td>\n",
       "    </tr>\n",
       "    <tr>\n",
       "      <th>std</th>\n",
       "      <td>0.000967</td>\n",
       "      <td>0.001930</td>\n",
       "      <td>0.002671</td>\n",
       "      <td>0.001001</td>\n",
       "      <td>0.001267</td>\n",
       "      <td>0.002186</td>\n",
       "      <td>0.000809</td>\n",
       "      <td>0.002370</td>\n",
       "      <td>0.001667</td>\n",
       "      <td>0.002110</td>\n",
       "      <td>...</td>\n",
       "      <td>0.0</td>\n",
       "      <td>0.316228</td>\n",
       "      <td>0.316228</td>\n",
       "      <td>0.316228</td>\n",
       "      <td>0.0</td>\n",
       "      <td>0.516398</td>\n",
       "      <td>0.0</td>\n",
       "      <td>0.0</td>\n",
       "      <td>0.0</td>\n",
       "      <td>0.316228</td>\n",
       "    </tr>\n",
       "    <tr>\n",
       "      <th>min</th>\n",
       "      <td>0.000000</td>\n",
       "      <td>0.000000</td>\n",
       "      <td>0.000000</td>\n",
       "      <td>0.000279</td>\n",
       "      <td>0.000372</td>\n",
       "      <td>0.000000</td>\n",
       "      <td>0.000000</td>\n",
       "      <td>0.000000</td>\n",
       "      <td>0.000000</td>\n",
       "      <td>0.000000</td>\n",
       "      <td>...</td>\n",
       "      <td>0.0</td>\n",
       "      <td>0.000000</td>\n",
       "      <td>0.000000</td>\n",
       "      <td>0.000000</td>\n",
       "      <td>0.0</td>\n",
       "      <td>0.000000</td>\n",
       "      <td>0.0</td>\n",
       "      <td>0.0</td>\n",
       "      <td>0.0</td>\n",
       "      <td>0.000000</td>\n",
       "    </tr>\n",
       "    <tr>\n",
       "      <th>25%</th>\n",
       "      <td>0.000600</td>\n",
       "      <td>0.000340</td>\n",
       "      <td>0.000619</td>\n",
       "      <td>0.000348</td>\n",
       "      <td>0.000719</td>\n",
       "      <td>0.001507</td>\n",
       "      <td>0.000340</td>\n",
       "      <td>0.002260</td>\n",
       "      <td>0.000093</td>\n",
       "      <td>0.001762</td>\n",
       "      <td>...</td>\n",
       "      <td>0.0</td>\n",
       "      <td>0.000000</td>\n",
       "      <td>0.000000</td>\n",
       "      <td>0.000000</td>\n",
       "      <td>0.0</td>\n",
       "      <td>0.000000</td>\n",
       "      <td>0.0</td>\n",
       "      <td>0.0</td>\n",
       "      <td>0.0</td>\n",
       "      <td>0.000000</td>\n",
       "    </tr>\n",
       "    <tr>\n",
       "      <th>50%</th>\n",
       "      <td>0.001189</td>\n",
       "      <td>0.000474</td>\n",
       "      <td>0.003603</td>\n",
       "      <td>0.000605</td>\n",
       "      <td>0.001359</td>\n",
       "      <td>0.002135</td>\n",
       "      <td>0.000882</td>\n",
       "      <td>0.003219</td>\n",
       "      <td>0.002505</td>\n",
       "      <td>0.002645</td>\n",
       "      <td>...</td>\n",
       "      <td>0.0</td>\n",
       "      <td>0.000000</td>\n",
       "      <td>0.000000</td>\n",
       "      <td>0.000000</td>\n",
       "      <td>0.0</td>\n",
       "      <td>0.000000</td>\n",
       "      <td>0.0</td>\n",
       "      <td>0.0</td>\n",
       "      <td>0.0</td>\n",
       "      <td>0.000000</td>\n",
       "    </tr>\n",
       "    <tr>\n",
       "      <th>75%</th>\n",
       "      <td>0.002065</td>\n",
       "      <td>0.002014</td>\n",
       "      <td>0.004682</td>\n",
       "      <td>0.001036</td>\n",
       "      <td>0.001646</td>\n",
       "      <td>0.004743</td>\n",
       "      <td>0.001386</td>\n",
       "      <td>0.004076</td>\n",
       "      <td>0.003397</td>\n",
       "      <td>0.004755</td>\n",
       "      <td>...</td>\n",
       "      <td>0.0</td>\n",
       "      <td>0.000000</td>\n",
       "      <td>0.000000</td>\n",
       "      <td>0.000000</td>\n",
       "      <td>0.0</td>\n",
       "      <td>1.000000</td>\n",
       "      <td>0.0</td>\n",
       "      <td>0.0</td>\n",
       "      <td>0.0</td>\n",
       "      <td>0.000000</td>\n",
       "    </tr>\n",
       "    <tr>\n",
       "      <th>max</th>\n",
       "      <td>0.002976</td>\n",
       "      <td>0.006324</td>\n",
       "      <td>0.007422</td>\n",
       "      <td>0.003516</td>\n",
       "      <td>0.003906</td>\n",
       "      <td>0.006114</td>\n",
       "      <td>0.002378</td>\n",
       "      <td>0.008185</td>\n",
       "      <td>0.003646</td>\n",
       "      <td>0.006138</td>\n",
       "      <td>...</td>\n",
       "      <td>0.0</td>\n",
       "      <td>1.000000</td>\n",
       "      <td>1.000000</td>\n",
       "      <td>1.000000</td>\n",
       "      <td>0.0</td>\n",
       "      <td>1.000000</td>\n",
       "      <td>0.0</td>\n",
       "      <td>0.0</td>\n",
       "      <td>0.0</td>\n",
       "      <td>1.000000</td>\n",
       "    </tr>\n",
       "  </tbody>\n",
       "</table>\n",
       "<p>8 rows × 519 columns</p>\n",
       "</div>"
      ],
      "text/plain": [
       "            dim1       dim2       dim3       dim4       dim5       dim6  \\\n",
       "count  10.000000  10.000000  10.000000  10.000000  10.000000  10.000000   \n",
       "mean    0.001323   0.001378   0.003231   0.000981   0.001586   0.002861   \n",
       "std     0.000967   0.001930   0.002671   0.001001   0.001267   0.002186   \n",
       "min     0.000000   0.000000   0.000000   0.000279   0.000372   0.000000   \n",
       "25%     0.000600   0.000340   0.000619   0.000348   0.000719   0.001507   \n",
       "50%     0.001189   0.000474   0.003603   0.000605   0.001359   0.002135   \n",
       "75%     0.002065   0.002014   0.004682   0.001036   0.001646   0.004743   \n",
       "max     0.002976   0.006324   0.007422   0.003516   0.003906   0.006114   \n",
       "\n",
       "            dim7       dim8       dim9      dim10      ...       is_cow  \\\n",
       "count  10.000000  10.000000  10.000000  10.000000      ...         10.0   \n",
       "mean    0.000965   0.003613   0.001945   0.002949      ...          0.0   \n",
       "std     0.000809   0.002370   0.001667   0.002110      ...          0.0   \n",
       "min     0.000000   0.000000   0.000000   0.000000      ...          0.0   \n",
       "25%     0.000340   0.002260   0.000093   0.001762      ...          0.0   \n",
       "50%     0.000882   0.003219   0.002505   0.002645      ...          0.0   \n",
       "75%     0.001386   0.004076   0.003397   0.004755      ...          0.0   \n",
       "max     0.002378   0.008185   0.003646   0.006138      ...          0.0   \n",
       "\n",
       "       is_diningtable     is_dog   is_horse  is_motorbike  is_person  \\\n",
       "count       10.000000  10.000000  10.000000          10.0  10.000000   \n",
       "mean         0.100000   0.100000   0.100000           0.0   0.400000   \n",
       "std          0.316228   0.316228   0.316228           0.0   0.516398   \n",
       "min          0.000000   0.000000   0.000000           0.0   0.000000   \n",
       "25%          0.000000   0.000000   0.000000           0.0   0.000000   \n",
       "50%          0.000000   0.000000   0.000000           0.0   0.000000   \n",
       "75%          0.000000   0.000000   0.000000           0.0   1.000000   \n",
       "max          1.000000   1.000000   1.000000           0.0   1.000000   \n",
       "\n",
       "       is_pottedplant  is_sheep  is_sofa  is_tvmonitor  \n",
       "count            10.0      10.0     10.0     10.000000  \n",
       "mean              0.0       0.0      0.0      0.100000  \n",
       "std               0.0       0.0      0.0      0.316228  \n",
       "min               0.0       0.0      0.0      0.000000  \n",
       "25%               0.0       0.0      0.0      0.000000  \n",
       "50%               0.0       0.0      0.0      0.000000  \n",
       "75%               0.0       0.0      0.0      0.000000  \n",
       "max               0.0       0.0      0.0      1.000000  \n",
       "\n",
       "[8 rows x 519 columns]"
      ]
     },
     "execution_count": 6,
     "metadata": {},
     "output_type": "execute_result"
    }
   ],
   "source": [
    "#Inspecting the first 10 instances in the training dataset. \n",
    "train_A.head(10).describe()"
   ]
  },
  {
   "cell_type": "markdown",
   "metadata": {},
   "source": [
    "### ========== Question 1.3 --- [1 mark] ==========\n",
    "Select the attributes (i.e. input features) for training our classifiers. These should be the visual word normalised counts `dim1, dim2, ..., dim500`. Create a list of the **names** of the attributes of interest. "
   ]
  },
  {
   "cell_type": "code",
   "execution_count": 7,
   "metadata": {},
   "outputs": [],
   "source": [
    "#Turn all of the attribute column labels into a list\n",
    "attributes = list(train_A)[1:501]"
   ]
  },
  {
   "cell_type": "code",
   "execution_count": 8,
   "metadata": {},
   "outputs": [
    {
     "name": "stdout",
     "output_type": "stream",
     "text": [
      "To check I have all the attributes and only the attributes, I can confirm that my first attribute is ['dim1']and my last attribute is ['dim500']\n"
     ]
    }
   ],
   "source": [
    "print(\"To check I have all the attributes and only the attributes, I can confirm that my first attribute is \" \n",
    "      + str(attributes[:1]) + \"and my last attribute is \" + str(attributes[499:]))"
   ]
  },
  {
   "cell_type": "markdown",
   "metadata": {},
   "source": [
    "### ========== Question 1.4 --- [1 mark] ==========\n",
    "By using the list from Question 1.3 now create 4 numpy arrays `X_tr`, `X_val`, `y_tr` and `y_val` in which to store the training features, validation features, training targets, and validation targets, respectively. Your target vectors should correspond to the `is_person` attribute of the training and validation sets. Display the dimensionalities (i.e shapes) of the 4 arrays. \n",
    "\n",
    "Check this carefully - you will be penalised in following questions if the data is not correct!"
   ]
  },
  {
   "cell_type": "code",
   "execution_count": 9,
   "metadata": {},
   "outputs": [
    {
     "name": "stdout",
     "output_type": "stream",
     "text": [
      "The shape of the array storing the training features is(2093, 500)\n"
     ]
    }
   ],
   "source": [
    "X_tr = train_A[attributes]\n",
    "print(\"The shape of the array storing the training features is\" +str(X_tr.shape))"
   ]
  },
  {
   "cell_type": "code",
   "execution_count": 10,
   "metadata": {},
   "outputs": [
    {
     "name": "stdout",
     "output_type": "stream",
     "text": [
      "The shape of the array storing the validation features is(1113, 500)\n"
     ]
    }
   ],
   "source": [
    "X_val = valid_A[attributes]\n",
    "print(\"The shape of the array storing the validation features is\" +str(X_val.shape))"
   ]
  },
  {
   "cell_type": "code",
   "execution_count": 11,
   "metadata": {},
   "outputs": [
    {
     "name": "stdout",
     "output_type": "stream",
     "text": [
      "The shape of the array storing the training targets is(2093,)\n"
     ]
    }
   ],
   "source": [
    "y_tr = train_A[\"is_person\"]\n",
    "print(\"The shape of the array storing the training targets is\" +str(y_tr.shape))"
   ]
  },
  {
   "cell_type": "code",
   "execution_count": 12,
   "metadata": {},
   "outputs": [
    {
     "name": "stdout",
     "output_type": "stream",
     "text": [
      "The shape of the array storing the validation targets is(1113,)\n"
     ]
    }
   ],
   "source": [
    "y_val = valid_A[\"is_person\"]\n",
    "print(\"The shape of the array storing the validation targets is\" +str(y_val.shape))"
   ]
  },
  {
   "cell_type": "markdown",
   "metadata": {},
   "source": [
    "### ========== Question 1.5 --- [2 marks] ==========\n",
    "Create a [countplots](https://seaborn.github.io/generated/seaborn.countplot.html?highlight=countplot#seaborn.countplot) for the training and validation targets. Create a single figure, and put the two plots inside the single figure. Label axes appropriately and add a title to your plot. Use descriptive `xticklabels` instead of the default numeric ones."
   ]
  },
  {
   "cell_type": "code",
   "execution_count": 13,
   "metadata": {},
   "outputs": [
    {
     "data": {
      "image/png": "[encoded data removed]",
      "text/plain": [
       "<matplotlib.figure.Figure at 0x7fb00f577c90>"
      ]
     },
     "metadata": {},
     "output_type": "display_data"
    }
   ],
   "source": [
    "#Creating a figure with 2 subplots\n",
    "fig, (ax1, ax2) = plt.subplots(1,2, figsize=(8,4))\n",
    "plt.suptitle(\"Countplots to show the target distributions\\n\")\n",
    "\n",
    "#Training set subplot\n",
    "sns.countplot(y_tr, ax=ax1, facecolor=(0, 0, 0, 0), linewidth=5, edgecolor=sns.color_palette(\"pastel\"))\n",
    "ax1.set_title(\"Training targets\", size=10)\n",
    "ax1.set_xlabel(\"Presence of person in picture\")\n",
    "plt.setp(ax1, xticklabels=[\"no person\", \"person\"])\n",
    "\n",
    "#Validation set subplot\n",
    "sns.countplot(y_val, ax=ax2, facecolor=(0, 0, 0, 0), linewidth=5, edgecolor=sns.color_palette(\"pastel\"))\n",
    "ax2.set_title(\"Validation targets\", size=10)\n",
    "ax2.set_xlabel(\"Presence of person in picture\")\n",
    "ax2.set_ylabel(\"\")\n",
    "plt.setp(ax2, xticklabels=[\"no person\", \"person\"])\n",
    "\n",
    "plt.show()"
   ]
  },
  {
   "cell_type": "markdown",
   "metadata": {},
   "source": [
    "### ========== Question 1.6 --- [1 mark] ==========\n",
    "We want to make a baseline classification accuracy to beat. Pick a baseline \"dummy\" classifier, describe in a sentence why you chose it, and report the accuracy it achieves on the validation set?"
   ]
  },
  {
   "cell_type": "markdown",
   "metadata": {},
   "source": [
    "From the countplots in question 1.5, I can see that there is more often not a person in a picture than a person being in a picture (the mode for the training data, and coincidentally the validation data, is 'no person'), and therefore the most simple baseline I can think of is just to always classify a picture as having no person in it. This will be my dummy classifier. "
   ]
  },
  {
   "cell_type": "code",
   "execution_count": 14,
   "metadata": {},
   "outputs": [
    {
     "name": "stdout",
     "output_type": "stream",
     "text": [
      "The accuracy of the dummy classifier I have chosen on the validation set is 0.526504941599\n"
     ]
    }
   ],
   "source": [
    "# Create a an array of '0's representing no person in picture that is as big as the matrix for the true values\n",
    "# of is_person for the validation set. \n",
    "predictNoPerson = np.full(fill_value=0, shape=valid_A[\"is_person\"].shape)\n",
    "\n",
    "#Test the accuracy of the dummy classifier on the validation set\n",
    "dummyAccuracyValidationSet = accuracy_score(y_val, predictNoPerson)\n",
    "\n",
    "print(\"The accuracy of the dummy classifier I have chosen on the validation set is \" \n",
    "                                                      + str(dummyAccuracyValidationSet))"
   ]
  },
  {
   "cell_type": "markdown",
   "metadata": {},
   "source": [
    "### ========== Question 1.7 --- [3 marks] ==========\n",
    "Train a [`LogisticRegression`](http://scikit-learn.org/0.17/modules/generated/sklearn.linear_model.LogisticRegression.html) classifier using default settings, except for the `solver` parameter which you should set to `lbfgs`. Report the classification accuracy score on the training and validation sets and compare with the baseline. Comment on the results with 1-2 sentences. You may include any additional plot(s) if you wish to justify your explanation."
   ]
  },
  {
   "cell_type": "code",
   "execution_count": 15,
   "metadata": {},
   "outputs": [
    {
     "name": "stdout",
     "output_type": "stream",
     "text": [
      "The accuracy score on the training set is 0.55088389871\n",
      "The accuracy score on the validation set is 0.526504941599\n"
     ]
    }
   ],
   "source": [
    "#Initialise logistic regression \n",
    "logistic = LogisticRegression(solver='lbfgs')\n",
    "\n",
    "#Fit logistic regression classifier to training data\n",
    "logistic.fit(X_tr, y_tr)\n",
    "\n",
    "#Print accuracy scores\n",
    "print(\"The accuracy score on the training set is \" + str(logistic.score(X_tr, y_tr)))\n",
    "print(\"The accuracy score on the validation set is \" + str(logistic.score(X_val, y_val)))"
   ]
  },
  {
   "cell_type": "markdown",
   "metadata": {},
   "source": [
    "Immediately I notice something. The accuracy score for the validation set is exactly the same as the accuracy score I got using my dummy classifier in question 1.6. This means that the logistic regression classifier is also always predicted the outcome as 'no' person, at least for the validation set. Let me investigate further below. \n"
   ]
  },
  {
   "cell_type": "code",
   "execution_count": 16,
   "metadata": {
    "scrolled": true
   },
   "outputs": [
    {
     "data": {
      "image/png": "[encoded data removed]",
      "text/plain": [
       "<matplotlib.figure.Figure at 0x7fb00f5ade90>"
      ]
     },
     "metadata": {},
     "output_type": "display_data"
    }
   ],
   "source": [
    "#Create a figure with two subplots\n",
    "fig, (ax1, ax2) = plt.subplots(1,2, figsize=(8,4))\n",
    "fig.subplots_adjust(wspace=0.4)\n",
    "\n",
    "#Scatter plot of real is_person vs predicted for training data\n",
    "ax1.scatter(y_tr, logistic.predict(X_tr))\n",
    "ax1.set_title(\"Scatter plot showing real values for\\n is_person verson predicted for the\\n\"\n",
    "             +\"training set using logistic regression\")\n",
    "ax1.set_xlabel(\"Real values for is_person\")\n",
    "ax1.set_ylabel(\"Predicted values for is_person\")\n",
    "plt.setp(ax1, xticklabels=[\"\", \"no person\", \"\", \"\", \"\", \"\", \"person\"])\n",
    "plt.setp(ax1, yticklabels=[\"\", \"\", \"\", \"\", \"no person\"])\n",
    "\n",
    "#Countplot of distribution of logistic regression predictions for training data\n",
    "sns.countplot(logistic.predict(X_tr), ax=ax2, palette=\"Set3\")\n",
    "ax2.set_title(\"Countplot showing the distribution for \\nthe logistic regression predictions \\non the training data\")\n",
    "plt.setp(ax2, xticklabels=[\"no person\"])\n",
    "plt.show()"
   ]
  },
  {
   "cell_type": "markdown",
   "metadata": {},
   "source": [
    "These two plots show me that, yes, the logistic regression classifier always predicts 'no person' for the training data, which is what my dummy classifier is doing."
   ]
  },
  {
   "cell_type": "code",
   "execution_count": 17,
   "metadata": {},
   "outputs": [
    {
     "data": {
      "image/png": "[encoded data removed]",
      "text/plain": [
       "<matplotlib.figure.Figure at 0x7fb00f44fdd0>"
      ]
     },
     "metadata": {},
     "output_type": "display_data"
    }
   ],
   "source": [
    "#Create a figure with two subplots\n",
    "fig, (ax1, ax2) = plt.subplots(1,2, figsize=(8,4))\n",
    "fig.subplots_adjust(wspace=0.4)\n",
    "\n",
    "#Scatter plot of real is_person vs predicted for validation data\n",
    "ax1.scatter(y_val, logistic.predict(X_val))\n",
    "ax1.set_title(\"Scatter plot showing real values for\\n is_person verson predicted for the\\n\"\n",
    "             +\"validation set using logistic regression\")\n",
    "ax1.set_xlabel(\"Real values for is_person\")\n",
    "ax1.set_ylabel(\"Predicted values for is_person\")\n",
    "plt.setp(ax1, xticklabels=[\"\", \"no person\", \"\", \"\", \"\", \"\", \"person\"])\n",
    "plt.setp(ax1, yticklabels=[\"\", \"\", \"\", \"\", \"no person\"])\n",
    "\n",
    "#Countplot of distribution of logistic regression predictions for validation data\n",
    "sns.countplot(logistic.predict(X_val), ax=ax2, palette=\"Set3\")\n",
    "ax2.set_title(\"Countplot showing the distribution for \\nthe logistic regression predictions \\non the validation data\")\n",
    "ax2.set_xlabel(\"No person\")\n",
    "plt.show()"
   ]
  },
  {
   "cell_type": "markdown",
   "metadata": {},
   "source": [
    "These plots show me that, as I expected, the logistic regression classifier is always predicting the result as 'no person' for any set. Since the logistic regression classifier is not better than my dummy baseline classifier, I do not think that it is a good classifier at all. I get the same results using my basline classifier so it would be illogical to use logistic regression which is more complicated when it does not increase the accuracy at all. "
   ]
  },
  {
   "cell_type": "markdown",
   "metadata": {},
   "source": [
    "### ========== Question 1.8 --- [1 mark] ==========\n",
    "Display the means and standard deviations of the first 5 features in the training set. *Hint: you want to compute the means and standard deviations across the columns of your arrays. Make sure you make appropriate use of the `axis` parameter.*"
   ]
  },
  {
   "cell_type": "code",
   "execution_count": 18,
   "metadata": {},
   "outputs": [
    {
     "name": "stdout",
     "output_type": "stream",
     "text": [
      "Means of the first 5 features in the training set:\n"
     ]
    },
    {
     "data": {
      "text/plain": [
       "dim1    0.001751\n",
       "dim2    0.000756\n",
       "dim3    0.004317\n",
       "dim4    0.001853\n",
       "dim5    0.002272\n",
       "dtype: float64"
      ]
     },
     "execution_count": 18,
     "metadata": {},
     "output_type": "execute_result"
    }
   ],
   "source": [
    "print(\"Means of the first 5 features in the training set:\")\n",
    "np.mean(X_tr, axis=0)[:5]"
   ]
  },
  {
   "cell_type": "code",
   "execution_count": 19,
   "metadata": {},
   "outputs": [
    {
     "name": "stdout",
     "output_type": "stream",
     "text": [
      "Standard deviations of the first 5 features in the training set:\n"
     ]
    },
    {
     "data": {
      "text/plain": [
       "dim1    0.001193\n",
       "dim2    0.001406\n",
       "dim3    0.003693\n",
       "dim4    0.001340\n",
       "dim5    0.001598\n",
       "dtype: float64"
      ]
     },
     "execution_count": 19,
     "metadata": {},
     "output_type": "execute_result"
    }
   ],
   "source": [
    "print(\"Standard deviations of the first 5 features in the training set:\")\n",
    "np.std(X_tr, axis=0)[:5]"
   ]
  },
  {
   "cell_type": "markdown",
   "metadata": {},
   "source": [
    "### ========== Question 1.9 --- [3 marks] ==========\n",
    "Feature standardisation is a pre-processing technique used to transform data so that they have zero mean and unit standard deviation. For many algorithms, this is a very important step for training models (both regression and classification). Read about [feature standardisation](http://scikit-learn.org/0.17/modules/preprocessing.html) and make sure you understand what kind of transformation this method applies to the data.\n",
    "\n",
    "`Scikit-learn` offers a [class](http://scikit-learn.org/0.17/modules/generated/sklearn.preprocessing.StandardScaler.html) for feature standardisation. Instansiate a StandardScaler object and fit it using the **training features**. Use this fitted object to transform both your training and validation features to have a standard scale. \n",
    "\n",
    "Once your training and validation input data have been transformed, display the means and standard deviations of the first 5 attributes for **both** the training and validation sets. Are the results as you expected? Explain your answer in 2-3 sentences. Why didn't we use the validation set to standardise the data?\n",
    "\n",
    "**IMPORTANT: You should use the transformed data for the rest of this part.**"
   ]
  },
  {
   "cell_type": "code",
   "execution_count": 20,
   "metadata": {},
   "outputs": [],
   "source": [
    "scaled = StandardScaler()\n",
    "scaled.fit(X_tr)\n",
    "X_tr=(scaled.transform(X_tr))\n",
    "X_val=(scaled.transform(X_val))"
   ]
  },
  {
   "cell_type": "code",
   "execution_count": 21,
   "metadata": {},
   "outputs": [
    {
     "name": "stdout",
     "output_type": "stream",
     "text": [
      "The means for the first 5 attributes for the transformed training set are:\n",
      "[ -3.39485301e-17  -2.20665446e-17   2.44429417e-16   1.42583827e-16\n",
      "  -5.77125012e-17]\n",
      "\n",
      " The standard deviations for the first 5 attributes for the transformed training set are:\n",
      "[ 1.  1.  1.  1.  1.]\n",
      "\n",
      "\n",
      "The means for the first 5 attributes for the transformed validation set are:\n",
      "[-0.00550612 -0.0382933   0.10915098  0.09369314  0.03057844]\n",
      "\n",
      "The standard deviations for the first 5 attributes for the transformed validation set are:\n",
      "[ 1.01310886  0.96981949  1.0492285   1.05684479  0.97471336]\n"
     ]
    }
   ],
   "source": [
    "print(\"The means for the first 5 attributes for the transformed training set are:\\n\" +str(np.mean(X_tr, axis=0)[0:5]))\n",
    "\n",
    "print(\"\\n The standard deviations for the first 5 attributes for the transformed training set are:\\n\" +\n",
    "      str(np.std(X_tr, axis=0)[0:5]))\n",
    "\n",
    "print(\"\\n\\nThe means for the first 5 attributes for the transformed validation set are:\\n\" +\n",
    "      str(np.mean(X_val, axis=0)[0:5]))\n",
    "\n",
    "print(\"\\nThe standard deviations for the first 5 attributes for the transformed validation set are:\\n\" +\n",
    "      str(np.std(X_val, axis=0)[0:5]))"
   ]
  },
  {
   "cell_type": "markdown",
   "metadata": {},
   "source": [
    "My results are pretty close to what I expected. I expected my training set mean to be around 0, which it was, and standard deviation to be 1, which it is exactly, for at least the first five features. I would also expect my validation set mean to be around 0 and standard deviation to be around 1, but not quite as close to these numbers as the training set (this is also what I observed for the first five features as shown above), as I fitted using the training set not the validation set. \n",
    "\n",
    "We didn't use the validation set to standardise the data because we want to train our model on the training data (not the validation data - we only use this to tweak out parameters for our model), so we need to standardise the training data in order to train a model on it."
   ]
  },
  {
   "cell_type": "markdown",
   "metadata": {},
   "source": [
    "### ========== Question 1.10 --- [3 marks] ==========\n",
    "By using the transformed input data, train a new `LogisticRegression` classifier. Again, set the `solver` parameter to `lbfgs` and use default settings for the other parameters. Report the classification accuracy on both the training and validation sets.\n",
    "\n",
    "Comment on how your model compares to the baseline classifier from Question 1.6? You may use additional plot(s) to support your explanation."
   ]
  },
  {
   "cell_type": "code",
   "execution_count": 22,
   "metadata": {},
   "outputs": [
    {
     "name": "stdout",
     "output_type": "stream",
     "text": [
      "The accuracy score on the training set is 0.810797897754\n",
      "The accuracy score on the validation set is 0.643306379155\n"
     ]
    }
   ],
   "source": [
    "#Initialise logistic regression \n",
    "logistic2 = LogisticRegression(solver='lbfgs')\n",
    "\n",
    "#Fit logistic regression classifier to training data\n",
    "logistic2.fit(X_tr, y_tr)\n",
    "\n",
    "#Print accuracy scores\n",
    "print(\"The accuracy score on the training set is \" + str(logistic2.score(X_tr, y_tr)))\n",
    "print(\"The accuracy score on the validation set is \" + str(logistic2.score(X_val, y_val)))"
   ]
  },
  {
   "cell_type": "markdown",
   "metadata": {},
   "source": [
    "In question 1.6, using the dummy classifier of always predicting 'no person', I got an accuracy of 0.526504941599 on the validation set. Using my logistic regression classifier in this question, I get a better accuracy of ~0.650 on the validation set and ~0.81 on the training set. This is because my classifier is not just always predicting 'no person', but instead correctly classifies more images than the dummy classifier does. \n",
    "\n",
    "The countplots below show that the logistic regression classifier classifies about the right amount of 'no person' and 'person' images, however it does not necessarily classify them correctly (it may classify some with 'no person' as 'person', but overall manages to end up with a countplot showing the right distribution anyway), so this plot is not that helpful to try and see the accuracy. I will explain further below. "
   ]
  },
  {
   "cell_type": "code",
   "execution_count": 23,
   "metadata": {},
   "outputs": [
    {
     "data": {
      "image/png": "[encoded data removed]",
      "text/plain": [
       "<matplotlib.figure.Figure at 0x7fb00edfd950>"
      ]
     },
     "metadata": {},
     "output_type": "display_data"
    }
   ],
   "source": [
    "#Create a figure with two subplots\n",
    "fig, (ax1, ax2) = plt.subplots(1,2, sharey=True, figsize=(8,4))\n",
    "fig.subplots_adjust(hspace=1.4)\n",
    "\n",
    "#Training set subplot\n",
    "sns.countplot(y_val, ax=ax1, palette=\"Set2\")\n",
    "ax1.set_title(\"Validation targets\")\n",
    "ax1.set_xlabel(\"Presence of person in picture\")\n",
    "plt.setp(ax1, xticklabels=[\"no person\", \"person\"])\n",
    "\n",
    "\n",
    "#Countplot of distribution of logistic regression predictions for training data\n",
    "sns.countplot(logistic2.predict(X_val), ax=ax2, palette=\"Set2\")\n",
    "ax2.set_title(\"Countplot showing the distribution for \\nthe logistic regression predictions \\non the validation data\")\n",
    "plt.setp(ax2, xticklabels=[\"no person\", \"person\"])\n",
    "\n",
    "plt.show()"
   ]
  },
  {
   "cell_type": "markdown",
   "metadata": {},
   "source": [
    "The stripplots below show that generally images with no person are classified as such (solid colour in the bottom left hand of the plot), but occasionally they are classified as having a person (less solid colour in the top left area of the plot), and vice versa for images with a person. "
   ]
  },
  {
   "cell_type": "code",
   "execution_count": 24,
   "metadata": {
    "scrolled": true
   },
   "outputs": [
    {
     "data": {
      "image/png": "[encoded data removed]",
      "text/plain": [
       "<matplotlib.figure.Figure at 0x7fb00e4e28d0>"
      ]
     },
     "metadata": {},
     "output_type": "display_data"
    }
   ],
   "source": [
    "#Stripplot visualising correctly and incorrectly classified images for validation set using logistic model\n",
    "ax0 = sns.stripplot(y_val, logistic2.predict(X_val), jitter=True, size=20, alpha=0.01)\n",
    "ax0.set_xlabel(\"True label\")\n",
    "ax0.set_ylabel(\"Logistic regression classifier prediction\")\n",
    "ax0.set_title(\"Stripplot to visualise how often images in validation set are classified correctly \\nusing logistic model\")\n",
    "plt.setp(ax0, xticklabels=[\"no person\", \"person\"])\n",
    "plt.setp(ax0, yticklabels=[\"\", \"no person\", \"\", \"\", \"\", \"\", \"person\"])\n",
    "\n",
    "plt.show()"
   ]
  },
  {
   "cell_type": "markdown",
   "metadata": {},
   "source": [
    "The stripplot below shows that the dummy classifier only ever classifies images as 'no person' and that the amount of images that really have a person are often classified as no person (seen by the solid colour of orange). "
   ]
  },
  {
   "cell_type": "code",
   "execution_count": 25,
   "metadata": {},
   "outputs": [
    {
     "data": {
      "image/png": "[encoded data removed]",
      "text/plain": [
       "<matplotlib.figure.Figure at 0x7fb00e420810>"
      ]
     },
     "metadata": {},
     "output_type": "display_data"
    }
   ],
   "source": [
    "#Stripplot visualising correctly and incorrectly classified images for validation set using dummy model\n",
    "ax2 = sns.stripplot(y_val, predictNoPerson, jitter=True, size=20, alpha=0.01)\n",
    "ax2.set_xlabel(\"True label\")\n",
    "ax2.set_ylabel(\"Dummy classifier prediction\")\n",
    "ax2.set_title(\"Stripplot to visualise how often images in validation set are classified correctly \\nusing dummy classifier\")\n",
    "plt.setp(ax2, xticklabels=[\"no person\", \"person\"])\n",
    "plt.setp(ax2, yticklabels=[\"\", \"\", \"\", \"no person\"])\n",
    "plt.show()"
   ]
  },
  {
   "cell_type": "markdown",
   "metadata": {},
   "source": [
    "The accuracy scores show that the logistic classifier performs better than the baseline in terms of accuracy, and the plots help to explain why."
   ]
  },
  {
   "cell_type": "markdown",
   "metadata": {},
   "source": [
    "### ========== Question 1.11 --- [1 mark] ==========\n",
    "So far we have used default settings for training the logistic regression classifier. Now, we want to use [K-fold cross-validation](http://scikit-learn.org/0.17/modules/generated/sklearn.cross_validation.KFold.html) to optimise the regularisation parameter `C`. The regularisation parameter controls the degree to which we wish to penalise large magnitudes in the weight vector. This can help us prevent overfitting but, if set too high, could lead us to underfit too.\n",
    "\n",
    "Create a 3-fold cross-validation object. Set the `shuffle` parameter to `True` and the `random_state` to `0`. By using the cross-validation iterator, display the number of test samples for each fold."
   ]
  },
  {
   "cell_type": "code",
   "execution_count": 26,
   "metadata": {},
   "outputs": [
    {
     "name": "stdout",
     "output_type": "stream",
     "text": [
      "\n",
      "\n",
      "The number of validation (test) samples in fold 1 is: 698\n",
      "\n",
      "\n",
      "\n",
      "The number of validation (test) samples in fold 2 is: 698\n",
      "\n",
      "\n",
      "\n",
      "The number of validation (test) samples in fold 3 is: 697\n",
      "\n"
     ]
    }
   ],
   "source": [
    "#Make a 3-cross-validation object\n",
    "kfold = KFold(n_splits=3, shuffle=True, random_state=0)\n",
    "\n",
    "#Print training and validation indices for auto_numeric dataset\n",
    "def noSamplesinFolds(data):\n",
    "    i=0\n",
    "    for train_index, validation_index in kfold.split(data):\n",
    "        print(\"\\n\\nThe number of validation (test) samples in fold {} is: {}\\n\". format(i+1, len(validation_index)))\n",
    "        i=i+1\n",
    "\n",
    "noSamplesinFolds(X_tr)"
   ]
  },
  {
   "cell_type": "markdown",
   "metadata": {},
   "source": [
    "### ========== Question 1.12 --- [3 marks] ========== \n",
    "Using the cross-validation iterator from the previous question, perform a search for the best value for `C`. \n",
    "\n",
    "We are going to loop over each CV fold, and each value of `C`. The values of `C` to search should be 20 equally-spaced values **in log space** ranging from `1e-5` to `1e5` *(hint: look at the `logspace()` function in numpy)*. \n",
    "\n",
    "Create a 2-dimensional array and, for each cross-validation fold and parameter setting pair, compute and store the classification accuracy score e.g. store the score of fold 0 with parameter setting 1 at score_array[0,1]. As previously, set the `solver` parameter to `lbfgs` and use default settings for the other parameters (except for `C` obviously!).\n",
    "\n",
    "*(hint: you could use two loops in your code; one iterating over CV folds and another one iterating over the values for `C`)*. "
   ]
  },
  {
   "cell_type": "code",
   "execution_count": 27,
   "metadata": {
    "scrolled": true
   },
   "outputs": [],
   "source": [
    "#Create C values\n",
    "C = np.logspace(-5, 5, 20, base=10.0) \n",
    "\n",
    "#Create zero matrix with correct dimensions\n",
    "Matrix = [[0 for x in range(len(C))] for y in range(kfold.n_splits)] \n",
    "\n",
    "#i will be a counter for the folds\n",
    "i=0\n",
    "\n",
    "#Use loops to train a new logistic regression for each C value within each fold and save its accuracy in \n",
    "#appropriate place in Matrix\n",
    "for train_index, validation_index in kfold.split(X_tr):\n",
    "    for cindex, cvalue in enumerate(C):\n",
    "        logistic3 = LogisticRegression(solver='lbfgs', C=cvalue)\n",
    "        logistic3.fit(X_tr[train_index], y_tr[train_index])\n",
    "        Matrix[i][cindex] = accuracy_score(y_tr[validation_index], logistic3.predict(X_tr[validation_index]))\n",
    "    i=i+1 "
   ]
  },
  {
   "cell_type": "code",
   "execution_count": 28,
   "metadata": {},
   "outputs": [
    {
     "data": {
      "text/plain": [
       "[[0.57306590257879653,\n",
       "  0.62893982808022919,\n",
       "  0.66762177650429799,\n",
       "  0.67191977077363896,\n",
       "  0.68767908309455583,\n",
       "  0.69627507163323787,\n",
       "  0.67478510028653294,\n",
       "  0.67048710601719197,\n",
       "  0.65329512893982811,\n",
       "  0.65902578796561606,\n",
       "  0.65902578796561606,\n",
       "  0.65329512893982811,\n",
       "  0.64899713467048714,\n",
       "  0.64613180515759316,\n",
       "  0.64613180515759316,\n",
       "  0.64899713467048714,\n",
       "  0.64613180515759316,\n",
       "  0.64613180515759316,\n",
       "  0.64899713467048714,\n",
       "  0.64899713467048714],\n",
       " [0.54584527220630374,\n",
       "  0.63180515759312317,\n",
       "  0.69484240687679089,\n",
       "  0.71919770773638969,\n",
       "  0.72922636103151861,\n",
       "  0.73495702005730656,\n",
       "  0.70200573065902583,\n",
       "  0.67478510028653294,\n",
       "  0.6547277936962751,\n",
       "  0.63610315186246413,\n",
       "  0.63180515759312317,\n",
       "  0.63323782234957016,\n",
       "  0.62607449856733521,\n",
       "  0.6275071633237822,\n",
       "  0.6275071633237822,\n",
       "  0.62607449856733521,\n",
       "  0.62607449856733521,\n",
       "  0.62607449856733521,\n",
       "  0.6275071633237822,\n",
       "  0.62607449856733521],\n",
       " [0.54806312769010046,\n",
       "  0.63558106169296991,\n",
       "  0.642754662840746,\n",
       "  0.65566714490674316,\n",
       "  0.68005738880918221,\n",
       "  0.70014347202295557,\n",
       "  0.68149210903873747,\n",
       "  0.67001434720229558,\n",
       "  0.66284074605451937,\n",
       "  0.64418938307030127,\n",
       "  0.63271162123385938,\n",
       "  0.62553802008608317,\n",
       "  0.62410329985652802,\n",
       "  0.62410329985652802,\n",
       "  0.62410329985652802,\n",
       "  0.62410329985652802,\n",
       "  0.62410329985652802,\n",
       "  0.62410329985652802,\n",
       "  0.62410329985652802,\n",
       "  0.62410329985652802]]"
      ]
     },
     "execution_count": 28,
     "metadata": {},
     "output_type": "execute_result"
    }
   ],
   "source": [
    "#Have a look at Matrix to ensure it looks reasonable\n",
    "Matrix"
   ]
  },
  {
   "cell_type": "markdown",
   "metadata": {},
   "source": [
    "### ========== Question 1.13 --- [1 mark] ========== \n",
    "Plot the mean classification performance (across CV folds) of the logistic regression classifier against the regularisation parameter `C` by using the range from Question 1.12. Use a logarithmic scale for the x-axis and label both axes appropriately. "
   ]
  },
  {
   "cell_type": "code",
   "execution_count": 29,
   "metadata": {},
   "outputs": [],
   "source": [
    "meanAccuracy = np.mean(Matrix, axis=0)"
   ]
  },
  {
   "cell_type": "code",
   "execution_count": 30,
   "metadata": {
    "scrolled": true
   },
   "outputs": [
    {
     "data": {
      "image/png": "[encoded data removed]",
      "text/plain": [
       "<matplotlib.figure.Figure at 0x7fb00ee4f690>"
      ]
     },
     "metadata": {},
     "output_type": "display_data"
    }
   ],
   "source": [
    "#Plot of C against mean accuracy ac\n",
    "plt.scatter(C, meanAccuracy, marker=\"X\", color='m')\n",
    "plt.xscale('log')\n",
    "plt.xlim([0.000005, 200000])\n",
    "plt.title('Scatter plot of C against the mean accuracy across the three folds')\n",
    "plt.xlabel('Value of C')\n",
    "plt.ylabel('Mean accuracy')\n",
    "plt.show()"
   ]
  },
  {
   "cell_type": "markdown",
   "metadata": {},
   "source": [
    "### ========== Question 1.14 --- [2 marks] ==========\n",
    "Display the optimal value for the regularisation parameter `C` determined by the search results from Question 1.12. Similarly to Question 1.13, consider the mean classifiation accuracy across CV folds. By using the optimal value (i.e. the one that yields the highest average classification accuracy) train a new `LogisticRegression` classifier and report the classification accuracy on the validation set. *(Hint: Do not pick the optimal value \"by hand\", instead use an appropriate numpy function).*"
   ]
  },
  {
   "cell_type": "code",
   "execution_count": 31,
   "metadata": {},
   "outputs": [
    {
     "name": "stdout",
     "output_type": "stream",
     "text": [
      "The optimal value of C determined by question 1.13 is 0.00428133239872 and the accuracy score using a logistic regression with this C value is 0.696316262354\n"
     ]
    }
   ],
   "source": [
    "#get the index of the maximum mean accuracy, then use this to find corresponding C value\n",
    "maxIndexC1 = np.argmax(meanAccuracy)\n",
    "optimalC = C[maxIndexC1]\n",
    "\n",
    "#Train new logistic regression using optimal C value\n",
    "logistic4 = LogisticRegression(solver='lbfgs', C=C[np.argmax(meanAccuracy)])\n",
    "logistic4.fit(X_tr, y_tr)\n",
    "\n",
    "\n",
    "print(\"The optimal value of C determined by question 1.13 is \" + str(optimalC) +\n",
    "     \" and the accuracy score using a logistic regression with this C value is \" + \n",
    "      str(accuracy_score(y_val, logistic4.predict(X_val)) ))"
   ]
  },
  {
   "cell_type": "markdown",
   "metadata": {},
   "source": [
    "### ========== Question 1.15 --- [1 mark] ========== \n",
    "Scikit-learn offers a [`LogisticRegressionCV`](http://scikit-learn.org/0.17/modules/generated/sklearn.linear_model.LogisticRegressionCV.html) module which implements Logistic Regression with builtin cross-validation to find out the optimal `C` parameter. You can specify the range for the `C` parameter, as well as the cross-validation method you want to use with the `Cs` and `cv` parameters, respectively. Use the `C` range you set up in Question 1.12 and the 3-fold cross-validation iterator from Question 1.11. Once again, train the models by using the `lbfgs` optimisation method and display the optimal value for the parameter `C`. Finally, display the classification accuracy on the validation set. Check your results are consistent with those from Question 1.14!"
   ]
  },
  {
   "cell_type": "code",
   "execution_count": 32,
   "metadata": {},
   "outputs": [
    {
     "name": "stdout",
     "output_type": "stream",
     "text": [
      "The LogisticRegressionCV model chose the best value of C as [ 0.00428133]. The classification accuracy on the validation set is 0.696316262354, which matches my values in 1.14.\n"
     ]
    }
   ],
   "source": [
    "logisticCV1 = LogisticRegressionCV(Cs=C, cv=kfold, solver='lbfgs')\n",
    "logisticCV1.fit(X_tr, y_tr)\n",
    "\n",
    "print(\"The LogisticRegressionCV model chose the best value of C as \" + str(logisticCV1.C_) +\n",
    "      \". The classification accuracy on the validation set is \" + str(logisticCV1.score(X_val, y_val))\n",
    "      + \", which matches my values in 1.14.\")"
   ]
  },
  {
   "cell_type": "markdown",
   "metadata": {},
   "source": [
    "### ========== Question 1.16 --- [1 mark] ==========\n",
    "Now, we want to validate the importance of various features for classification. For this purpose, we will use a [`RandomForestClassifier`](http://scikit-learn.org/0.17/modules/generated/sklearn.ensemble.RandomForestClassifier.html) (you might want to refer to Lab_3 if you are unsure how we can estimate feature importances with decision tree and random forest models).\n",
    "\n",
    "Initialise a random forest classifier and fit the model by using training data only and 500 trees (i.e. `n_estimators`). Set the `RandomState` equal to 42 to ensure reproducible results. Report the accuracy score on both the training and validation sets."
   ]
  },
  {
   "cell_type": "code",
   "execution_count": 33,
   "metadata": {},
   "outputs": [],
   "source": [
    "randomForest1 = RandomForestClassifier(n_estimators=500, random_state=42)\n",
    "randomForest1.fit(X_tr, y_tr)\n",
    "RF1trainingScore = randomForest1.score(X_tr, y_tr)\n",
    "RF1valScore = randomForest1.score(X_val, y_val)"
   ]
  },
  {
   "cell_type": "code",
   "execution_count": 34,
   "metadata": {},
   "outputs": [
    {
     "name": "stdout",
     "output_type": "stream",
     "text": [
      "accuracy of the random forest classifier on the training set: 1.0 \n",
      "accuracy on the validation set: 0.692722371968\n"
     ]
    }
   ],
   "source": [
    "print(\"accuracy of the random forest classifier on the training set: {} \\naccuracy on the validation set: {}\".format(RF1trainingScore, RF1valScore))  "
   ]
  },
  {
   "cell_type": "markdown",
   "metadata": {},
   "source": [
    "### ========== Question 1.17 --- [2 marks] ==========\n",
    "Comment on the results above. Do you find the discrepancy between training and validation accuracies surprising?"
   ]
  },
  {
   "cell_type": "markdown",
   "metadata": {},
   "source": [
    "The accuracy on the training set is almost perfect (it has been rounded to 1.0) and then the accuracy on the validation set is a fair bit lower at around 0.693. This is a fairly big difference, but it isn't that surprising. Random forest classifiers are supposed to try and reduce overfitting, but if n_estimators (number of trees) is too low, or max_depth is  not specified, then this can lead to overfitting. As I can see below, when I introduce a max_depth and prune, then there is no longer such a large discrepency and the accuracy on the training set is not overfit as it is no longer a perfect 1.0.\n"
   ]
  },
  {
   "cell_type": "code",
   "execution_count": 35,
   "metadata": {},
   "outputs": [
    {
     "name": "stdout",
     "output_type": "stream",
     "text": [
      "accuracy of the random forest classifier on the training set: 0.767319636885 \n",
      "accuracy on the validation set: 0.672955974843\n"
     ]
    }
   ],
   "source": [
    "randomForest1 = RandomForestClassifier(n_estimators=500, random_state=42, max_depth=4)\n",
    "randomForest1.fit(X_tr, y_tr)\n",
    "RF1trainingScore = randomForest1.score(X_tr, y_tr)\n",
    "RF1valScore = randomForest1.score(X_val, y_val)\n",
    "print(\"accuracy of the random forest classifier on the training set: {} \\naccuracy on the validation set: {}\".format(RF1trainingScore, RF1valScore))  "
   ]
  },
  {
   "cell_type": "markdown",
   "metadata": {},
   "source": [
    "### ========== Question 1.18 --- [2 marks] ==========\n",
    "By using the random forest model from the previous question order the features by descending importance and display the names of the 50 most important features."
   ]
  },
  {
   "cell_type": "code",
   "execution_count": 36,
   "metadata": {},
   "outputs": [
    {
     "name": "stdout",
     "output_type": "stream",
     "text": [
      "The 50 most important features in descending order of importance are:\n",
      "\n",
      "['dim21' 'dim360' 'dim76' 'dim461' 'dim4' 'dim51' 'dim479' 'dim283'\n",
      " 'dim263' 'dim343' 'dim356' 'dim74' 'dim348' 'dim398' 'dim214' 'dim485'\n",
      " 'dim217' 'dim222' 'dim347' 'dim134' 'dim254' 'dim274' 'dim90' 'dim312'\n",
      " 'dim442' 'dim326' 'dim423' 'dim92' 'dim154' 'dim330' 'dim427' 'dim288'\n",
      " 'dim322' 'dim96' 'dim353' 'dim440' 'dim77' 'dim153' 'dim54' 'dim271'\n",
      " 'dim329' 'dim48' 'dim483' 'dim73' 'dim289' 'dim500' 'dim25' 'dim430'\n",
      " 'dim315' 'dim17']\n"
     ]
    }
   ],
   "source": [
    "#Get the feature importances (a proportion representing how important each feature is)\n",
    "importances = randomForest1.feature_importances_\n",
    "\n",
    "#Get the indices of the feature importances from most important to least \n",
    "descendingImportanceIndices = np.argsort(-importances)\n",
    "\n",
    "#change attributes to numpy array so we can index it using another list\n",
    "attributes = np.array(attributes)\n",
    "\n",
    "print(\"The 50 most important features in descending order of importance are:\\n\\n\" +\n",
    "      str(attributes[descendingImportanceIndices][:50]))"
   ]
  },
  {
   "cell_type": "markdown",
   "metadata": {},
   "source": [
    "### ========== Question 1.19 --- [3 marks] ==========\n",
    "Next, we would like to test the performance of support vector machines. Train three support vector classifiers with the following kernels: linear, radial basis function, and polynomial. Report the classification accuracy of each of the three classifiers on both the training and validation sets."
   ]
  },
  {
   "cell_type": "code",
   "execution_count": 37,
   "metadata": {},
   "outputs": [
    {
     "name": "stdout",
     "output_type": "stream",
     "text": [
      "Classification accuracies:\n",
      "SVC with linear kernal on training data:0.842331581462\n",
      "SVC with linear kernal on validation data:0.638814016173\n",
      "\n",
      "\n",
      "SVC with rbf kernal on training data:0.910654562828\n",
      "SVC with rbf kernal on validation data:0.729559748428\n",
      "\n",
      "\n",
      "SVC with poly kernal on training data:0.990922121357\n",
      "SVC with poly kernal on validation data:0.701707097934\n"
     ]
    }
   ],
   "source": [
    "#Train three models\n",
    "\n",
    "#N.B. could also have used LinearSVC as this is supposed to be more stable, but in fact I got worse scores so decided to \n",
    "#stick with kernel='linear\n",
    "svc_linear = SVC(kernel='linear')\n",
    "svc_linear.fit(X_tr, y_tr)\n",
    "\n",
    "svc_rbf = SVC(kernel='rbf')\n",
    "svc_rbf.fit(X_tr, y_tr)\n",
    "\n",
    "svc_poly = SVC(kernel='poly')\n",
    "svc_poly.fit(X_tr, y_tr)\n",
    "\n",
    "print(\"Classification accuracies:\")\n",
    "print(\"SVC with linear kernal on training data:\" + str(svc_linear.score(X_tr, y_tr)))\n",
    "print(\"SVC with linear kernal on validation data:\" + str(svc_linear.score(X_val, y_val)))\n",
    "\n",
    "print(\"\\n\\nSVC with rbf kernal on training data:\" + str(svc_rbf.score(X_tr, y_tr)))\n",
    "print(\"SVC with rbf kernal on validation data:\" + str(svc_rbf.score(X_val, y_val)))\n",
    "\n",
    "print(\"\\n\\nSVC with poly kernal on training data:\" + str(svc_poly.score(X_tr, y_tr)))\n",
    "print(\"SVC with poly kernal on validation data:\" + str(svc_poly.score(X_val, y_val)))"
   ]
  },
  {
   "cell_type": "markdown",
   "metadata": {},
   "source": [
    "### ========== Question 1.20 --- [3 marks] ==========\n",
    "At this point, we would like to get an idea of what kind of decision boundaries we can get with the three types of SVM kernels we introduced in the previous question. For visualisation, however, we can only make use of 2D input data. For this purpose, we select to use the 21st and 76th columns of our training features (*hint: remember that Python uses 0-based indexing*). \n",
    "\n",
    "Execute the cell below to define a useful function which we will be using to plot the decision boundaries *(it is also not a bad idea to try to understand what this functions does)*. \n",
    "\n",
    "Then train three distinct SVM classifiers by using the 2D input data mentioned above and default parameters:\n",
    "* a linear SVC\n",
    "* an RBF SVC \n",
    "* a polynomial SVC\n",
    "\n",
    "Finally, create a list containing the three classifiers you have just trained. Use this list as an input to the provided function along with the used training features and observe the outcome. You can use the additional `title` parameter to set the titles in the subplots. Comment on the shape of the boundaries and what this means for classification accuracy in 1-2 sentences.\n",
    "\n",
    "*(Acknowledgement: this Question has been heavily based on [this example](http://scikit-learn.org/0.17/auto_examples/svm/plot_iris.html) from scikit-learn's documentation.)*"
   ]
  },
  {
   "cell_type": "code",
   "execution_count": 38,
   "metadata": {},
   "outputs": [],
   "source": [
    "def show_svc_decision_boundaries(clfs, X, title=None):\n",
    "    \"\"\"Plots decision boundaries for classifiers with 2D inputs.\n",
    "    \n",
    "    Parameters\n",
    "    ----------\n",
    "    clf : list\n",
    "        Classifiers for which decision boundaries will be displayed.\n",
    "    X : array\n",
    "        Input features used to train the classifiers.\n",
    "    title : list, optional\n",
    "        Titles for classifiers.\n",
    "    \n",
    "    \"\"\"\n",
    "    \n",
    "    assert X.shape[1] == 2 # Input should be 2D\n",
    "    if title is not None:\n",
    "        assert len(clfs) == len(title)\n",
    "    \n",
    "    h = .04 # step size in the mesh\n",
    "    x_min, x_max = X[:, 0].min() - 1, X[:, 0].max() + 1\n",
    "    y_min, y_max = X[:, 1].min() - 1, X[:, 1].max() + 1\n",
    "    xx, yy = np.meshgrid(np.arange(x_min, x_max, h),\n",
    "                         np.arange(y_min, y_max, h))\n",
    "    plt.figure(figsize=(15,5))\n",
    "    for i, clf in enumerate(clfs):\n",
    "        plt.subplot(1, len(clfs), i + 1)\n",
    "        plt.subplots_adjust(wspace=0.4, hspace=0.4)\n",
    "        Z = clf.predict(np.c_[xx.ravel(), yy.ravel()])\n",
    "        Z = Z.reshape(xx.shape)\n",
    "        plt.contourf(xx, yy, Z, cmap=plt.cm.Paired, alpha=0.8)\n",
    "        # Training points\n",
    "        plt.scatter(X[:, 0], X[:, 1], c=y_tr, cmap=plt.cm.Paired)\n",
    "        plt.xlabel('Feature 1')\n",
    "        plt.ylabel('Feature 2')\n",
    "        plt.xlim(xx.min(), xx.max())\n",
    "        plt.ylim(yy.min(), yy.max())\n",
    "        plt.xticks(())\n",
    "        plt.yticks(())\n",
    "        if title is not None:\n",
    "            plt.title(title[i])"
   ]
  },
  {
   "cell_type": "code",
   "execution_count": 39,
   "metadata": {},
   "outputs": [],
   "source": [
    "#Select the two training feature columns \n",
    "twoDtrainingColumns = [20,75]\n",
    "\n",
    "\n",
    "#Fit the 3 models\n",
    "svc_linear2 = SVC(kernel='linear')\n",
    "svc_linear2.fit(X_tr[:, twoDtrainingColumns], y_tr)\n",
    "\n",
    "svc_rbf2 = SVC(kernel='rbf')\n",
    "svc_rbf2.fit(X_tr[:, twoDtrainingColumns], y_tr)\n",
    "\n",
    "svc_poly2 = SVC(kernel='poly')\n",
    "svc_poly2.fit(X_tr[:, twoDtrainingColumns], y_tr)\n",
    "\n",
    "\n",
    "#Put the three models into a list so it can be passed into the function given in the question\n",
    "classifiersList = [svc_linear2, svc_rbf2, svc_poly2]\n"
   ]
  },
  {
   "cell_type": "code",
   "execution_count": 40,
   "metadata": {},
   "outputs": [
    {
     "name": "stdout",
     "output_type": "stream",
     "text": [
      "The SVC classifier with the polynomial kernal chose the decision boundary for the 2D data as a function with degree 3\n"
     ]
    }
   ],
   "source": [
    "#For my own understanding, see what degree of polynomial the poly kernel classifier \n",
    "#selected to choose boundaries \n",
    "print(\"The SVC classifier with the polynomial kernal chose the decision boundary for the 2D \" +\n",
    "      \"data as a function with degree \" + str(svc_poly2.degree))"
   ]
  },
  {
   "cell_type": "code",
   "execution_count": 41,
   "metadata": {
    "scrolled": true
   },
   "outputs": [
    {
     "data": {
      "image/png": "[encoded data removed]",
      "text/plain": [
       "<matplotlib.figure.Figure at 0x7fb00e386910>"
      ]
     },
     "metadata": {},
     "output_type": "display_data"
    }
   ],
   "source": [
    "#Plot decision boundaries\n",
    "show_svc_decision_boundaries(classifiersList, X_tr[:, twoDtrainingColumns], \n",
    "                             title=['Decision boundary using linear SVC', \n",
    "                                    'Decision boundary using rbf SVC', \n",
    "                                    'Decision boundary using polynomial SVC'])"
   ]
  },
  {
   "cell_type": "markdown",
   "metadata": {},
   "source": [
    "The linear decision boundary of the linear SVC is, of course, a line. This is not very good for classification accuracy here because as we can see, the data cannot naturally be separated into classes by a straight line, so even with a best fitted line, many points will still be incorrectly classified. \n",
    "\n",
    "The decision boundaries using rbf and polynomial kernels are both more curved around the data. The rbf kernel's is almost like little hills and does a fairly good job of separating the data and so has a good accuracy. The decision boundary with the polynomial SVC is a cubic graph in 2D. It separates the data well for the training set. From looking at it visually, the rbf kernel classifier seems to be very slightly overfitting, so the training accuracy will be good, and most likely slightly better than the classifier with the rbf kernel, but when it comes to the validation set, the accuracy may not be as good as the classifier using the polynomial kernel. "
   ]
  },
  {
   "cell_type": "markdown",
   "metadata": {},
   "source": [
    "### ========== Question 1.21 --- [5 marks] ==========\n",
    "So far we have used default parameters for training the SVM classifiers. Now we want to tune the parameters by using cross-validation. \n",
    "\n",
    "By using the `K-fold` iterator from Question 1.11 and training data only, estimate the classification accuracy of an SVM classifier with RBF kernel, while you vary the penalty parameter `C` in a logarithmic range `np.logspace(-2, 3, 10)`. Set the kernel coefficient parameter `gamma` to `auto` for this question. \n",
    "\n",
    "Plot the mean cross-validated classification accuracy against the regularisation parameter `C` by using a log-scale for the x-axis. Display the highest obtained mean accuracy score and the value of `C` which yielded it. Label axes appropriately. \n",
    "\n",
    "Finally, train a classifier by using the optimal value for this parameter (without using cross-validation at this stage) and report the classification accuracy on the training and validation sets. "
   ]
  },
  {
   "cell_type": "code",
   "execution_count": 42,
   "metadata": {},
   "outputs": [],
   "source": [
    "#Define C range\n",
    "C2 = np.logspace(-2, 3, 10) \n",
    "\n",
    "#Create empty list where I will store the accuracies of the classifiers\n",
    "crossValAccuracies = []\n",
    "\n",
    "#For each C value, create a new rbf kernel SVC classifier and append the three accuracies ( one for each fold)\n",
    "#to the above list\n",
    "for cindex, cvalue in enumerate(C2):\n",
    "    svc_rbf3 = SVC(kernel='rbf', gamma='auto', C=cvalue)\n",
    "    crossValAccuracies.append(cross_val_score(svc_rbf3, X_tr, y_tr, cv=kfold))"
   ]
  },
  {
   "cell_type": "code",
   "execution_count": 43,
   "metadata": {},
   "outputs": [
    {
     "data": {
      "text/plain": [
       "[array([ 0.56017192,  0.54584527,  0.54662841]),\n",
       " array([ 0.58309456,  0.54584527,  0.54806313]),\n",
       " array([ 0.67191977,  0.69770774,  0.68579627]),\n",
       " array([ 0.70200573,  0.73782235,  0.69727403]),\n",
       " array([ 0.71346705,  0.73925501,  0.69296987]),\n",
       " array([ 0.70916905,  0.71346705,  0.68292683]),\n",
       " array([ 0.70916905,  0.71346705,  0.68292683]),\n",
       " array([ 0.70916905,  0.71346705,  0.68292683]),\n",
       " array([ 0.70916905,  0.71346705,  0.68292683]),\n",
       " array([ 0.70916905,  0.71346705,  0.68292683])]"
      ]
     },
     "execution_count": 43,
     "metadata": {},
     "output_type": "execute_result"
    }
   ],
   "source": [
    "#Take a look at the list to see that it looks reasonable\n",
    "crossValAccuracies"
   ]
  },
  {
   "cell_type": "code",
   "execution_count": 44,
   "metadata": {
    "scrolled": true
   },
   "outputs": [
    {
     "data": {
      "text/plain": [
       "array([ 0.55088187,  0.55900099,  0.68514126,  0.71236737,  0.71523064,\n",
       "        0.70185431,  0.70185431,  0.70185431,  0.70185431,  0.70185431])"
      ]
     },
     "execution_count": 44,
     "metadata": {},
     "output_type": "execute_result"
    }
   ],
   "source": [
    "meanCrossValAccuracies = np.mean(crossValAccuracies, axis=1)\n",
    "meanCrossValAccuracies"
   ]
  },
  {
   "cell_type": "code",
   "execution_count": 45,
   "metadata": {
    "scrolled": true
   },
   "outputs": [
    {
     "data": {
      "image/png": "[encoded data removed]",
      "text/plain": [
       "<matplotlib.figure.Figure at 0x7fb00f505b50>"
      ]
     },
     "metadata": {},
     "output_type": "display_data"
    }
   ],
   "source": [
    "#Plot C against mean cross val accuracy\n",
    "plt.scatter(C2, meanCrossValAccuracies, marker=\"h\", color='springgreen')\n",
    "plt.xscale('log')\n",
    "plt.xlim([0.005, 2000])\n",
    "plt.title('Scatter plot of C values against the mean cross validated classification accuracy across the three folds')\n",
    "plt.xlabel('Value of C')\n",
    "plt.ylabel('Mean cross validated classification accuracy')\n",
    "plt.show()"
   ]
  },
  {
   "cell_type": "code",
   "execution_count": 46,
   "metadata": {},
   "outputs": [
    {
     "name": "stdout",
     "output_type": "stream",
     "text": [
      "The highest mean cross validated classification accuracy was 0.715230644637\n",
      "\n",
      "The value of C with this accuracy was 1.6681005372\n"
     ]
    }
   ],
   "source": [
    "#Find max cross val accuracy and corresponding C\n",
    "maxIndexC = np.argmax(meanCrossValAccuracies)\n",
    "highestMeanAccuracy = meanCrossValAccuracies[maxIndexC]\n",
    "CValueWithHighestMeanAccuracy = C2[maxIndexC]\n",
    "\n",
    "print(\"The highest mean cross validated classification accuracy was \" + str(highestMeanAccuracy))\n",
    "print(\"\\nThe value of C with this accuracy was \" + str(CValueWithHighestMeanAccuracy))"
   ]
  },
  {
   "cell_type": "code",
   "execution_count": 47,
   "metadata": {},
   "outputs": [
    {
     "name": "stdout",
     "output_type": "stream",
     "text": [
      "After training a classifier using the optimal C,\n",
      "\n",
      " the accuracy on the training set is 0.974677496417\n",
      "\n",
      " and the accuracy on the validation set is 0.727762803235\n"
     ]
    }
   ],
   "source": [
    "#Train new classifier using optimal C\n",
    "svc_rbf9 = SVC(kernel='rbf', C=CValueWithHighestMeanAccuracy).fit(X_tr, y_tr) \n",
    "print(\"After training a classifier using the optimal C,\")\n",
    "print(\"\\n the accuracy on the training set is \" + str(svc_rbf9.score(X_tr, y_tr)))\n",
    "print(\"\\n and the accuracy on the validation set is \" + str(svc_rbf9.score(X_val, y_val)))"
   ]
  },
  {
   "cell_type": "markdown",
   "metadata": {},
   "source": [
    "### ========== Question 1.22 --- [5 marks] ==========\n",
    "Now we turn to the kernel coefficient `gamma` parameter. By using the same procedure as in the previous question, estimate the classification accuracy of an SVM classifier with RBF kernel while you vary the `gamma` parameter in a logarithmic range `logspace(-5, 0, 10)`. Fix the penalty parameter `C=1.0`.\n",
    "\n",
    "Plot the mean cross-validated classification accuracy against the parameter `gamma` by using a log-scale for the x-axis. Display the highest obtained mean accuracy score and the value of `gamma` which yielded it.  Label axes appropriately.\n",
    "\n",
    "Finally, train a classifier by using the optimal value for this parameter (without using cross-validation at this stage) and report the classification accuracy on the training and validation sets. "
   ]
  },
  {
   "cell_type": "code",
   "execution_count": 48,
   "metadata": {},
   "outputs": [
    {
     "ename": "KeyboardInterrupt",
     "evalue": "",
     "output_type": "error",
     "traceback": [
      "\u001b[0;31m---------------------------------------------------------------------------\u001b[0m",
      "\u001b[0;31mKeyboardInterrupt\u001b[0m                         Traceback (most recent call last)",
      "\u001b[0;32m<ipython-input-48-29cf9c0ab6a8>\u001b[0m in \u001b[0;36m<module>\u001b[0;34m()\u001b[0m\n\u001b[1;32m      9\u001b[0m \u001b[0;32mfor\u001b[0m \u001b[0mgindex\u001b[0m\u001b[0;34m,\u001b[0m \u001b[0mgvalue\u001b[0m \u001b[0;32min\u001b[0m \u001b[0menumerate\u001b[0m\u001b[0;34m(\u001b[0m\u001b[0mGamma\u001b[0m\u001b[0;34m)\u001b[0m\u001b[0;34m:\u001b[0m\u001b[0;34m\u001b[0m\u001b[0m\n\u001b[1;32m     10\u001b[0m     \u001b[0msvc_rbf3\u001b[0m \u001b[0;34m=\u001b[0m \u001b[0mSVC\u001b[0m\u001b[0;34m(\u001b[0m\u001b[0mkernel\u001b[0m\u001b[0;34m=\u001b[0m\u001b[0;34m'rbf'\u001b[0m\u001b[0;34m,\u001b[0m \u001b[0mgamma\u001b[0m\u001b[0;34m=\u001b[0m\u001b[0mgvalue\u001b[0m\u001b[0;34m,\u001b[0m \u001b[0mC\u001b[0m\u001b[0;34m=\u001b[0m\u001b[0;36m1.0\u001b[0m\u001b[0;34m)\u001b[0m\u001b[0;34m\u001b[0m\u001b[0m\n\u001b[0;32m---> 11\u001b[0;31m     \u001b[0mcrossValAccuraciesGamma\u001b[0m\u001b[0;34m.\u001b[0m\u001b[0mappend\u001b[0m\u001b[0;34m(\u001b[0m\u001b[0mcross_val_score\u001b[0m\u001b[0;34m(\u001b[0m\u001b[0msvc_rbf3\u001b[0m\u001b[0;34m,\u001b[0m \u001b[0mX_tr\u001b[0m\u001b[0;34m,\u001b[0m \u001b[0my_tr\u001b[0m\u001b[0;34m,\u001b[0m \u001b[0mcv\u001b[0m\u001b[0;34m=\u001b[0m\u001b[0mkfold\u001b[0m\u001b[0;34m)\u001b[0m\u001b[0;34m)\u001b[0m\u001b[0;34m\u001b[0m\u001b[0m\n\u001b[0m",
      "\u001b[0;32m/afs/inf.ed.ac.uk/user/s17/s1789372/miniconda2/envs/iaml/lib/python2.7/site-packages/sklearn/model_selection/_validation.pyc\u001b[0m in \u001b[0;36mcross_val_score\u001b[0;34m(estimator, X, y, groups, scoring, cv, n_jobs, verbose, fit_params, pre_dispatch)\u001b[0m\n\u001b[1;32m    319\u001b[0m                                 \u001b[0mn_jobs\u001b[0m\u001b[0;34m=\u001b[0m\u001b[0mn_jobs\u001b[0m\u001b[0;34m,\u001b[0m \u001b[0mverbose\u001b[0m\u001b[0;34m=\u001b[0m\u001b[0mverbose\u001b[0m\u001b[0;34m,\u001b[0m\u001b[0;34m\u001b[0m\u001b[0m\n\u001b[1;32m    320\u001b[0m                                 \u001b[0mfit_params\u001b[0m\u001b[0;34m=\u001b[0m\u001b[0mfit_params\u001b[0m\u001b[0;34m,\u001b[0m\u001b[0;34m\u001b[0m\u001b[0m\n\u001b[0;32m--> 321\u001b[0;31m                                 pre_dispatch=pre_dispatch)\n\u001b[0m\u001b[1;32m    322\u001b[0m     \u001b[0;32mreturn\u001b[0m \u001b[0mcv_results\u001b[0m\u001b[0;34m[\u001b[0m\u001b[0;34m'test_score'\u001b[0m\u001b[0;34m]\u001b[0m\u001b[0;34m\u001b[0m\u001b[0m\n\u001b[1;32m    323\u001b[0m \u001b[0;34m\u001b[0m\u001b[0m\n",
      "\u001b[0;32m/afs/inf.ed.ac.uk/user/s17/s1789372/miniconda2/envs/iaml/lib/python2.7/site-packages/sklearn/model_selection/_validation.pyc\u001b[0m in \u001b[0;36mcross_validate\u001b[0;34m(estimator, X, y, groups, scoring, cv, n_jobs, verbose, fit_params, pre_dispatch, return_train_score)\u001b[0m\n\u001b[1;32m    193\u001b[0m             \u001b[0mfit_params\u001b[0m\u001b[0;34m,\u001b[0m \u001b[0mreturn_train_score\u001b[0m\u001b[0;34m=\u001b[0m\u001b[0mreturn_train_score\u001b[0m\u001b[0;34m,\u001b[0m\u001b[0;34m\u001b[0m\u001b[0m\n\u001b[1;32m    194\u001b[0m             return_times=True)\n\u001b[0;32m--> 195\u001b[0;31m         for train, test in cv.split(X, y, groups))\n\u001b[0m\u001b[1;32m    196\u001b[0m \u001b[0;34m\u001b[0m\u001b[0m\n\u001b[1;32m    197\u001b[0m     \u001b[0;32mif\u001b[0m \u001b[0mreturn_train_score\u001b[0m\u001b[0;34m:\u001b[0m\u001b[0;34m\u001b[0m\u001b[0m\n",
      "\u001b[0;32m/afs/inf.ed.ac.uk/user/s17/s1789372/miniconda2/envs/iaml/lib/python2.7/site-packages/sklearn/externals/joblib/parallel.pyc\u001b[0m in \u001b[0;36m__call__\u001b[0;34m(self, iterable)\u001b[0m\n\u001b[1;32m    777\u001b[0m             \u001b[0;31m# was dispatched. In particular this covers the edge\u001b[0m\u001b[0;34m\u001b[0m\u001b[0;34m\u001b[0m\u001b[0m\n\u001b[1;32m    778\u001b[0m             \u001b[0;31m# case of Parallel used with an exhausted iterator.\u001b[0m\u001b[0;34m\u001b[0m\u001b[0;34m\u001b[0m\u001b[0m\n\u001b[0;32m--> 779\u001b[0;31m             \u001b[0;32mwhile\u001b[0m \u001b[0mself\u001b[0m\u001b[0;34m.\u001b[0m\u001b[0mdispatch_one_batch\u001b[0m\u001b[0;34m(\u001b[0m\u001b[0miterator\u001b[0m\u001b[0;34m)\u001b[0m\u001b[0;34m:\u001b[0m\u001b[0;34m\u001b[0m\u001b[0m\n\u001b[0m\u001b[1;32m    780\u001b[0m                 \u001b[0mself\u001b[0m\u001b[0;34m.\u001b[0m\u001b[0m_iterating\u001b[0m \u001b[0;34m=\u001b[0m \u001b[0mTrue\u001b[0m\u001b[0;34m\u001b[0m\u001b[0m\n\u001b[1;32m    781\u001b[0m             \u001b[0;32melse\u001b[0m\u001b[0;34m:\u001b[0m\u001b[0;34m\u001b[0m\u001b[0m\n",
      "\u001b[0;32m/afs/inf.ed.ac.uk/user/s17/s1789372/miniconda2/envs/iaml/lib/python2.7/site-packages/sklearn/externals/joblib/parallel.pyc\u001b[0m in \u001b[0;36mdispatch_one_batch\u001b[0;34m(self, iterator)\u001b[0m\n\u001b[1;32m    623\u001b[0m                 \u001b[0;32mreturn\u001b[0m \u001b[0mFalse\u001b[0m\u001b[0;34m\u001b[0m\u001b[0m\n\u001b[1;32m    624\u001b[0m             \u001b[0;32melse\u001b[0m\u001b[0;34m:\u001b[0m\u001b[0;34m\u001b[0m\u001b[0m\n\u001b[0;32m--> 625\u001b[0;31m                 \u001b[0mself\u001b[0m\u001b[0;34m.\u001b[0m\u001b[0m_dispatch\u001b[0m\u001b[0;34m(\u001b[0m\u001b[0mtasks\u001b[0m\u001b[0;34m)\u001b[0m\u001b[0;34m\u001b[0m\u001b[0m\n\u001b[0m\u001b[1;32m    626\u001b[0m                 \u001b[0;32mreturn\u001b[0m \u001b[0mTrue\u001b[0m\u001b[0;34m\u001b[0m\u001b[0m\n\u001b[1;32m    627\u001b[0m \u001b[0;34m\u001b[0m\u001b[0m\n",
      "\u001b[0;32m/afs/inf.ed.ac.uk/user/s17/s1789372/miniconda2/envs/iaml/lib/python2.7/site-packages/sklearn/externals/joblib/parallel.pyc\u001b[0m in \u001b[0;36m_dispatch\u001b[0;34m(self, batch)\u001b[0m\n\u001b[1;32m    586\u001b[0m         \u001b[0mdispatch_timestamp\u001b[0m \u001b[0;34m=\u001b[0m \u001b[0mtime\u001b[0m\u001b[0;34m.\u001b[0m\u001b[0mtime\u001b[0m\u001b[0;34m(\u001b[0m\u001b[0;34m)\u001b[0m\u001b[0;34m\u001b[0m\u001b[0m\n\u001b[1;32m    587\u001b[0m         \u001b[0mcb\u001b[0m \u001b[0;34m=\u001b[0m \u001b[0mBatchCompletionCallBack\u001b[0m\u001b[0;34m(\u001b[0m\u001b[0mdispatch_timestamp\u001b[0m\u001b[0;34m,\u001b[0m \u001b[0mlen\u001b[0m\u001b[0;34m(\u001b[0m\u001b[0mbatch\u001b[0m\u001b[0;34m)\u001b[0m\u001b[0;34m,\u001b[0m \u001b[0mself\u001b[0m\u001b[0;34m)\u001b[0m\u001b[0;34m\u001b[0m\u001b[0m\n\u001b[0;32m--> 588\u001b[0;31m         \u001b[0mjob\u001b[0m \u001b[0;34m=\u001b[0m \u001b[0mself\u001b[0m\u001b[0;34m.\u001b[0m\u001b[0m_backend\u001b[0m\u001b[0;34m.\u001b[0m\u001b[0mapply_async\u001b[0m\u001b[0;34m(\u001b[0m\u001b[0mbatch\u001b[0m\u001b[0;34m,\u001b[0m \u001b[0mcallback\u001b[0m\u001b[0;34m=\u001b[0m\u001b[0mcb\u001b[0m\u001b[0;34m)\u001b[0m\u001b[0;34m\u001b[0m\u001b[0m\n\u001b[0m\u001b[1;32m    589\u001b[0m         \u001b[0mself\u001b[0m\u001b[0;34m.\u001b[0m\u001b[0m_jobs\u001b[0m\u001b[0;34m.\u001b[0m\u001b[0mappend\u001b[0m\u001b[0;34m(\u001b[0m\u001b[0mjob\u001b[0m\u001b[0;34m)\u001b[0m\u001b[0;34m\u001b[0m\u001b[0m\n\u001b[1;32m    590\u001b[0m \u001b[0;34m\u001b[0m\u001b[0m\n",
      "\u001b[0;32m/afs/inf.ed.ac.uk/user/s17/s1789372/miniconda2/envs/iaml/lib/python2.7/site-packages/sklearn/externals/joblib/_parallel_backends.pyc\u001b[0m in \u001b[0;36mapply_async\u001b[0;34m(self, func, callback)\u001b[0m\n\u001b[1;32m    109\u001b[0m     \u001b[0;32mdef\u001b[0m \u001b[0mapply_async\u001b[0m\u001b[0;34m(\u001b[0m\u001b[0mself\u001b[0m\u001b[0;34m,\u001b[0m \u001b[0mfunc\u001b[0m\u001b[0;34m,\u001b[0m \u001b[0mcallback\u001b[0m\u001b[0;34m=\u001b[0m\u001b[0mNone\u001b[0m\u001b[0;34m)\u001b[0m\u001b[0;34m:\u001b[0m\u001b[0;34m\u001b[0m\u001b[0m\n\u001b[1;32m    110\u001b[0m         \u001b[0;34m\"\"\"Schedule a func to be run\"\"\"\u001b[0m\u001b[0;34m\u001b[0m\u001b[0m\n\u001b[0;32m--> 111\u001b[0;31m         \u001b[0mresult\u001b[0m \u001b[0;34m=\u001b[0m \u001b[0mImmediateResult\u001b[0m\u001b[0;34m(\u001b[0m\u001b[0mfunc\u001b[0m\u001b[0;34m)\u001b[0m\u001b[0;34m\u001b[0m\u001b[0m\n\u001b[0m\u001b[1;32m    112\u001b[0m         \u001b[0;32mif\u001b[0m \u001b[0mcallback\u001b[0m\u001b[0;34m:\u001b[0m\u001b[0;34m\u001b[0m\u001b[0m\n\u001b[1;32m    113\u001b[0m             \u001b[0mcallback\u001b[0m\u001b[0;34m(\u001b[0m\u001b[0mresult\u001b[0m\u001b[0;34m)\u001b[0m\u001b[0;34m\u001b[0m\u001b[0m\n",
      "\u001b[0;32m/afs/inf.ed.ac.uk/user/s17/s1789372/miniconda2/envs/iaml/lib/python2.7/site-packages/sklearn/externals/joblib/_parallel_backends.pyc\u001b[0m in \u001b[0;36m__init__\u001b[0;34m(self, batch)\u001b[0m\n\u001b[1;32m    330\u001b[0m         \u001b[0;31m# Don't delay the application, to avoid keeping the input\u001b[0m\u001b[0;34m\u001b[0m\u001b[0;34m\u001b[0m\u001b[0m\n\u001b[1;32m    331\u001b[0m         \u001b[0;31m# arguments in memory\u001b[0m\u001b[0;34m\u001b[0m\u001b[0;34m\u001b[0m\u001b[0m\n\u001b[0;32m--> 332\u001b[0;31m         \u001b[0mself\u001b[0m\u001b[0;34m.\u001b[0m\u001b[0mresults\u001b[0m \u001b[0;34m=\u001b[0m \u001b[0mbatch\u001b[0m\u001b[0;34m(\u001b[0m\u001b[0;34m)\u001b[0m\u001b[0;34m\u001b[0m\u001b[0m\n\u001b[0m\u001b[1;32m    333\u001b[0m \u001b[0;34m\u001b[0m\u001b[0m\n\u001b[1;32m    334\u001b[0m     \u001b[0;32mdef\u001b[0m \u001b[0mget\u001b[0m\u001b[0;34m(\u001b[0m\u001b[0mself\u001b[0m\u001b[0;34m)\u001b[0m\u001b[0;34m:\u001b[0m\u001b[0;34m\u001b[0m\u001b[0m\n",
      "\u001b[0;32m/afs/inf.ed.ac.uk/user/s17/s1789372/miniconda2/envs/iaml/lib/python2.7/site-packages/sklearn/externals/joblib/parallel.pyc\u001b[0m in \u001b[0;36m__call__\u001b[0;34m(self)\u001b[0m\n\u001b[1;32m    129\u001b[0m \u001b[0;34m\u001b[0m\u001b[0m\n\u001b[1;32m    130\u001b[0m     \u001b[0;32mdef\u001b[0m \u001b[0m__call__\u001b[0m\u001b[0;34m(\u001b[0m\u001b[0mself\u001b[0m\u001b[0;34m)\u001b[0m\u001b[0;34m:\u001b[0m\u001b[0;34m\u001b[0m\u001b[0m\n\u001b[0;32m--> 131\u001b[0;31m         \u001b[0;32mreturn\u001b[0m \u001b[0;34m[\u001b[0m\u001b[0mfunc\u001b[0m\u001b[0;34m(\u001b[0m\u001b[0;34m*\u001b[0m\u001b[0margs\u001b[0m\u001b[0;34m,\u001b[0m \u001b[0;34m**\u001b[0m\u001b[0mkwargs\u001b[0m\u001b[0;34m)\u001b[0m \u001b[0;32mfor\u001b[0m \u001b[0mfunc\u001b[0m\u001b[0;34m,\u001b[0m \u001b[0margs\u001b[0m\u001b[0;34m,\u001b[0m \u001b[0mkwargs\u001b[0m \u001b[0;32min\u001b[0m \u001b[0mself\u001b[0m\u001b[0;34m.\u001b[0m\u001b[0mitems\u001b[0m\u001b[0;34m]\u001b[0m\u001b[0;34m\u001b[0m\u001b[0m\n\u001b[0m\u001b[1;32m    132\u001b[0m \u001b[0;34m\u001b[0m\u001b[0m\n\u001b[1;32m    133\u001b[0m     \u001b[0;32mdef\u001b[0m \u001b[0m__len__\u001b[0m\u001b[0;34m(\u001b[0m\u001b[0mself\u001b[0m\u001b[0;34m)\u001b[0m\u001b[0;34m:\u001b[0m\u001b[0;34m\u001b[0m\u001b[0m\n",
      "\u001b[0;32m/afs/inf.ed.ac.uk/user/s17/s1789372/miniconda2/envs/iaml/lib/python2.7/site-packages/sklearn/model_selection/_validation.pyc\u001b[0m in \u001b[0;36m_fit_and_score\u001b[0;34m(estimator, X, y, scorer, train, test, verbose, parameters, fit_params, return_train_score, return_parameters, return_n_test_samples, return_times, error_score)\u001b[0m\n\u001b[1;32m    425\u001b[0m     \u001b[0mstart_time\u001b[0m \u001b[0;34m=\u001b[0m \u001b[0mtime\u001b[0m\u001b[0;34m.\u001b[0m\u001b[0mtime\u001b[0m\u001b[0;34m(\u001b[0m\u001b[0;34m)\u001b[0m\u001b[0;34m\u001b[0m\u001b[0m\n\u001b[1;32m    426\u001b[0m \u001b[0;34m\u001b[0m\u001b[0m\n\u001b[0;32m--> 427\u001b[0;31m     \u001b[0mX_train\u001b[0m\u001b[0;34m,\u001b[0m \u001b[0my_train\u001b[0m \u001b[0;34m=\u001b[0m \u001b[0m_safe_split\u001b[0m\u001b[0;34m(\u001b[0m\u001b[0mestimator\u001b[0m\u001b[0;34m,\u001b[0m \u001b[0mX\u001b[0m\u001b[0;34m,\u001b[0m \u001b[0my\u001b[0m\u001b[0;34m,\u001b[0m \u001b[0mtrain\u001b[0m\u001b[0;34m)\u001b[0m\u001b[0;34m\u001b[0m\u001b[0m\n\u001b[0m\u001b[1;32m    428\u001b[0m     \u001b[0mX_test\u001b[0m\u001b[0;34m,\u001b[0m \u001b[0my_test\u001b[0m \u001b[0;34m=\u001b[0m \u001b[0m_safe_split\u001b[0m\u001b[0;34m(\u001b[0m\u001b[0mestimator\u001b[0m\u001b[0;34m,\u001b[0m \u001b[0mX\u001b[0m\u001b[0;34m,\u001b[0m \u001b[0my\u001b[0m\u001b[0;34m,\u001b[0m \u001b[0mtest\u001b[0m\u001b[0;34m,\u001b[0m \u001b[0mtrain\u001b[0m\u001b[0;34m)\u001b[0m\u001b[0;34m\u001b[0m\u001b[0m\n\u001b[1;32m    429\u001b[0m \u001b[0;34m\u001b[0m\u001b[0m\n",
      "\u001b[0;32m/afs/inf.ed.ac.uk/user/s17/s1789372/miniconda2/envs/iaml/lib/python2.7/site-packages/sklearn/utils/metaestimators.pyc\u001b[0m in \u001b[0;36m_safe_split\u001b[0;34m(estimator, X, y, indices, train_indices)\u001b[0m\n\u001b[1;32m    201\u001b[0m \u001b[0;34m\u001b[0m\u001b[0m\n\u001b[1;32m    202\u001b[0m     \u001b[0;32mif\u001b[0m \u001b[0my\u001b[0m \u001b[0;32mis\u001b[0m \u001b[0;32mnot\u001b[0m \u001b[0mNone\u001b[0m\u001b[0;34m:\u001b[0m\u001b[0;34m\u001b[0m\u001b[0m\n\u001b[0;32m--> 203\u001b[0;31m         \u001b[0my_subset\u001b[0m \u001b[0;34m=\u001b[0m \u001b[0msafe_indexing\u001b[0m\u001b[0;34m(\u001b[0m\u001b[0my\u001b[0m\u001b[0;34m,\u001b[0m \u001b[0mindices\u001b[0m\u001b[0;34m)\u001b[0m\u001b[0;34m\u001b[0m\u001b[0m\n\u001b[0m\u001b[1;32m    204\u001b[0m     \u001b[0;32melse\u001b[0m\u001b[0;34m:\u001b[0m\u001b[0;34m\u001b[0m\u001b[0m\n\u001b[1;32m    205\u001b[0m         \u001b[0my_subset\u001b[0m \u001b[0;34m=\u001b[0m \u001b[0mNone\u001b[0m\u001b[0;34m\u001b[0m\u001b[0m\n",
      "\u001b[0;32m/afs/inf.ed.ac.uk/user/s17/s1789372/miniconda2/envs/iaml/lib/python2.7/site-packages/sklearn/utils/__init__.pyc\u001b[0m in \u001b[0;36msafe_indexing\u001b[0;34m(X, indices)\u001b[0m\n\u001b[1;32m    147\u001b[0m         \u001b[0;31m# Pandas Dataframes and Series\u001b[0m\u001b[0;34m\u001b[0m\u001b[0;34m\u001b[0m\u001b[0m\n\u001b[1;32m    148\u001b[0m         \u001b[0;32mtry\u001b[0m\u001b[0;34m:\u001b[0m\u001b[0;34m\u001b[0m\u001b[0m\n\u001b[0;32m--> 149\u001b[0;31m             \u001b[0;32mreturn\u001b[0m \u001b[0mX\u001b[0m\u001b[0;34m.\u001b[0m\u001b[0miloc\u001b[0m\u001b[0;34m[\u001b[0m\u001b[0mindices\u001b[0m\u001b[0;34m]\u001b[0m\u001b[0;34m\u001b[0m\u001b[0m\n\u001b[0m\u001b[1;32m    150\u001b[0m         \u001b[0;32mexcept\u001b[0m \u001b[0mValueError\u001b[0m\u001b[0;34m:\u001b[0m\u001b[0;34m\u001b[0m\u001b[0m\n\u001b[1;32m    151\u001b[0m             \u001b[0;31m# Cython typed memoryviews internally used in pandas do not support\u001b[0m\u001b[0;34m\u001b[0m\u001b[0;34m\u001b[0m\u001b[0m\n",
      "\u001b[0;32m/afs/inf.ed.ac.uk/user/s17/s1789372/miniconda2/envs/iaml/lib/python2.7/site-packages/pandas/core/indexing.pyc\u001b[0m in \u001b[0;36m__getitem__\u001b[0;34m(self, key)\u001b[0m\n\u001b[1;32m   1326\u001b[0m         \u001b[0;32melse\u001b[0m\u001b[0;34m:\u001b[0m\u001b[0;34m\u001b[0m\u001b[0m\n\u001b[1;32m   1327\u001b[0m             \u001b[0mkey\u001b[0m \u001b[0;34m=\u001b[0m \u001b[0mcom\u001b[0m\u001b[0;34m.\u001b[0m\u001b[0m_apply_if_callable\u001b[0m\u001b[0;34m(\u001b[0m\u001b[0mkey\u001b[0m\u001b[0;34m,\u001b[0m \u001b[0mself\u001b[0m\u001b[0;34m.\u001b[0m\u001b[0mobj\u001b[0m\u001b[0;34m)\u001b[0m\u001b[0;34m\u001b[0m\u001b[0m\n\u001b[0;32m-> 1328\u001b[0;31m             \u001b[0;32mreturn\u001b[0m \u001b[0mself\u001b[0m\u001b[0;34m.\u001b[0m\u001b[0m_getitem_axis\u001b[0m\u001b[0;34m(\u001b[0m\u001b[0mkey\u001b[0m\u001b[0;34m,\u001b[0m \u001b[0maxis\u001b[0m\u001b[0;34m=\u001b[0m\u001b[0;36m0\u001b[0m\u001b[0;34m)\u001b[0m\u001b[0;34m\u001b[0m\u001b[0m\n\u001b[0m\u001b[1;32m   1329\u001b[0m \u001b[0;34m\u001b[0m\u001b[0m\n\u001b[1;32m   1330\u001b[0m     \u001b[0;32mdef\u001b[0m \u001b[0m_is_scalar_access\u001b[0m\u001b[0;34m(\u001b[0m\u001b[0mself\u001b[0m\u001b[0;34m,\u001b[0m \u001b[0mkey\u001b[0m\u001b[0;34m)\u001b[0m\u001b[0;34m:\u001b[0m\u001b[0;34m\u001b[0m\u001b[0m\n",
      "\u001b[0;32m/afs/inf.ed.ac.uk/user/s17/s1789372/miniconda2/envs/iaml/lib/python2.7/site-packages/pandas/core/indexing.pyc\u001b[0m in \u001b[0;36m_getitem_axis\u001b[0;34m(self, key, axis)\u001b[0m\n\u001b[1;32m   1736\u001b[0m         \u001b[0;31m# a list of integers\u001b[0m\u001b[0;34m\u001b[0m\u001b[0;34m\u001b[0m\u001b[0m\n\u001b[1;32m   1737\u001b[0m         \u001b[0;32melif\u001b[0m \u001b[0mis_list_like_indexer\u001b[0m\u001b[0;34m(\u001b[0m\u001b[0mkey\u001b[0m\u001b[0;34m)\u001b[0m\u001b[0;34m:\u001b[0m\u001b[0;34m\u001b[0m\u001b[0m\n\u001b[0;32m-> 1738\u001b[0;31m             \u001b[0;32mreturn\u001b[0m \u001b[0mself\u001b[0m\u001b[0;34m.\u001b[0m\u001b[0m_get_list_axis\u001b[0m\u001b[0;34m(\u001b[0m\u001b[0mkey\u001b[0m\u001b[0;34m,\u001b[0m \u001b[0maxis\u001b[0m\u001b[0;34m=\u001b[0m\u001b[0maxis\u001b[0m\u001b[0;34m)\u001b[0m\u001b[0;34m\u001b[0m\u001b[0m\n\u001b[0m\u001b[1;32m   1739\u001b[0m \u001b[0;34m\u001b[0m\u001b[0m\n\u001b[1;32m   1740\u001b[0m         \u001b[0;31m# a single integer\u001b[0m\u001b[0;34m\u001b[0m\u001b[0;34m\u001b[0m\u001b[0m\n",
      "\u001b[0;32m/afs/inf.ed.ac.uk/user/s17/s1789372/miniconda2/envs/iaml/lib/python2.7/site-packages/pandas/core/indexing.pyc\u001b[0m in \u001b[0;36m_get_list_axis\u001b[0;34m(self, key, axis)\u001b[0m\n\u001b[1;32m   1713\u001b[0m         \"\"\"\n\u001b[1;32m   1714\u001b[0m         \u001b[0;32mtry\u001b[0m\u001b[0;34m:\u001b[0m\u001b[0;34m\u001b[0m\u001b[0m\n\u001b[0;32m-> 1715\u001b[0;31m             \u001b[0;32mreturn\u001b[0m \u001b[0mself\u001b[0m\u001b[0;34m.\u001b[0m\u001b[0mobj\u001b[0m\u001b[0;34m.\u001b[0m\u001b[0mtake\u001b[0m\u001b[0;34m(\u001b[0m\u001b[0mkey\u001b[0m\u001b[0;34m,\u001b[0m \u001b[0maxis\u001b[0m\u001b[0;34m=\u001b[0m\u001b[0maxis\u001b[0m\u001b[0;34m,\u001b[0m \u001b[0mconvert\u001b[0m\u001b[0;34m=\u001b[0m\u001b[0mFalse\u001b[0m\u001b[0;34m)\u001b[0m\u001b[0;34m\u001b[0m\u001b[0m\n\u001b[0m\u001b[1;32m   1716\u001b[0m         \u001b[0;32mexcept\u001b[0m \u001b[0mIndexError\u001b[0m\u001b[0;34m:\u001b[0m\u001b[0;34m\u001b[0m\u001b[0m\n\u001b[1;32m   1717\u001b[0m             \u001b[0;31m# re-raise with different error message\u001b[0m\u001b[0;34m\u001b[0m\u001b[0;34m\u001b[0m\u001b[0m\n",
      "\u001b[0;32m/afs/inf.ed.ac.uk/user/s17/s1789372/miniconda2/envs/iaml/lib/python2.7/site-packages/pandas/core/series.pyc\u001b[0m in \u001b[0;36mtake\u001b[0;34m(self, indices, axis, convert, is_copy, **kwargs)\u001b[0m\n\u001b[1;32m   2500\u001b[0m         \u001b[0mnew_index\u001b[0m \u001b[0;34m=\u001b[0m \u001b[0mself\u001b[0m\u001b[0;34m.\u001b[0m\u001b[0mindex\u001b[0m\u001b[0;34m.\u001b[0m\u001b[0mtake\u001b[0m\u001b[0;34m(\u001b[0m\u001b[0mindices\u001b[0m\u001b[0;34m)\u001b[0m\u001b[0;34m\u001b[0m\u001b[0m\n\u001b[1;32m   2501\u001b[0m         \u001b[0mnew_values\u001b[0m \u001b[0;34m=\u001b[0m \u001b[0mself\u001b[0m\u001b[0;34m.\u001b[0m\u001b[0m_values\u001b[0m\u001b[0;34m.\u001b[0m\u001b[0mtake\u001b[0m\u001b[0;34m(\u001b[0m\u001b[0mindices\u001b[0m\u001b[0;34m)\u001b[0m\u001b[0;34m\u001b[0m\u001b[0m\n\u001b[0;32m-> 2502\u001b[0;31m         return (self._constructor(new_values, index=new_index, fastpath=True)\n\u001b[0m\u001b[1;32m   2503\u001b[0m                     .__finalize__(self))\n\u001b[1;32m   2504\u001b[0m \u001b[0;34m\u001b[0m\u001b[0m\n",
      "\u001b[0;32m/afs/inf.ed.ac.uk/user/s17/s1789372/miniconda2/envs/iaml/lib/python2.7/site-packages/pandas/core/series.pyc\u001b[0m in \u001b[0;36m__init__\u001b[0;34m(self, data, index, dtype, name, copy, fastpath)\u001b[0m\n\u001b[1;32m    252\u001b[0m         \u001b[0mgeneric\u001b[0m\u001b[0;34m.\u001b[0m\u001b[0mNDFrame\u001b[0m\u001b[0;34m.\u001b[0m\u001b[0m__init__\u001b[0m\u001b[0;34m(\u001b[0m\u001b[0mself\u001b[0m\u001b[0;34m,\u001b[0m \u001b[0mdata\u001b[0m\u001b[0;34m,\u001b[0m \u001b[0mfastpath\u001b[0m\u001b[0;34m=\u001b[0m\u001b[0mTrue\u001b[0m\u001b[0;34m)\u001b[0m\u001b[0;34m\u001b[0m\u001b[0m\n\u001b[1;32m    253\u001b[0m \u001b[0;34m\u001b[0m\u001b[0m\n\u001b[0;32m--> 254\u001b[0;31m         \u001b[0mself\u001b[0m\u001b[0;34m.\u001b[0m\u001b[0mname\u001b[0m \u001b[0;34m=\u001b[0m \u001b[0mname\u001b[0m\u001b[0;34m\u001b[0m\u001b[0m\n\u001b[0m\u001b[1;32m    255\u001b[0m         \u001b[0mself\u001b[0m\u001b[0;34m.\u001b[0m\u001b[0m_set_axis\u001b[0m\u001b[0;34m(\u001b[0m\u001b[0;36m0\u001b[0m\u001b[0;34m,\u001b[0m \u001b[0mindex\u001b[0m\u001b[0;34m,\u001b[0m \u001b[0mfastpath\u001b[0m\u001b[0;34m=\u001b[0m\u001b[0mTrue\u001b[0m\u001b[0;34m)\u001b[0m\u001b[0;34m\u001b[0m\u001b[0m\n\u001b[1;32m    256\u001b[0m \u001b[0;34m\u001b[0m\u001b[0m\n",
      "\u001b[0;32m/afs/inf.ed.ac.uk/user/s17/s1789372/miniconda2/envs/iaml/lib/python2.7/site-packages/pandas/core/generic.pyc\u001b[0m in \u001b[0;36m__setattr__\u001b[0;34m(self, name, value)\u001b[0m\n\u001b[1;32m   3091\u001b[0m \u001b[0;34m\u001b[0m\u001b[0m\n\u001b[1;32m   3092\u001b[0m         \u001b[0;32mtry\u001b[0m\u001b[0;34m:\u001b[0m\u001b[0;34m\u001b[0m\u001b[0m\n\u001b[0;32m-> 3093\u001b[0;31m             \u001b[0mobject\u001b[0m\u001b[0;34m.\u001b[0m\u001b[0m__getattribute__\u001b[0m\u001b[0;34m(\u001b[0m\u001b[0mself\u001b[0m\u001b[0;34m,\u001b[0m \u001b[0mname\u001b[0m\u001b[0;34m)\u001b[0m\u001b[0;34m\u001b[0m\u001b[0m\n\u001b[0m\u001b[1;32m   3094\u001b[0m             \u001b[0;32mreturn\u001b[0m \u001b[0mobject\u001b[0m\u001b[0;34m.\u001b[0m\u001b[0m__setattr__\u001b[0m\u001b[0;34m(\u001b[0m\u001b[0mself\u001b[0m\u001b[0;34m,\u001b[0m \u001b[0mname\u001b[0m\u001b[0;34m,\u001b[0m \u001b[0mvalue\u001b[0m\u001b[0;34m)\u001b[0m\u001b[0;34m\u001b[0m\u001b[0m\n\u001b[1;32m   3095\u001b[0m         \u001b[0;32mexcept\u001b[0m \u001b[0mAttributeError\u001b[0m\u001b[0;34m:\u001b[0m\u001b[0;34m\u001b[0m\u001b[0m\n",
      "\u001b[0;31mKeyboardInterrupt\u001b[0m: "
     ]
    }
   ],
   "source": [
    "#Create gamma range\n",
    "Gamma = np.logspace(-5, 0, 10) \n",
    "\n",
    "#Create empty list to store accuracies in\n",
    "crossValAccuraciesGamma = []\n",
    "\n",
    "#For each gamma value, create a new rbf kernel SVC classifier and append the three accuracies ( one for each fold)\n",
    "#to the above list\n",
    "for gindex, gvalue in enumerate(Gamma):\n",
    "    svc_rbf3 = SVC(kernel='rbf', gamma=gvalue, C=1.0)\n",
    "    crossValAccuraciesGamma.append(cross_val_score(svc_rbf3, X_tr, y_tr, cv=kfold))"
   ]
  },
  {
   "cell_type": "code",
   "execution_count": null,
   "metadata": {},
   "outputs": [],
   "source": [
    "meanCrossValAccuraciesGamma = np.mean(crossValAccuraciesGamma, axis=1)"
   ]
  },
  {
   "cell_type": "code",
   "execution_count": null,
   "metadata": {},
   "outputs": [],
   "source": [
    "#Plot gamma against mean cross val accuracy\n",
    "plt.scatter(Gamma, meanCrossValAccuraciesGamma, marker=\"*\", color='tomato')\n",
    "plt.xscale('log')\n",
    "plt.xlim([0.000005, 2])\n",
    "plt.title('Scatter plot of gamma values against the mean cross validated classification accuracy across the three folds')\n",
    "plt.xlabel('Value of gamma')\n",
    "plt.ylabel('Mean cross validated classification accuracy')\n",
    "plt.show()"
   ]
  },
  {
   "cell_type": "code",
   "execution_count": null,
   "metadata": {},
   "outputs": [],
   "source": [
    "#Find max cross val accuracy and corresponding gamma\n",
    "maxIndex = np.argmax(meanCrossValAccuraciesGamma)\n",
    "highestMeanAccuracyGamma = meanCrossValAccuraciesGamma[maxIndex]\n",
    "gammaValueWithHighestMeanAccuracy = Gamma[maxIndex]\n",
    "\n",
    "print(\"The highest mean cross validated classification accuracy was \" + str(highestMeanAccuracyGamma))\n",
    "print(\"\\nThe value of gamma with this accuracy was \" + str(gammaValueWithHighestMeanAccuracy))"
   ]
  },
  {
   "cell_type": "code",
   "execution_count": null,
   "metadata": {},
   "outputs": [],
   "source": [
    "#Train new classifier using optimal gamma\n",
    "svc_rbf8 = SVC(kernel='rbf', gamma = gammaValueWithHighestMeanAccuracy).fit(X_tr, y_tr) \n",
    "print(\"After training a classifier using the optimal degree of polynomial,\")\n",
    "print(\"\\n the accuracy on the training set is \" + str(svc_rbf8.score(X_tr, y_tr)))\n",
    "print(\"\\n and the accuracy on the validation set is \" + str(svc_rbf8.score(X_val, y_val)))"
   ]
  },
  {
   "cell_type": "markdown",
   "metadata": {},
   "source": [
    "### ========== Question 1.23 --- [7 marks] ==========\n",
    "Now we wish to tune both the `C` and `gamma` parameters simultaneously. To save computational time, we will now constrain the parameter search space. Define a `4 X 4` grid for the two parameters, as follows:\n",
    "* `C`: `np.logspace(-2, 1, 4)`\n",
    "* `gamma`: `np.logspace(-4, -1, 4)`\n",
    "\n",
    "Estimate the mean cross-validated classification accuracy by using training data only and all possible configurations for the two parameters. \n",
    "\n",
    "Use a [heatmap](https://seaborn.github.io/generated/seaborn.heatmap.html?highlight=heatmap#seaborn.heatmap) to visualise the mean cross-validated classification accuracy for all `C`-`gamma` pairs. Label axes appropriately and display the values for `C` and `gamma` for the best performing configuration. \n",
    "\n",
    "Finally, by using the optimal configuration, train a classifier (without using cross-validation) and report the classification accuracy on the training and validation sets."
   ]
  },
  {
   "cell_type": "code",
   "execution_count": null,
   "metadata": {},
   "outputs": [],
   "source": [
    "#Create C and gamma ranges\n",
    "C3 = np.logspace(-2, 1, 4)\n",
    "Gamma2 = np.logspace(-4, -1, 4)\n",
    "\n",
    "#create empty 4x4 matrix\n",
    "Matrix2 = [[0 for x in range(len(C3))] for y in range(len(Gamma2))] "
   ]
  },
  {
   "cell_type": "code",
   "execution_count": null,
   "metadata": {},
   "outputs": [],
   "source": [
    "#for each C-gamma pair, initialise new classifier and store calcuated mean cross val accuracy \n",
    "#on training data in Matrix2\n",
    "for gindex, gvalue in enumerate(Gamma2):\n",
    "    for cindex, cvalue in enumerate(C3):\n",
    "        svc_rbf3 = SVC(kernel='rbf', gamma=gvalue, C=cvalue)\n",
    "        Matrix2[gindex][cindex] = np.mean(cross_val_score(svc_rbf3, X_tr, y_tr, cv=kfold))"
   ]
  },
  {
   "cell_type": "code",
   "execution_count": null,
   "metadata": {},
   "outputs": [],
   "source": [
    "Matrix2"
   ]
  },
  {
   "cell_type": "code",
   "execution_count": null,
   "metadata": {
    "scrolled": false
   },
   "outputs": [],
   "source": [
    "#heatmap to visualise Matrix2\n",
    "ax = sns.heatmap(Matrix2, annot=True, xticklabels=C3, yticklabels=Gamma2)\n",
    "ax.set_xlabel('C value')\n",
    "ax.set_ylabel('Gamma value')\n",
    "ax.set_title('Heatmap to visualise the mean cross-validated\\n classification accuracy for all C-gamma pairs')\n",
    "plt.show()"
   ]
  },
  {
   "cell_type": "code",
   "execution_count": null,
   "metadata": {},
   "outputs": [],
   "source": [
    "#Get coordinates('row' then 'column' of Matrix 2) of the maximum value in Matrix2. We need a function to do\n",
    "#this because looking at it by hand we can't tell as there are two max values at 0.71. \n",
    "maxPosition = np.unravel_index(np.argmax(Matrix2), [4,4])\n",
    "maxPosition"
   ]
  },
  {
   "cell_type": "code",
   "execution_count": null,
   "metadata": {},
   "outputs": [],
   "source": [
    "#Check that maxPosition does in fact give us one of the maximum accuracy values that we expect\n",
    "Matrix2[maxPosition[0]][maxPosition[1]]"
   ]
  },
  {
   "cell_type": "code",
   "execution_count": null,
   "metadata": {},
   "outputs": [],
   "source": [
    "#Locate C and gamma values that give us the maximum accuracy together  could get max accuracy? \n",
    "bestGammaPair = Gamma2[maxPosition[0]]\n",
    "bestCPair = C3[maxPosition[1]]\n",
    "\n",
    "print(\"The best performing configuration is when gamma is \" + str(bestGammaPair) +\n",
    "     \" and C is \" +str(bestCPair))"
   ]
  },
  {
   "cell_type": "code",
   "execution_count": null,
   "metadata": {},
   "outputs": [],
   "source": [
    "svc_rbf4 = SVC(kernel='rbf', gamma=bestGammaPair, C=bestCPair).fit(X_tr, y_tr) \n",
    "print(\"After training a classifier using the optimal Gamma-C pair,\")\n",
    "print(\"\\n the accuracy on the training set is \" + str(svc_rbf4.score(X_tr, y_tr)))\n",
    "print(\"\\n and the accuracy on the validation set is \" + str(svc_rbf4.score(X_val, y_val)))"
   ]
  },
  {
   "cell_type": "markdown",
   "metadata": {},
   "source": [
    "### ========== Question 1.24 --- [3 marks] ==========\n",
    "Is the classification accuracy on the validation set higher than in previous questions (1.22-1.23)? If not, can you explain why? Can you think of a way of further improving the performance of the classifier? You don't need to implement your suggestion at this stage. Would there be any associated problems with your suggested approach? "
   ]
  },
  {
   "cell_type": "markdown",
   "metadata": {},
   "source": [
    "My classification accuracies in question 1.23 was 0.721473495058 and in the previous two questions was 0.727762803235 and 0.726864330638. This means that when getting the optimal C, gamma pair, my accuracy actually decreased. This is because for the afore 2 questions, we took larger ranges of logspaces with more steps, so we had more chances to find more optimal values and we did, whereas in the last question we only took 4 steps and had a 4x4 grid of C, gamma pairs. \n",
    "\n",
    "If we had the afore two larger range log spaces with more points and used them in the same way we did in the last question, i.e. make a 10 by 10 grid of C, gamma pairs, then this would probably improve the classifier as we would probably discover a more optimal C, gamma pair. \n",
    "\n",
    "The problem with this is it would be very computationally expensive and slow."
   ]
  },
  {
   "cell_type": "markdown",
   "metadata": {},
   "source": [
    "### ========== Question 1.25 --- [5 marks] ==========\n",
    "Now we want to evaluate the performance of an SVM classifier with polynomial kernel. Once again, we will tune the `degree` parameter by using cross-validation (similarly to what we did in Questions 1.21 and 1.22).\n",
    "\n",
    "By using the `K-fold` iterator from Question 1.11 and training data only, estimate the classification accuracy of polynomial SVM classifier, while you vary the `degree` parameter in the range `np.arange(1,8)`. \n",
    "\n",
    "Plot the mean cross-validated classification accuracy against the polynomial degree. Display the highest obtained mean accuracy score and the value of the `degree` parameter which yielded it. Label axes appropriately. \n",
    "\n",
    "Finally, train a classifier by using the optimal value for this parameter (without using cross-validation at this stage) and report the classification accuracy on the training and validation sets. "
   ]
  },
  {
   "cell_type": "code",
   "execution_count": null,
   "metadata": {},
   "outputs": [],
   "source": [
    "#Define degree range\n",
    "degree1 = np.arange(1,8)\n",
    "\n",
    "#Create empty list to store accuracies in\n",
    "crossValAccuraciesDegree = []\n",
    "\n",
    "#For each degree value, create a new rbf kernel SVC classifier and append the three accuracies ( one for \n",
    "#each fold) to the above list\n",
    "for dindex, dvalue in enumerate(degree1):\n",
    "    svc_rbf5 = SVC(kernel='poly', degree=dvalue)\n",
    "    crossValAccuraciesDegree.append(cross_val_score(svc_rbf5, X_tr, y_tr, cv=kfold))"
   ]
  },
  {
   "cell_type": "code",
   "execution_count": null,
   "metadata": {},
   "outputs": [],
   "source": [
    "meanCrossValAccuraciesDegree = np.mean(crossValAccuraciesDegree, axis=1)"
   ]
  },
  {
   "cell_type": "code",
   "execution_count": null,
   "metadata": {
    "scrolled": true
   },
   "outputs": [],
   "source": [
    "#Plot of degree of polynomial against mean cross val accuracy\n",
    "plt.scatter(degree1, meanCrossValAccuraciesDegree, marker=\"+\", color='red')\n",
    "plt.title('Scatter plot of degree values against the mean cross validated classification accuracy across the three folds')\n",
    "plt.xlabel('Degree of polynomial')\n",
    "plt.ylabel('Mean cross validated classification accuracy')\n",
    "plt.show()"
   ]
  },
  {
   "cell_type": "code",
   "execution_count": null,
   "metadata": {},
   "outputs": [],
   "source": [
    "#Find max cross val accuracy and corresponding degree\n",
    "maxIndexDegree = np.argmax(meanCrossValAccuraciesDegree)\n",
    "highestMeanAccuracyDegree = meanCrossValAccuraciesDegree[maxIndexDegree]\n",
    "DegreeValueWithHighestMeanAccuracy = degree1[np.argmax(meanCrossValAccuraciesDegree)]\n",
    "\n",
    "print(\"The highest mean cross validated classification accuracy was \" + str(highestMeanAccuracyDegree))\n",
    "print(\"\\nThe value of degree with this accuracy was \" + str(DegreeValueWithHighestMeanAccuracy))"
   ]
  },
  {
   "cell_type": "code",
   "execution_count": null,
   "metadata": {},
   "outputs": [],
   "source": [
    "#Train new classifier using optimal degree of polynomial\n",
    "svc_poly7 = SVC(kernel='poly', degree=DegreeValueWithHighestMeanAccuracy).fit(X_tr, y_tr) \n",
    "print(\"After training a classifier using the optimal degree of polynomial,\")\n",
    "print(\"\\n the accuracy on the training set is \" + str(svc_poly7.score(X_tr, y_tr)))\n",
    "print(\"\\n and the accuracy on the validation set is \" + str(svc_poly7.score(X_val, y_val)))"
   ]
  },
  {
   "cell_type": "markdown",
   "metadata": {},
   "source": [
    "### ========== Question 1.26 --- [4 marks] ==========\n",
    "\n",
    "You might have noticted that so far, we have used cross-validation for optimising the various tuning parameters (e.g. regularisation parameter in logistic regression, SVM kernel parameters) rather than hold-out validation, although we did have access to a validation set. Why do you think this is a good/bad idea? Give one advantage and one disadvantage of the two different approaches. Which one would you trust more in practice?"
   ]
  },
  {
   "cell_type": "markdown",
   "metadata": {},
   "source": [
    "Hold-out:\n",
    "\n",
    "Advantage: Less computationally expensive and takes less time.\n",
    "\n",
    "Disadvantage: It only produces one training and validation set, so if the validation set doesn't contain values which reflect the true or training data well, then we can get large accuracy errors. This is especially evident in smaller training datasets.\n",
    "\n",
    "Cross-validation:\n",
    "\n",
    "Advantage: Cross validation makes, multiple times, its own training and target sets from the training set we give it. Therefore the average accuracy score across the folds will probably be a more trustworthy accuracy score.\n",
    "\n",
    "Disadvantage: It is computationally expensive and slow, especially with a large number of folds.\n",
    "\n",
    "In practise, I would trust cross-validation more because even though it is slower, its results should be more accurate/trustworthy."
   ]
  },
  {
   "cell_type": "markdown",
   "metadata": {},
   "source": [
    "### ========== Question 1.27 --- [6 marks] ==========\n",
    "\n",
    "Reload the full training and validation data that contain all indicator variables for all object categories. Remove the `imgId` attribute but keep all of the class indicator variables in the dataset this time. Your training features should include all attributes except `is_person` which should be your target variable. \n",
    "\n",
    "Once again, use a [StandardScaler](http://scikit-learn.org/0.17/modules/generated/sklearn.preprocessing.StandardScaler.html) to standardise your training and validation features. Then train a Random Forest Classifier by using the entropy `criterion`, 500 `n_estimators`, and also set the `random_state` to 31. Report the classification accuracy on the training and validation sets.\n",
    "\n",
    "Similarly to what we did in Question 1.18, order the features by decreasing importance and display the 50 most important features. \n",
    "\n",
    "Finally, answer the following questions:\n",
    "* What do you notice by looking at the list of the best 50 features?\n",
    "* How does the performance differ with respect to the case when the additional class indicator variables are not present (Question 1.16)? Relate your observations to the observed feature ranking.\n",
    "* Would it be easy to make use of the results in practice? Briey explain your reasoning.\n",
    "\n",
    "*(Hint: you might want to look at some of the [images](http://www.inf.ed.ac.uk/teaching/courses/iaml/2014/assts/asst3/images.html) to justify your explanations.)*"
   ]
  },
  {
   "cell_type": "code",
   "execution_count": null,
   "metadata": {},
   "outputs": [],
   "source": [
    "#Loading the datasets\n",
    "data_path = os.path.join(os.getcwd(), 'datasets', 'train_images_partA.csv')\n",
    "train_A = pd.read_csv(data_path, delimiter = ',')\n",
    "\n",
    "data_path = os.path.join(os.getcwd(), 'datasets', 'valid_images_partA.csv')\n",
    "valid_A = pd.read_csv(data_path, delimiter = ',')"
   ]
  },
  {
   "cell_type": "code",
   "execution_count": null,
   "metadata": {
    "scrolled": true
   },
   "outputs": [],
   "source": [
    "#Redefining training and validation features and targets\n",
    "y_tr = train_A[\"is_person\"]\n",
    "\n",
    "X_tr = pd.DataFrame(train_A.drop([\"is_person\", \"imgId\"], axis=1))\n",
    "\n",
    "y_val = valid_A[\"is_person\"]\n",
    "\n",
    "X_val = pd.DataFrame(valid_A.drop([\"is_person\", \"imgId\"], axis=1))"
   ]
  },
  {
   "cell_type": "code",
   "execution_count": null,
   "metadata": {},
   "outputs": [],
   "source": [
    "#Examine new training data to make sure I have what I wanted\n",
    "X_tr.head(5)"
   ]
  },
  {
   "cell_type": "code",
   "execution_count": null,
   "metadata": {},
   "outputs": [],
   "source": [
    "#train random forest\n",
    "randomForest2 = RandomForestClassifier(n_estimators=500, random_state=31, criterion=\"entropy\").fit(X_tr, y_tr)\n",
    "\n",
    "print(\"The classification accuracy of the RF on the training data is \" +str(randomForest2.score(X_tr, y_tr)))\n",
    "print(\"The classification accuracy of the RF on the validation data is \" +str(randomForest2.score(X_val, y_val)))"
   ]
  },
  {
   "cell_type": "code",
   "execution_count": null,
   "metadata": {
    "scrolled": true
   },
   "outputs": [],
   "source": [
    "#Create np array of list of features names (array necessary so that we can index using another list)\n",
    "attributes = np.array(list(X_tr))\n",
    "\n",
    "#Get importances\n",
    "importances2 = randomForest2.feature_importances_\n",
    "\n",
    "#Get indices of importances and put them in descending order of importance\n",
    "descendingImportanceIndices2 = np.argsort(-importances2)\n",
    "\n",
    "print(\"The 50 most important features in descending order of importance are:\\n\\n\" + \n",
    "      str(attributes[descendingImportanceIndices2][:50]))"
   ]
  },
  {
   "cell_type": "markdown",
   "metadata": {},
   "source": [
    "#hard in practise because we'd have to know the labels'\n",
    "I notice that there are several class labels included in the most important features, such as is_cat as the most important one.\n",
    "\n",
    "I notice that, compared to the last list of 50 most important features when I didn't include the class labels in my datasets, the lists are roughly the same but not exactly. For example, this list begins with is_cat and is_bird, however my previous list did not contain those (as they weren't included as features!).\n",
    "\n",
    "The performance without the class labels was 0.692722371968 and with it is 0.712488769093 (on the validation sets). It performs better with the class labels because, for example, is_cat and is_bird are the most important now, which means they are more important than all of the dims, so the random forest I trained without the class labels was trained with less 'important' features.\n",
    "\n",
    "It wouldn't be easy to make use of these results in practise since usually we would not have access to these extra class labels in test sets, so training a model using them is not the best idea. "
   ]
  },
  {
   "cell_type": "markdown",
   "metadata": {},
   "source": [
    "## Mini challenge [30%]"
   ]
  },
  {
   "cell_type": "markdown",
   "metadata": {},
   "source": [
    "*Important: You are allowed to write up to a maximum of 600 words in this part of the assignment. The thoroughness of the exploration and the quality of the resulting discussion is just as important as the final classification performance of your chosen method(s) and credit will be divided accordingly.*"
   ]
  },
  {
   "cell_type": "markdown",
   "metadata": {},
   "source": [
    "In this final part of the assignment we will have a mini object-recognition challenge. Using the data provided you are asked to find the best classiffier for the person/no person classification task. You can apply any preprocessing steps to the data that you think fit and employ any classifier you like (with the provison that you can explain what the classifier is/preprocessing steps are doing). You can also employ any lessons learnt during the course, either from previous Assignments, the Labs or the lecture material to try and squeeze out as much performance as you possibly can. The only restriction is that all steps must be performed in `Python` by using the `numpy`, `pandas` and `sklearn` packages. You can also make use of `matplotlib` and `seaborn` for visualisation. "
   ]
  },
  {
   "cell_type": "markdown",
   "metadata": {},
   "source": [
    "**Important:** The classification performance metric that we will use for this part is the *cross-entropy* or *logarithmic loss* (see Lab 4). You should familiarise yourself with the metric by reading the `sklearn` [user guide](http://scikit-learn.org/0.17/modules/model_evaluation.html#log-loss) and [documentation](http://scikit-learn.org/0.17/modules/generated/sklearn.metrics.log_loss.html#sklearn.metrics.log_loss). To estimate this metric you will need to evaluate probability outputs, as opposed to discrete predictions which we have used so far to compute classification accuracies. Most models in `sklearn` implement a `predict_proba()` method which returns the probabilities for each class. For instance, if your test set consists of `N` datapoints and there are `K` classes, the method will return a `N` x `K` matrix."
   ]
  },
  {
   "cell_type": "markdown",
   "metadata": {},
   "source": [
    "We provide you with three new data sets: a training set (`train_images_partB.csv`), a validation set (`valid_images_partB.csv`), and a test set (`test_images_partB.csv`). You must use the former two for training and evaluating your models (as you see fit). Once you have chosen your favourite model (and pre-processing steps) you should apply it to the test set (for which no labels are provided). Estimate the posterior proabilities for the data points in the test set and submit your results as part of your answer. Your results will be evaluated in terms of the logarithmic loss metric. You also need to submit a brief description of the approaches you considered, your suggested final approach, and a short explanation of why you chose it. The thoroughness of the exploration and the quality of the resulting discussion is just as important as the final score of your chosen method(s) and credit will be divided accordingly.\n",
    "\n",
    "*Hint: Feature engineering, feature combination, model combination and model parameter optimization can significantly improve performance.*"
   ]
  },
  {
   "cell_type": "markdown",
   "metadata": {},
   "source": [
    "**How to submit your results**: Store the estimated probabilities for the data points in the test set in a 2D numpy array. Then execute the provided cell at the end of this notebook which uses a provided `save_predictions` function to export your results into a `.txt` file (the function will return an error if the provided array has not the right shape). The `.txt` file will be saved where your notebook lives. Submit this file along with your notebook as detailed at the top of this file."
   ]
  },
  {
   "cell_type": "markdown",
   "metadata": {},
   "source": [
    "# Mini challenge exploration"
   ]
  },
  {
   "cell_type": "markdown",
   "metadata": {},
   "source": [
    "## Loading and inspecting the data"
   ]
  },
  {
   "cell_type": "code",
   "execution_count": 76,
   "metadata": {
    "scrolled": true
   },
   "outputs": [
    {
     "data": {
      "text/html": [
       "<div>\n",
       "<style>\n",
       "    .dataframe thead tr:only-child th {\n",
       "        text-align: right;\n",
       "    }\n",
       "\n",
       "    .dataframe thead th {\n",
       "        text-align: left;\n",
       "    }\n",
       "\n",
       "    .dataframe tbody tr th {\n",
       "        vertical-align: top;\n",
       "    }\n",
       "</style>\n",
       "<table border=\"1\" class=\"dataframe\">\n",
       "  <thead>\n",
       "    <tr style=\"text-align: right;\">\n",
       "      <th></th>\n",
       "      <th>imgId</th>\n",
       "      <th>dim1</th>\n",
       "      <th>dim2</th>\n",
       "      <th>dim3</th>\n",
       "      <th>dim4</th>\n",
       "      <th>dim5</th>\n",
       "      <th>dim6</th>\n",
       "      <th>dim7</th>\n",
       "      <th>dim8</th>\n",
       "      <th>dim9</th>\n",
       "      <th>...</th>\n",
       "      <th>is_cow</th>\n",
       "      <th>is_diningtable</th>\n",
       "      <th>is_dog</th>\n",
       "      <th>is_horse</th>\n",
       "      <th>is_motorbike</th>\n",
       "      <th>is_person</th>\n",
       "      <th>is_pottedplant</th>\n",
       "      <th>is_sheep</th>\n",
       "      <th>is_sofa</th>\n",
       "      <th>is_tvmonitor</th>\n",
       "    </tr>\n",
       "  </thead>\n",
       "  <tbody>\n",
       "    <tr>\n",
       "      <th>0</th>\n",
       "      <td>2008_000008</td>\n",
       "      <td>0.002232</td>\n",
       "      <td>0.000558</td>\n",
       "      <td>0.002790</td>\n",
       "      <td>0.000837</td>\n",
       "      <td>0.001674</td>\n",
       "      <td>0.001953</td>\n",
       "      <td>0.001395</td>\n",
       "      <td>0.002232</td>\n",
       "      <td>0.003627</td>\n",
       "      <td>...</td>\n",
       "      <td>0</td>\n",
       "      <td>0</td>\n",
       "      <td>0</td>\n",
       "      <td>1</td>\n",
       "      <td>0</td>\n",
       "      <td>1</td>\n",
       "      <td>0</td>\n",
       "      <td>0</td>\n",
       "      <td>0</td>\n",
       "      <td>0</td>\n",
       "    </tr>\n",
       "    <tr>\n",
       "      <th>1</th>\n",
       "      <td>2008_000015</td>\n",
       "      <td>0.001563</td>\n",
       "      <td>0.000391</td>\n",
       "      <td>0.007422</td>\n",
       "      <td>0.003516</td>\n",
       "      <td>0.003906</td>\n",
       "      <td>0.005078</td>\n",
       "      <td>0.001953</td>\n",
       "      <td>0.002344</td>\n",
       "      <td>0.001953</td>\n",
       "      <td>...</td>\n",
       "      <td>0</td>\n",
       "      <td>0</td>\n",
       "      <td>0</td>\n",
       "      <td>0</td>\n",
       "      <td>0</td>\n",
       "      <td>0</td>\n",
       "      <td>0</td>\n",
       "      <td>0</td>\n",
       "      <td>0</td>\n",
       "      <td>0</td>\n",
       "    </tr>\n",
       "    <tr>\n",
       "      <th>2</th>\n",
       "      <td>2008_000019</td>\n",
       "      <td>0.000521</td>\n",
       "      <td>0.000000</td>\n",
       "      <td>0.000000</td>\n",
       "      <td>0.001042</td>\n",
       "      <td>0.001563</td>\n",
       "      <td>0.005729</td>\n",
       "      <td>0.000521</td>\n",
       "      <td>0.002083</td>\n",
       "      <td>0.003646</td>\n",
       "      <td>...</td>\n",
       "      <td>0</td>\n",
       "      <td>0</td>\n",
       "      <td>1</td>\n",
       "      <td>0</td>\n",
       "      <td>0</td>\n",
       "      <td>0</td>\n",
       "      <td>0</td>\n",
       "      <td>0</td>\n",
       "      <td>0</td>\n",
       "      <td>0</td>\n",
       "    </tr>\n",
       "    <tr>\n",
       "      <th>3</th>\n",
       "      <td>2008_000023</td>\n",
       "      <td>0.002976</td>\n",
       "      <td>0.002232</td>\n",
       "      <td>0.004464</td>\n",
       "      <td>0.000372</td>\n",
       "      <td>0.000372</td>\n",
       "      <td>0.002232</td>\n",
       "      <td>0.000000</td>\n",
       "      <td>0.003720</td>\n",
       "      <td>0.000000</td>\n",
       "      <td>...</td>\n",
       "      <td>0</td>\n",
       "      <td>0</td>\n",
       "      <td>0</td>\n",
       "      <td>0</td>\n",
       "      <td>0</td>\n",
       "      <td>1</td>\n",
       "      <td>0</td>\n",
       "      <td>0</td>\n",
       "      <td>0</td>\n",
       "      <td>1</td>\n",
       "    </tr>\n",
       "    <tr>\n",
       "      <th>4</th>\n",
       "      <td>2008_000028</td>\n",
       "      <td>0.001359</td>\n",
       "      <td>0.000340</td>\n",
       "      <td>0.001359</td>\n",
       "      <td>0.000340</td>\n",
       "      <td>0.001359</td>\n",
       "      <td>0.002038</td>\n",
       "      <td>0.002378</td>\n",
       "      <td>0.000000</td>\n",
       "      <td>0.003397</td>\n",
       "      <td>...</td>\n",
       "      <td>0</td>\n",
       "      <td>0</td>\n",
       "      <td>0</td>\n",
       "      <td>0</td>\n",
       "      <td>0</td>\n",
       "      <td>0</td>\n",
       "      <td>0</td>\n",
       "      <td>0</td>\n",
       "      <td>0</td>\n",
       "      <td>0</td>\n",
       "    </tr>\n",
       "  </tbody>\n",
       "</table>\n",
       "<p>5 rows × 520 columns</p>\n",
       "</div>"
      ],
      "text/plain": [
       "         imgId      dim1      dim2      dim3      dim4      dim5      dim6  \\\n",
       "0  2008_000008  0.002232  0.000558  0.002790  0.000837  0.001674  0.001953   \n",
       "1  2008_000015  0.001563  0.000391  0.007422  0.003516  0.003906  0.005078   \n",
       "2  2008_000019  0.000521  0.000000  0.000000  0.001042  0.001563  0.005729   \n",
       "3  2008_000023  0.002976  0.002232  0.004464  0.000372  0.000372  0.002232   \n",
       "4  2008_000028  0.001359  0.000340  0.001359  0.000340  0.001359  0.002038   \n",
       "\n",
       "       dim7      dim8      dim9      ...       is_cow  is_diningtable  is_dog  \\\n",
       "0  0.001395  0.002232  0.003627      ...            0               0       0   \n",
       "1  0.001953  0.002344  0.001953      ...            0               0       0   \n",
       "2  0.000521  0.002083  0.003646      ...            0               0       1   \n",
       "3  0.000000  0.003720  0.000000      ...            0               0       0   \n",
       "4  0.002378  0.000000  0.003397      ...            0               0       0   \n",
       "\n",
       "   is_horse  is_motorbike  is_person  is_pottedplant  is_sheep  is_sofa  \\\n",
       "0         1             0          1               0         0        0   \n",
       "1         0             0          0               0         0        0   \n",
       "2         0             0          0               0         0        0   \n",
       "3         0             0          1               0         0        0   \n",
       "4         0             0          0               0         0        0   \n",
       "\n",
       "   is_tvmonitor  \n",
       "0             0  \n",
       "1             0  \n",
       "2             0  \n",
       "3             1  \n",
       "4             0  \n",
       "\n",
       "[5 rows x 520 columns]"
      ]
     },
     "execution_count": 76,
     "metadata": {},
     "output_type": "execute_result"
    }
   ],
   "source": [
    "#Loading the datasets\n",
    "data_path = os.path.join(os.getcwd(), 'datasets', 'train_images_partB.csv')\n",
    "train_B = pd.read_csv(data_path, delimiter = ',')\n",
    "\n",
    "data_path = os.path.join(os.getcwd(), 'datasets', 'valid_images_partB.csv')\n",
    "valid_B = pd.read_csv(data_path, delimiter = ',')\n",
    "\n",
    "data_path = os.path.join(os.getcwd(), 'datasets', 'test_images_partB.csv')\n",
    "test_B = pd.read_csv(data_path, delimiter = ',')\n",
    "\n",
    "#Have a look at the heads of the datasets to get a feel of them\n",
    "train_B.head()"
   ]
  },
  {
   "cell_type": "code",
   "execution_count": 77,
   "metadata": {},
   "outputs": [
    {
     "data": {
      "text/html": [
       "<div>\n",
       "<style>\n",
       "    .dataframe thead tr:only-child th {\n",
       "        text-align: right;\n",
       "    }\n",
       "\n",
       "    .dataframe thead th {\n",
       "        text-align: left;\n",
       "    }\n",
       "\n",
       "    .dataframe tbody tr th {\n",
       "        vertical-align: top;\n",
       "    }\n",
       "</style>\n",
       "<table border=\"1\" class=\"dataframe\">\n",
       "  <thead>\n",
       "    <tr style=\"text-align: right;\">\n",
       "      <th></th>\n",
       "      <th>imgId</th>\n",
       "      <th>dim1</th>\n",
       "      <th>dim2</th>\n",
       "      <th>dim3</th>\n",
       "      <th>dim4</th>\n",
       "      <th>dim5</th>\n",
       "      <th>dim6</th>\n",
       "      <th>dim7</th>\n",
       "      <th>dim8</th>\n",
       "      <th>dim9</th>\n",
       "      <th>...</th>\n",
       "      <th>is_cow</th>\n",
       "      <th>is_diningtable</th>\n",
       "      <th>is_dog</th>\n",
       "      <th>is_horse</th>\n",
       "      <th>is_motorbike</th>\n",
       "      <th>is_person</th>\n",
       "      <th>is_pottedplant</th>\n",
       "      <th>is_sheep</th>\n",
       "      <th>is_sofa</th>\n",
       "      <th>is_tvmonitor</th>\n",
       "    </tr>\n",
       "  </thead>\n",
       "  <tbody>\n",
       "    <tr>\n",
       "      <th>0</th>\n",
       "      <td>2008_002199</td>\n",
       "      <td>0.001698</td>\n",
       "      <td>0.000000</td>\n",
       "      <td>0.003057</td>\n",
       "      <td>0.002378</td>\n",
       "      <td>0.001019</td>\n",
       "      <td>0.001698</td>\n",
       "      <td>0.000340</td>\n",
       "      <td>0.001019</td>\n",
       "      <td>0.001359</td>\n",
       "      <td>...</td>\n",
       "      <td>0</td>\n",
       "      <td>0</td>\n",
       "      <td>0</td>\n",
       "      <td>0</td>\n",
       "      <td>0</td>\n",
       "      <td>1</td>\n",
       "      <td>0</td>\n",
       "      <td>0</td>\n",
       "      <td>0</td>\n",
       "      <td>0</td>\n",
       "    </tr>\n",
       "    <tr>\n",
       "      <th>1</th>\n",
       "      <td>2008_002179</td>\n",
       "      <td>0.002038</td>\n",
       "      <td>0.000000</td>\n",
       "      <td>0.004076</td>\n",
       "      <td>0.001019</td>\n",
       "      <td>0.001019</td>\n",
       "      <td>0.001019</td>\n",
       "      <td>0.000679</td>\n",
       "      <td>0.001019</td>\n",
       "      <td>0.001019</td>\n",
       "      <td>...</td>\n",
       "      <td>0</td>\n",
       "      <td>0</td>\n",
       "      <td>0</td>\n",
       "      <td>0</td>\n",
       "      <td>1</td>\n",
       "      <td>1</td>\n",
       "      <td>0</td>\n",
       "      <td>0</td>\n",
       "      <td>0</td>\n",
       "      <td>0</td>\n",
       "    </tr>\n",
       "    <tr>\n",
       "      <th>2</th>\n",
       "      <td>2008_002495</td>\n",
       "      <td>0.001116</td>\n",
       "      <td>0.000000</td>\n",
       "      <td>0.005208</td>\n",
       "      <td>0.001860</td>\n",
       "      <td>0.001116</td>\n",
       "      <td>0.000000</td>\n",
       "      <td>0.001488</td>\n",
       "      <td>0.002232</td>\n",
       "      <td>0.001116</td>\n",
       "      <td>...</td>\n",
       "      <td>0</td>\n",
       "      <td>0</td>\n",
       "      <td>0</td>\n",
       "      <td>0</td>\n",
       "      <td>0</td>\n",
       "      <td>1</td>\n",
       "      <td>0</td>\n",
       "      <td>0</td>\n",
       "      <td>0</td>\n",
       "      <td>0</td>\n",
       "    </tr>\n",
       "    <tr>\n",
       "      <th>3</th>\n",
       "      <td>2008_007171</td>\n",
       "      <td>0.001698</td>\n",
       "      <td>0.000340</td>\n",
       "      <td>0.004076</td>\n",
       "      <td>0.000679</td>\n",
       "      <td>0.002038</td>\n",
       "      <td>0.001019</td>\n",
       "      <td>0.002038</td>\n",
       "      <td>0.001019</td>\n",
       "      <td>0.000340</td>\n",
       "      <td>...</td>\n",
       "      <td>0</td>\n",
       "      <td>0</td>\n",
       "      <td>0</td>\n",
       "      <td>0</td>\n",
       "      <td>0</td>\n",
       "      <td>1</td>\n",
       "      <td>0</td>\n",
       "      <td>0</td>\n",
       "      <td>0</td>\n",
       "      <td>0</td>\n",
       "    </tr>\n",
       "    <tr>\n",
       "      <th>4</th>\n",
       "      <td>2008_003793</td>\n",
       "      <td>0.003736</td>\n",
       "      <td>0.001019</td>\n",
       "      <td>0.000679</td>\n",
       "      <td>0.001019</td>\n",
       "      <td>0.003736</td>\n",
       "      <td>0.002038</td>\n",
       "      <td>0.002038</td>\n",
       "      <td>0.001359</td>\n",
       "      <td>0.002717</td>\n",
       "      <td>...</td>\n",
       "      <td>0</td>\n",
       "      <td>0</td>\n",
       "      <td>0</td>\n",
       "      <td>0</td>\n",
       "      <td>0</td>\n",
       "      <td>1</td>\n",
       "      <td>0</td>\n",
       "      <td>0</td>\n",
       "      <td>0</td>\n",
       "      <td>0</td>\n",
       "    </tr>\n",
       "  </tbody>\n",
       "</table>\n",
       "<p>5 rows × 520 columns</p>\n",
       "</div>"
      ],
      "text/plain": [
       "         imgId      dim1      dim2      dim3      dim4      dim5      dim6  \\\n",
       "0  2008_002199  0.001698  0.000000  0.003057  0.002378  0.001019  0.001698   \n",
       "1  2008_002179  0.002038  0.000000  0.004076  0.001019  0.001019  0.001019   \n",
       "2  2008_002495  0.001116  0.000000  0.005208  0.001860  0.001116  0.000000   \n",
       "3  2008_007171  0.001698  0.000340  0.004076  0.000679  0.002038  0.001019   \n",
       "4  2008_003793  0.003736  0.001019  0.000679  0.001019  0.003736  0.002038   \n",
       "\n",
       "       dim7      dim8      dim9      ...       is_cow  is_diningtable  is_dog  \\\n",
       "0  0.000340  0.001019  0.001359      ...            0               0       0   \n",
       "1  0.000679  0.001019  0.001019      ...            0               0       0   \n",
       "2  0.001488  0.002232  0.001116      ...            0               0       0   \n",
       "3  0.002038  0.001019  0.000340      ...            0               0       0   \n",
       "4  0.002038  0.001359  0.002717      ...            0               0       0   \n",
       "\n",
       "   is_horse  is_motorbike  is_person  is_pottedplant  is_sheep  is_sofa  \\\n",
       "0         0             0          1               0         0        0   \n",
       "1         0             1          1               0         0        0   \n",
       "2         0             0          1               0         0        0   \n",
       "3         0             0          1               0         0        0   \n",
       "4         0             0          1               0         0        0   \n",
       "\n",
       "   is_tvmonitor  \n",
       "0             0  \n",
       "1             0  \n",
       "2             0  \n",
       "3             0  \n",
       "4             0  \n",
       "\n",
       "[5 rows x 520 columns]"
      ]
     },
     "execution_count": 77,
     "metadata": {},
     "output_type": "execute_result"
    }
   ],
   "source": [
    "valid_B.head()"
   ]
  },
  {
   "cell_type": "code",
   "execution_count": 78,
   "metadata": {
    "scrolled": true
   },
   "outputs": [
    {
     "data": {
      "text/html": [
       "<div>\n",
       "<style>\n",
       "    .dataframe thead tr:only-child th {\n",
       "        text-align: right;\n",
       "    }\n",
       "\n",
       "    .dataframe thead th {\n",
       "        text-align: left;\n",
       "    }\n",
       "\n",
       "    .dataframe tbody tr th {\n",
       "        vertical-align: top;\n",
       "    }\n",
       "</style>\n",
       "<table border=\"1\" class=\"dataframe\">\n",
       "  <thead>\n",
       "    <tr style=\"text-align: right;\">\n",
       "      <th></th>\n",
       "      <th>dim1</th>\n",
       "      <th>dim2</th>\n",
       "      <th>dim3</th>\n",
       "      <th>dim4</th>\n",
       "      <th>dim5</th>\n",
       "      <th>dim6</th>\n",
       "      <th>dim7</th>\n",
       "      <th>dim8</th>\n",
       "      <th>dim9</th>\n",
       "      <th>dim10</th>\n",
       "      <th>...</th>\n",
       "      <th>dim492</th>\n",
       "      <th>dim493</th>\n",
       "      <th>dim494</th>\n",
       "      <th>dim495</th>\n",
       "      <th>dim496</th>\n",
       "      <th>dim497</th>\n",
       "      <th>dim498</th>\n",
       "      <th>dim499</th>\n",
       "      <th>dim500</th>\n",
       "      <th>is_person</th>\n",
       "    </tr>\n",
       "  </thead>\n",
       "  <tbody>\n",
       "    <tr>\n",
       "      <th>0</th>\n",
       "      <td>0.000000</td>\n",
       "      <td>0.000000</td>\n",
       "      <td>0.000000</td>\n",
       "      <td>0.001019</td>\n",
       "      <td>0.001698</td>\n",
       "      <td>0.000679</td>\n",
       "      <td>0.000679</td>\n",
       "      <td>0.000000</td>\n",
       "      <td>0.005435</td>\n",
       "      <td>0.009171</td>\n",
       "      <td>...</td>\n",
       "      <td>0.00000</td>\n",
       "      <td>0.004755</td>\n",
       "      <td>0.000340</td>\n",
       "      <td>0.000000</td>\n",
       "      <td>0.000340</td>\n",
       "      <td>0.003397</td>\n",
       "      <td>0.000679</td>\n",
       "      <td>0.000679</td>\n",
       "      <td>0.008832</td>\n",
       "      <td>?</td>\n",
       "    </tr>\n",
       "    <tr>\n",
       "      <th>1</th>\n",
       "      <td>0.000372</td>\n",
       "      <td>0.000000</td>\n",
       "      <td>0.014137</td>\n",
       "      <td>0.000372</td>\n",
       "      <td>0.002232</td>\n",
       "      <td>0.001116</td>\n",
       "      <td>0.000744</td>\n",
       "      <td>0.008185</td>\n",
       "      <td>0.000372</td>\n",
       "      <td>0.001116</td>\n",
       "      <td>...</td>\n",
       "      <td>0.00000</td>\n",
       "      <td>0.007068</td>\n",
       "      <td>0.000372</td>\n",
       "      <td>0.004464</td>\n",
       "      <td>0.003348</td>\n",
       "      <td>0.000744</td>\n",
       "      <td>0.004836</td>\n",
       "      <td>0.000000</td>\n",
       "      <td>0.010045</td>\n",
       "      <td>?</td>\n",
       "    </tr>\n",
       "    <tr>\n",
       "      <th>2</th>\n",
       "      <td>0.001019</td>\n",
       "      <td>0.000679</td>\n",
       "      <td>0.006793</td>\n",
       "      <td>0.001359</td>\n",
       "      <td>0.000340</td>\n",
       "      <td>0.001359</td>\n",
       "      <td>0.002717</td>\n",
       "      <td>0.002038</td>\n",
       "      <td>0.001359</td>\n",
       "      <td>0.000679</td>\n",
       "      <td>...</td>\n",
       "      <td>0.00034</td>\n",
       "      <td>0.020720</td>\n",
       "      <td>0.002717</td>\n",
       "      <td>0.003397</td>\n",
       "      <td>0.001019</td>\n",
       "      <td>0.001019</td>\n",
       "      <td>0.002378</td>\n",
       "      <td>0.002378</td>\n",
       "      <td>0.003057</td>\n",
       "      <td>?</td>\n",
       "    </tr>\n",
       "    <tr>\n",
       "      <th>3</th>\n",
       "      <td>0.001379</td>\n",
       "      <td>0.000460</td>\n",
       "      <td>0.003217</td>\n",
       "      <td>0.002757</td>\n",
       "      <td>0.003217</td>\n",
       "      <td>0.004596</td>\n",
       "      <td>0.000919</td>\n",
       "      <td>0.003676</td>\n",
       "      <td>0.001838</td>\n",
       "      <td>0.004596</td>\n",
       "      <td>...</td>\n",
       "      <td>0.00046</td>\n",
       "      <td>0.007353</td>\n",
       "      <td>0.000460</td>\n",
       "      <td>0.002298</td>\n",
       "      <td>0.001379</td>\n",
       "      <td>0.005055</td>\n",
       "      <td>0.006434</td>\n",
       "      <td>0.003676</td>\n",
       "      <td>0.000919</td>\n",
       "      <td>?</td>\n",
       "    </tr>\n",
       "    <tr>\n",
       "      <th>4</th>\n",
       "      <td>0.001019</td>\n",
       "      <td>0.000340</td>\n",
       "      <td>0.014946</td>\n",
       "      <td>0.003057</td>\n",
       "      <td>0.000340</td>\n",
       "      <td>0.003736</td>\n",
       "      <td>0.000679</td>\n",
       "      <td>0.002038</td>\n",
       "      <td>0.001019</td>\n",
       "      <td>0.002038</td>\n",
       "      <td>...</td>\n",
       "      <td>0.00000</td>\n",
       "      <td>0.007812</td>\n",
       "      <td>0.002378</td>\n",
       "      <td>0.003397</td>\n",
       "      <td>0.003736</td>\n",
       "      <td>0.002717</td>\n",
       "      <td>0.001359</td>\n",
       "      <td>0.002717</td>\n",
       "      <td>0.007473</td>\n",
       "      <td>?</td>\n",
       "    </tr>\n",
       "  </tbody>\n",
       "</table>\n",
       "<p>5 rows × 501 columns</p>\n",
       "</div>"
      ],
      "text/plain": [
       "       dim1      dim2      dim3      dim4      dim5      dim6      dim7  \\\n",
       "0  0.000000  0.000000  0.000000  0.001019  0.001698  0.000679  0.000679   \n",
       "1  0.000372  0.000000  0.014137  0.000372  0.002232  0.001116  0.000744   \n",
       "2  0.001019  0.000679  0.006793  0.001359  0.000340  0.001359  0.002717   \n",
       "3  0.001379  0.000460  0.003217  0.002757  0.003217  0.004596  0.000919   \n",
       "4  0.001019  0.000340  0.014946  0.003057  0.000340  0.003736  0.000679   \n",
       "\n",
       "       dim8      dim9     dim10    ...       dim492    dim493    dim494  \\\n",
       "0  0.000000  0.005435  0.009171    ...      0.00000  0.004755  0.000340   \n",
       "1  0.008185  0.000372  0.001116    ...      0.00000  0.007068  0.000372   \n",
       "2  0.002038  0.001359  0.000679    ...      0.00034  0.020720  0.002717   \n",
       "3  0.003676  0.001838  0.004596    ...      0.00046  0.007353  0.000460   \n",
       "4  0.002038  0.001019  0.002038    ...      0.00000  0.007812  0.002378   \n",
       "\n",
       "     dim495    dim496    dim497    dim498    dim499    dim500  is_person  \n",
       "0  0.000000  0.000340  0.003397  0.000679  0.000679  0.008832          ?  \n",
       "1  0.004464  0.003348  0.000744  0.004836  0.000000  0.010045          ?  \n",
       "2  0.003397  0.001019  0.001019  0.002378  0.002378  0.003057          ?  \n",
       "3  0.002298  0.001379  0.005055  0.006434  0.003676  0.000919          ?  \n",
       "4  0.003397  0.003736  0.002717  0.001359  0.002717  0.007473          ?  \n",
       "\n",
       "[5 rows x 501 columns]"
      ]
     },
     "execution_count": 78,
     "metadata": {},
     "output_type": "execute_result"
    }
   ],
   "source": [
    "test_B.head()"
   ]
  },
  {
   "cell_type": "code",
   "execution_count": 79,
   "metadata": {
    "scrolled": true
   },
   "outputs": [],
   "source": [
    "#Turn all of the attribute column labels into a list (Before doing this, I experimented and printed the entire list of \n",
    "#column labels to make sure there were still only 500 attributes - there are.)\n",
    "#Removes imgId and labels like is_cow and is_person\n",
    "attributesB = list(train_B)[1:501]\n",
    "\n",
    "#Create data and targets for training and validation set, and the data for the test set\n",
    "X_tr_B = train_B[attributesB]\n",
    "y_tr_B = train_B[\"is_person\"]\n",
    "\n",
    "X_val_B = valid_B[attributesB]\n",
    "y_val_B = valid_B[\"is_person\"]\n",
    "\n",
    "X_test_B = test_B[attributesB]"
   ]
  },
  {
   "cell_type": "code",
   "execution_count": 80,
   "metadata": {},
   "outputs": [
    {
     "name": "stdout",
     "output_type": "stream",
     "text": [
      "<class 'pandas.core.frame.DataFrame'>\n",
      "RangeIndex: 2113 entries, 0 to 2112\n",
      "Columns: 500 entries, dim1 to dim500\n",
      "dtypes: float64(500)\n",
      "memory usage: 8.1 MB\n"
     ]
    }
   ],
   "source": [
    "X_tr_B.info()"
   ]
  },
  {
   "cell_type": "markdown",
   "metadata": {},
   "source": [
    "## Get more of a feel for the data"
   ]
  },
  {
   "cell_type": "code",
   "execution_count": 81,
   "metadata": {
    "scrolled": false
   },
   "outputs": [
    {
     "data": {
      "image/png": "[encoded data removed]",
      "text/plain": [
       "<matplotlib.figure.Figure at 0x7fb00989a690>"
      ]
     },
     "metadata": {},
     "output_type": "display_data"
    }
   ],
   "source": [
    "#Have a look at target distributions of training and validation sets\n",
    "#Creating a figure with 2 subplots\n",
    "fig, (ax1, ax2) = plt.subplots(1,2, figsize=(8,4))\n",
    "plt.suptitle(\"Countplots to show the target distributions\\n\")\n",
    "\n",
    "#Training set subplot\n",
    "sns.countplot(y_tr_B, ax=ax1, facecolor=(0, 0, 0, 0), linewidth=5, edgecolor=sns.color_palette(\"pastel\"))\n",
    "ax1.set_title(\"Training targets\", size=10)\n",
    "ax1.set_xlabel(\"Presence of person in picture\")\n",
    "plt.setp(ax1, xticklabels=[\"no person\", \"person\"])\n",
    "\n",
    "#Validation set subplot\n",
    "sns.countplot(y_val_B, ax=ax2, facecolor=(0, 0, 0, 0), linewidth=5, edgecolor=sns.color_palette(\"pastel\"))\n",
    "ax2.set_title(\"Validation targets\", size=10)\n",
    "ax2.set_xlabel(\"Presence of person in picture\")\n",
    "ax2.set_ylabel(\"\")\n",
    "plt.setp(ax2, xticklabels=[\"no person\", \"person\"])\n",
    "\n",
    "plt.show()"
   ]
  },
  {
   "cell_type": "code",
   "execution_count": 82,
   "metadata": {
    "scrolled": true
   },
   "outputs": [
    {
     "data": {
      "image/png": "[encoded data removed]",
      "text/plain": [
       "<matplotlib.figure.Figure at 0x7fb00e5250d0>"
      ]
     },
     "metadata": {},
     "output_type": "display_data"
    }
   ],
   "source": [
    "#Investigate whether there is any need to preprocess data in terms of outliers\n",
    "def scatter_jitter(arr1, arr2, jitter=0.2):\n",
    "    \"\"\" Plots a joint scatter plot of two arrays by adding small noise to each example. \n",
    "    Noise is proportional to variance in each dimension. \"\"\"\n",
    "    arr1 = np.asarray(arr1)\n",
    "    arr2 = np.asarray(arr2)\n",
    "    arr1 = arr1 + jitter*arr1.std(axis=0)*np.random.standard_normal(arr1.shape)\n",
    "    arr2 = arr2 + jitter*arr2.std(axis=0)*np.random.standard_normal(arr2.shape)\n",
    "    plt.scatter(arr1, arr2, marker=4)\n",
    "    \n",
    "#Plot scatter jitter to look at relationship between two features and if there are any outliers\n",
    "plt.title(\"Scatter jitter to show the joint distribution of the\\n attributes 'dim1' and 'dim2'\\n\")\n",
    "plt.xlabel(\"Frequency of 'dim1'\")\n",
    "plt.ylabel(\"Frequency of 'dim2'\")\n",
    "scatter_jitter(train_B[\"dim1\"], train_B[\"dim2\"], jitter=0.2)"
   ]
  },
  {
   "cell_type": "markdown",
   "metadata": {},
   "source": [
    "I see that it doesn't seem to be worth eliminating outliers as there aren't any values that seem expecially unreasonable. "
   ]
  },
  {
   "cell_type": "markdown",
   "metadata": {},
   "source": [
    "## Fitting a dummy classifier before preprocessing"
   ]
  },
  {
   "cell_type": "code",
   "execution_count": 83,
   "metadata": {},
   "outputs": [
    {
     "name": "stdout",
     "output_type": "stream",
     "text": [
      "17.6698614685\n",
      "16.9125185402\n"
     ]
    }
   ],
   "source": [
    "dummy = DummyClassifier(random_state=0)\n",
    "dummy.fit(X_tr_B, y_tr_B)\n",
    "print(log_loss(y_tr_B, dummy.predict_proba(X_tr_B)))\n",
    "\n",
    "#priot one use\n",
    "print(log_loss(y_val_B, dummy.predict_proba(X_val_B)))\n",
    "#logprint(\"The log loss of my dummy classifier on the training data before preprocessing is {} and on my validation data is {}\".format(log_loss(y_tr_B, dummy.predict(X_tr_B)), log_loss(y_val_B, dummy.predict(X_val_B))))"
   ]
  },
  {
   "cell_type": "markdown",
   "metadata": {},
   "source": [
    "## Preprocessing"
   ]
  },
  {
   "cell_type": "markdown",
   "metadata": {},
   "source": [
    "### Preprocessing using standard scaling"
   ]
  },
  {
   "cell_type": "code",
   "execution_count": 84,
   "metadata": {},
   "outputs": [],
   "source": [
    "scaled = StandardScaler()\n",
    "scaled.fit(X_tr_B)\n",
    "scaled_X_tr_B=(scaled.transform(X_tr_B))\n",
    "scaled_X_val_B=(scaled.transform(X_val_B))\n",
    "scaled_X_test_B=(scaled.transform(X_test_B))"
   ]
  },
  {
   "cell_type": "markdown",
   "metadata": {},
   "source": [
    "### Fitting a dummy classifier after preprocessing"
   ]
  },
  {
   "cell_type": "code",
   "execution_count": 85,
   "metadata": {},
   "outputs": [
    {
     "name": "stdout",
     "output_type": "stream",
     "text": [
      "The log loss of my dummy classifier on the training data after preprocessing is 17.6698614685 and on my validation data is 16.9125185402\n"
     ]
    }
   ],
   "source": [
    "dummy2 = DummyClassifier(random_state=0)\n",
    "dummy2.fit(scaled_X_tr_B, y_tr_B)\n",
    "print(\"The log loss of my dummy classifier on the training data after preprocessing is {} and on my validation data is {}\".format(log_loss(y_tr_B, dummy2.predict_proba(scaled_X_tr_B)), log_loss(y_val_B, dummy2.predict_proba(scaled_X_val_B))))"
   ]
  },
  {
   "cell_type": "markdown",
   "metadata": {},
   "source": [
    "## Training and Evaluating different model classifiers after preprocessing"
   ]
  },
  {
   "cell_type": "markdown",
   "metadata": {},
   "source": [
    "#### I have more than 50 samples, I'm predicting a category I have labelled data and I have less than 100K samples: try Linear SVC"
   ]
  },
  {
   "cell_type": "code",
   "execution_count": 86,
   "metadata": {},
   "outputs": [],
   "source": [
    "# store values in arrays to use in ensemble model later, and to plot graphs\n",
    "estimators = []\n",
    "models_used = []\n",
    "models_log_losses_tr = []\n",
    "models_log_losses_val = []"
   ]
  },
  {
   "cell_type": "code",
   "execution_count": null,
   "metadata": {
    "scrolled": true
   },
   "outputs": [],
   "source": [
    "linearSVC = LinearSVC()\n",
    "clf = CalibratedClassifierCV(linearSVC) \n",
    "clf.fit(scaled_X_tr_B, y_tr_B)\n",
    "\n",
    "linearSVC_log_loss_tr = log_loss(y_tr_B, clf.predict_proba(scaled_X_tr_B))\n",
    "linearSVC_log_loss_val = log_loss(y_val_B, clf.predict_proba(scaled_X_val_B))\n",
    "\n",
    "print(\"Model: {}\\n\\nLog loss:\\n\\nTraining data: {}\\nValidation data: {}\".format('linearSVC', linearSVC_log_loss_tr, linearSVC_log_loss_val))"
   ]
  },
  {
   "cell_type": "code",
   "execution_count": null,
   "metadata": {},
   "outputs": [],
   "source": [
    "estimators.append(('SVClinear', clf))\n",
    "models_used.append('linear')\n",
    "models_log_losses_tr.append(linearSVC_log_loss_tr)\n",
    "models_log_losses_val.append(linearSVC_log_loss_val)"
   ]
  },
  {
   "cell_type": "code",
   "execution_count": null,
   "metadata": {
    "scrolled": true
   },
   "outputs": [],
   "source": [
    "solverScoresTr = []\n",
    "solverScoresVal=[]\n",
    "solvers = ['newton-cg', 'lbfgs', 'liblinear']\n",
    "for solver in solvers:\n",
    "    logisticCV2 = LogisticRegressionCV(Cs=C, cv=kfold, solver=solver)\n",
    "    logisticCV2.fit(scaled_X_tr_B, y_tr_B)\n",
    "    solverScoresTr.append(log_loss(y_tr_B, logisticCV2.predict_proba(scaled_X_tr_B)))\n",
    "    solverScoresVal.append(log_loss(y_val_B, logisticCV2.predict_proba(scaled_X_val_B)))"
   ]
  },
  {
   "cell_type": "code",
   "execution_count": null,
   "metadata": {},
   "outputs": [],
   "source": []
  },
  {
   "cell_type": "code",
   "execution_count": null,
   "metadata": {},
   "outputs": [],
   "source": []
  },
  {
   "cell_type": "code",
   "execution_count": null,
   "metadata": {},
   "outputs": [],
   "source": []
  },
  {
   "cell_type": "code",
   "execution_count": null,
   "metadata": {},
   "outputs": [],
   "source": []
  },
  {
   "cell_type": "code",
   "execution_count": null,
   "metadata": {
    "scrolled": true
   },
   "outputs": [],
   "source": [
    "print(\"Model: {}\\n\\nLog loss:\\n\\nTraining data:\\nwith solver {} : {} \\nwith solver {}: {} \\nwith solver {}: {}\\n\\nValidation data: \\nwith solver {}: {}\\nwith solver {} : {} \\nwith solver {} : {}\".format('Logistic', solvers[0], solverScoresTr[0], solvers[1], solverScoresTr[1], solvers[2], solverScoresTr[2], solvers[0], solverScoresVal[0], solvers[1], solverScoresVal[1], solvers[2], solverScoresVal[2]))"
   ]
  },
  {
   "cell_type": "code",
   "execution_count": null,
   "metadata": {
    "scrolled": true
   },
   "outputs": [],
   "source": [
    "plt.scatter([0,1,2], solverScoresTr, label='training dataset')\n",
    "plt.scatter([0,1,2], solverScoresVal, label= 'validation dataset')\n",
    "plt.legend()\n",
    "plt.xticks([0,1,2])\n",
    "plt.xlabel(\"Solver\")\n",
    "plt.xticks(range(3), solvers)\n",
    "plt.ylabel(\"Log loss\")\n",
    "plt.title('Plot to show the different solver setting in logistic model against the log losses')\n",
    "\n",
    "plt.show()"
   ]
  },
  {
   "cell_type": "markdown",
   "metadata": {},
   "source": [
    "From this graph and the printed out accuracy values, I would say that lbfgs is the best solver to use because it has the lowest log loss on the validation dataset and also it has the lowest discrepency between training and validation set log losses."
   ]
  },
  {
   "cell_type": "code",
   "execution_count": null,
   "metadata": {
    "scrolled": true
   },
   "outputs": [],
   "source": [
    "#initialise logistic with solver that I chose\n",
    "logistic = LogisticRegressionCV(Cs=C, cv=kfold, solver='lbfgs')\n",
    "logistic.fit(scaled_X_tr_B, y_tr_B)\n",
    "\n",
    "logistic_log_loss_tr = log_loss(y_tr_B, logistic.predict_proba(scaled_X_tr_B))\n",
    "logistic_log_loss_val = log_loss(y_val_B, logistic.predict_proba(scaled_X_val_B))\n",
    "\n",
    "print(\"Model: {}\\n\\nLog loss:\\n\\nTraining data: {}\\nValidation data: {}\".format('logistic', logistic_log_loss_tr, logistic_log_loss_val))"
   ]
  },
  {
   "cell_type": "code",
   "execution_count": null,
   "metadata": {},
   "outputs": [],
   "source": [
    "estimators.append(('logistic', logistic))\n",
    "models_used.append('logistic')\n",
    "models_log_losses_tr.append(logistic_log_loss_tr)\n",
    "models_log_losses_val.append(logistic_log_loss_val)"
   ]
  },
  {
   "cell_type": "markdown",
   "metadata": {},
   "source": [
    "#### I don't have text data: try K Neighbours classifier"
   ]
  },
  {
   "cell_type": "code",
   "execution_count": null,
   "metadata": {
    "scrolled": true
   },
   "outputs": [],
   "source": [
    "from sklearn.neighbors import KNeighborsClassifier\n",
    "\n",
    "n_log_loss_training = []\n",
    "n_log_loss_validation = []\n",
    "\n",
    "n=np.arange(30)\n",
    "\n",
    "for index, neighbours in enumerate(n):\n",
    "    KNN = KNeighborsClassifier(n_neighbors=index+1)\n",
    "    KNN.fit(scaled_X_tr_B, y_tr_B)\n",
    "    KNN_log_loss_tr = log_loss(y_tr_B, KNN.predict_proba(scaled_X_tr_B))\n",
    "    n_log_loss_training.append(KNN_log_loss_tr)\n",
    "    KNN_log_loss_val = log_loss(y_val_B, KNN.predict_proba(scaled_X_val_B))\n",
    "    n_log_loss_validation.append(KNN_log_loss_val)"
   ]
  },
  {
   "cell_type": "code",
   "execution_count": null,
   "metadata": {
    "scrolled": false
   },
   "outputs": [],
   "source": [
    "plt.plot(n, n_log_loss_training, label='log loss on training data')\n",
    "plt.plot(n, n_log_loss_validation, label='log loss on validation data')\n",
    "plt.xlabel('Number of nearest neighbours')\n",
    "plt.ylabel('Log loss')\n",
    "plt.title('Plot to show the log losses on the training and validations data \\nusing a different number of nearest neighbours')\n",
    "plt.legend()\n",
    "plt.show()"
   ]
  },
  {
   "cell_type": "code",
   "execution_count": null,
   "metadata": {},
   "outputs": [],
   "source": [
    "plt.plot(n, n_log_loss_training, label='log loss on training data')\n",
    "\n",
    "plt.plot(n, n_log_loss_validation, label='log loss on validation data')\n",
    "\n",
    "plt.xlabel('Number of nearest neighbours')\n",
    "\n",
    "plt.xlim([15,30])\n",
    "plt.ylim([0,1])\n",
    "\n",
    "plt.ylabel('Log loss')\n",
    "\n",
    "plt.title('Plot to show the log losses on the trianing and validations data \\nusing a different number of nearest neighbours')\n",
    "\n",
    "plt.legend()\n",
    "\n",
    "plt.show()"
   ]
  },
  {
   "cell_type": "markdown",
   "metadata": {},
   "source": [
    "By eyeing the graphs, I see that with very few nearest neighbours, the algorithm overfits to the training data. I can see that as there is a large discrepency between the log loss on the training data and the log loss on the validation data. At Around 19 nearest neighbours, there is little overfitting and the log loss seems to flatten out after that, so there is no point having any more neighbours than thsi as this would just be more computationally expensive for no improvement."
   ]
  },
  {
   "cell_type": "code",
   "execution_count": null,
   "metadata": {},
   "outputs": [],
   "source": [
    "#Initialise KNN using number of n that I chose\n",
    "KNN = KNeighborsClassifier(n_neighbors=19)\n",
    "KNN.fit(scaled_X_tr_B, y_tr_B)\n",
    "\n",
    "KNN_log_loss_tr = log_loss(y_tr_B, KNN.predict_proba(scaled_X_tr_B))\n",
    "KNN_log_loss_val = log_loss(y_val_B, KNN.predict_proba(scaled_X_val_B))\n",
    "\n",
    "print(\"Model: {}\\n\\nLog loss:\\n\\nTraining data: {}\\nValidation data: {}\".format('K Neighbours', KNN_log_loss_tr, KNN_log_loss_val))"
   ]
  },
  {
   "cell_type": "code",
   "execution_count": null,
   "metadata": {},
   "outputs": [],
   "source": [
    "estimators.append(('KNN', KNN))\n",
    "models_used.append('K Nearest Neighbours')\n",
    "models_log_losses_tr.append(KNN_log_loss_tr)\n",
    "models_log_losses_val.append(KNN_log_loss_val)"
   ]
  },
  {
   "cell_type": "markdown",
   "metadata": {},
   "source": [
    "#### Try support vector machine classifiers"
   ]
  },
  {
   "cell_type": "code",
   "execution_count": null,
   "metadata": {},
   "outputs": [],
   "source": [
    "svc_linear = SVC(kernel='linear', random_state=0, probability=True)\n",
    "svc_linear.fit(scaled_X_tr_B, y_tr_B)\n",
    "\n",
    "svc_linear_log_loss_tr = log_loss(y_tr_B, svc_linear.predict_proba(scaled_X_tr_B))\n",
    "svc_linear_log_loss_val = log_loss(y_val_B, svc_linear.predict_proba(scaled_X_val_B))\n",
    "\n",
    "print(\"Model: {}\\n\\nLog loss:\\n\\nTraining data: {}\\nValidation data: {}\".format('SVC with linear kernel', svc_linear_log_loss_tr, svc_linear_log_loss_val))"
   ]
  },
  {
   "cell_type": "code",
   "execution_count": null,
   "metadata": {},
   "outputs": [],
   "source": [
    "estimators.append(('SVClinearKernel', svc_linear))\n",
    "models_used.append('SVClinearKernel')\n",
    "models_log_losses_tr.append(svc_linear_log_loss_tr)\n",
    "models_log_losses_val.append(svc_linear_log_loss_val)"
   ]
  },
  {
   "cell_type": "code",
   "execution_count": null,
   "metadata": {
    "scrolled": false
   },
   "outputs": [],
   "source": [
    "svc_rbf = SVC(kernel='rbf', random_state=0, probability=True)\n",
    "svc_rbf.fit(scaled_X_tr_B, y_tr_B)\n",
    "\n",
    "svc_rbf_log_loss_tr = log_loss(y_tr_B, svc_rbf.predict_proba(scaled_X_tr_B))\n",
    "svc_rbf_log_loss_val = log_loss(y_val_B, svc_rbf.predict_proba(scaled_X_val_B))\n",
    "\n",
    "print(\"Model: {}\\n\\nLog loss:\\n\\nTraining data: {}\\nValidation data: {}\".format('SVC with rbf kernel', svc_rbf_log_loss_tr, svc_rbf_log_loss_val))"
   ]
  },
  {
   "cell_type": "code",
   "execution_count": null,
   "metadata": {},
   "outputs": [],
   "source": [
    "estimators.append(('SVCrbfKernel', svc_rbf))\n",
    "models_used.append('SVCrbfKernel')\n",
    "models_log_losses_tr.append(svc_rbf_log_loss_tr)\n",
    "models_log_losses_val.append(svc_rbf_log_loss_val)"
   ]
  },
  {
   "cell_type": "code",
   "execution_count": null,
   "metadata": {},
   "outputs": [],
   "source": [
    "svc_poly = SVC(kernel='poly', random_state=0, probability=True)\n",
    "svc_poly.fit(scaled_X_tr_B, y_tr_B)\n",
    "\n",
    "svc_poly_log_loss_tr = log_loss(y_tr_B, svc_poly.predict_proba(scaled_X_tr_B))\n",
    "svc_poly_log_loss_val = log_loss(y_val_B, svc_poly.predict_proba(scaled_X_val_B))\n",
    "\n",
    "print(\"Model: {}\\n\\nLog loss:\\n\\nTraining data: {}\\nValidation data: {}\".format('SVC with polynomial kernel', svc_rbf_log_loss_tr, svc_rbf_log_loss_val))"
   ]
  },
  {
   "cell_type": "code",
   "execution_count": null,
   "metadata": {},
   "outputs": [],
   "source": [
    "estimators.append(('SVCpolyKernel', svc_poly))\n",
    "models_used.append('SVCpolyKernel')\n",
    "models_log_losses_tr.append(svc_poly_log_loss_tr)\n",
    "models_log_losses_val.append(svc_poly_log_loss_val)"
   ]
  },
  {
   "cell_type": "markdown",
   "metadata": {},
   "source": [
    "#### Try ensemble classifiers"
   ]
  },
  {
   "cell_type": "code",
   "execution_count": null,
   "metadata": {},
   "outputs": [],
   "source": [
    "from sklearn.ensemble import RandomForestClassifier\n",
    "\n",
    "depth = np.arange(30)\n",
    "depths_log_loss_tr = []\n",
    "depths_log_loss_val = []\n",
    "\n",
    "for index, depths in enumerate(depth):\n",
    "    RF = RandomForestClassifier(n_estimators=500, random_state=0, max_depth=index+1)\n",
    "    RF.fit(scaled_X_tr_B, y_tr_B)\n",
    "    RF_log_loss_tr = log_loss(y_tr_B, RF.predict_proba(scaled_X_tr_B))\n",
    "    RF_log_loss_val = log_loss(y_val_B, RF.predict_proba(scaled_X_val_B))\n",
    "    depths_log_loss_tr.append(RF_log_loss_tr)\n",
    "    depths_log_loss_val.append(RF_log_loss_val)"
   ]
  },
  {
   "cell_type": "code",
   "execution_count": null,
   "metadata": {
    "scrolled": false
   },
   "outputs": [],
   "source": [
    "plt.plot(depth, depths_log_loss_tr, label='training data')\n",
    "plt.plot(depth, depths_log_loss_val, label='validation data')\n",
    "plt.xlabel('Max depth')\n",
    "plt.ylabel('Log loss')\n",
    "plt.legend()\n",
    "plt.title('Plot to show max depth in random forest against log loss scores')\n",
    "plt.show()"
   ]
  },
  {
   "cell_type": "markdown",
   "metadata": {},
   "source": [
    "I can see from this graph that although the log loss is good for the validation set with a random forest classifier, the discrepency between the losses for the training and validation sets is very large, so it is overfitting to the training data. Discussed further in report. "
   ]
  },
  {
   "cell_type": "code",
   "execution_count": 90,
   "metadata": {
    "scrolled": true
   },
   "outputs": [
    {
     "data": {
      "text/plain": [
       "RandomForestClassifier(bootstrap=True, class_weight=None, criterion='gini',\n",
       "            max_depth=None, max_features='auto', max_leaf_nodes=None,\n",
       "            min_impurity_decrease=0.0, min_impurity_split=None,\n",
       "            min_samples_leaf=1, min_samples_split=2,\n",
       "            min_weight_fraction_leaf=0.0, n_estimators=500, n_jobs=1,\n",
       "            oob_score=False, random_state=0, verbose=0, warm_start=False)"
      ]
     },
     "execution_count": 90,
     "metadata": {},
     "output_type": "execute_result"
    }
   ],
   "source": [
    "RF1 = RandomForestClassifier(n_estimators=500, random_state=0)\n",
    "RF1.fit(scaled_X_tr_B, y_tr_B)\n",
    "#RF_log_loss_tr = log_loss(y_tr_B, RF.predict_proba(scaled_X_tr_B))\n",
    "#RF_log_loss_val = log_loss(y_val_B, RF.predict_proba(scaled_X_val_B))\n",
    "\n",
    "#print(\"Model: {}\\n\\nLog loss:\\n\\nTraining data: {}\\nValidation data: {}\".format('Random forest', RF_log_loss_tr, RF_log_loss_val))"
   ]
  },
  {
   "cell_type": "code",
   "execution_count": null,
   "metadata": {},
   "outputs": [],
   "source": [
    "estimators.append(('RBF', RF))\n",
    "models_used.append('RBF')\n",
    "models_log_losses_tr.append(RF_log_loss_tr)\n",
    "models_log_losses_val.append(RF_log_loss_val)"
   ]
  },
  {
   "cell_type": "code",
   "execution_count": null,
   "metadata": {},
   "outputs": [],
   "source": [
    "ensemble = VotingClassifier(estimators, voting='soft')\n",
    "ensemble.fit(scaled_X_tr_B, y_tr_B)\n",
    "ensembleVotingClassifier_log_loss_tr = log_loss(y_tr_B, ensemble.predict_proba(scaled_X_tr_B))\n",
    "ensembleVotingClassifier_log_loss_val = log_loss(y_val_B, ensemble.predict_proba(scaled_X_val_B))"
   ]
  },
  {
   "cell_type": "code",
   "execution_count": null,
   "metadata": {},
   "outputs": [],
   "source": [
    "ensembleVotingClassifier_log_loss_tr"
   ]
  },
  {
   "cell_type": "code",
   "execution_count": null,
   "metadata": {},
   "outputs": [],
   "source": [
    "ensembleVotingClassifier_log_loss_val"
   ]
  },
  {
   "cell_type": "code",
   "execution_count": null,
   "metadata": {},
   "outputs": [],
   "source": [
    "models_used.append('Ensemble voting classifier')\n",
    "models_log_losses_tr.append(ensembleVotingClassifier_log_loss_tr)\n",
    "models_log_losses_val.append(ensembleVotingClassifier_log_loss_val)"
   ]
  },
  {
   "cell_type": "code",
   "execution_count": null,
   "metadata": {
    "scrolled": true
   },
   "outputs": [],
   "source": [
    "plt.figure(figsize=(8,4))\n",
    "x=np.arange(len(models_used))\n",
    "plt.plot(x, models_log_losses_tr)\n",
    "plt.plot(x, models_log_losses_val)\n",
    "plt.xlabel('Model')\n",
    "plt.ylabel('log loss')\n",
    "plt.xticks(range(8), models_used, rotation=70)\n",
    "plt.title('Plot showing the different models trained against the log losses they produced')\n",
    "plt.show()"
   ]
  },
  {
   "cell_type": "markdown",
   "metadata": {},
   "source": [
    "## Try a different preprocessing technique: PCA"
   ]
  },
  {
   "cell_type": "code",
   "execution_count": null,
   "metadata": {
    "scrolled": true
   },
   "outputs": [],
   "source": [
    "from sklearn.decomposition import PCA\n",
    "#Create new PCA object and fit with data\n",
    "pcaB = PCA(n_components=X_tr_B.shape[1])\n",
    "pcaB.fit(X_tr_B)\n",
    "\n",
    "#Find the first index where the cumulative explained ration is larger than 0.95\n",
    "#Add 1 to the index to find the x value (number of components) because indexing starts from\n",
    "#0 but number of components starts from 1\n",
    "xNinetyFive = np.where(pcaB.explained_variance_ratio_.cumsum()>0.95)[0][0]+1\n",
    "\n",
    "#Plot explained variance ration against number of components\n",
    "plt.plot(pcaB.explained_variance_ratio_, color = 'm')\n",
    "plt.xlabel('Number of components')\n",
    "plt.ylabel('Explained variance ratio')\n",
    "plt.title('Plot showing explained variance ration against number of components')\n",
    "plt.vlines(xNinetyFive, 0, 1, color = 'c', linestyles='dotted')\n",
    "plt.annotate(str(xNinetyFive) + \" eigenvectors are used \\nwhen 95% of the variance\\n has been explained \", xytext=(35, 0.08), xy=(xNinetyFive,pcaB.explained_variance_ratio_[xNinetyFive]),arrowprops=dict(arrowstyle=\"fancy\", connectionstyle=\"arc3\"))\n",
    "plt.show()\n",
    "\n",
    "#Plot cumulative explained variance ration against number of components\n",
    "plt.plot(pcaB.explained_variance_ratio_.cumsum(), color = 'm')\n",
    "plt.xlabel('Number of components')\n",
    "plt.ylabel('Explained variance ratio')\n",
    "plt.title('Plot showing cumulative explained variance ration against number of components')\n",
    "plt.hlines(0.95, 0, 500, color = 'c', linestyles='dotted')\n",
    "plt.show()"
   ]
  },
  {
   "cell_type": "code",
   "execution_count": null,
   "metadata": {},
   "outputs": [],
   "source": [
    "pca2 = PCA(n_components=xNinetyFive)\n",
    "pca2.fit(X_tr_B)\n",
    "transformedDataTrain = pcaB.transform(X_tr_B)\n",
    "transformedDataVal=pcaB.transform(X_val_B)"
   ]
  },
  {
   "cell_type": "markdown",
   "metadata": {},
   "source": [
    "## Repeat the same process fitting models, but with PCA transformed data"
   ]
  },
  {
   "cell_type": "markdown",
   "metadata": {},
   "source": [
    "#### Try the previously best performing models with new PCA features"
   ]
  },
  {
   "cell_type": "code",
   "execution_count": null,
   "metadata": {
    "scrolled": true
   },
   "outputs": [],
   "source": [
    "linearSVC = LinearSVC()\n",
    "clf = CalibratedClassifierCV(linearSVC) \n",
    "clf.fit(transformedDataTrain, y_tr_B)\n",
    "\n",
    "print(\"Model: {}\\nLog loss:\\nTraining data: {}\\nValidation data: {}\".format('linearSVC', log_loss(y_tr_B, clf.predict_proba(transformedDataTrain)),log_loss(y_val_B, clf.predict_proba(transformedDataVal))))"
   ]
  },
  {
   "cell_type": "code",
   "execution_count": 89,
   "metadata": {
    "scrolled": true
   },
   "outputs": [
    {
     "ename": "NameError",
     "evalue": "name 'transformedDataTrain' is not defined",
     "output_type": "error",
     "traceback": [
      "\u001b[0;31m---------------------------------------------------------------------------\u001b[0m",
      "\u001b[0;31mNameError\u001b[0m                                 Traceback (most recent call last)",
      "\u001b[0;32m<ipython-input-89-cd13fedd2650>\u001b[0m in \u001b[0;36m<module>\u001b[0;34m()\u001b[0m\n\u001b[1;32m      1\u001b[0m \u001b[0mRF\u001b[0m \u001b[0;34m=\u001b[0m \u001b[0mRandomForestClassifier\u001b[0m\u001b[0;34m(\u001b[0m\u001b[0mn_estimators\u001b[0m\u001b[0;34m=\u001b[0m\u001b[0;36m500\u001b[0m\u001b[0;34m,\u001b[0m \u001b[0mrandom_state\u001b[0m\u001b[0;34m=\u001b[0m\u001b[0;36m0\u001b[0m\u001b[0;34m)\u001b[0m\u001b[0;34m\u001b[0m\u001b[0m\n\u001b[0;32m----> 2\u001b[0;31m \u001b[0mRF\u001b[0m\u001b[0;34m.\u001b[0m\u001b[0mfit\u001b[0m\u001b[0;34m(\u001b[0m\u001b[0mtransformedDataTrain\u001b[0m\u001b[0;34m,\u001b[0m \u001b[0my_tr_B\u001b[0m\u001b[0;34m)\u001b[0m\u001b[0;34m\u001b[0m\u001b[0m\n\u001b[0m\u001b[1;32m      3\u001b[0m \u001b[0;31m#RF_log_loss_tr = log_loss(y_tr_B, RF.predict_proba(transformedDataTrain))\u001b[0m\u001b[0;34m\u001b[0m\u001b[0;34m\u001b[0m\u001b[0m\n\u001b[1;32m      4\u001b[0m \u001b[0;31m#RF_log_loss_val = log_loss(y_val_B, RF.predict_proba(transformedDataVal))\u001b[0m\u001b[0;34m\u001b[0m\u001b[0;34m\u001b[0m\u001b[0m\n\u001b[1;32m      5\u001b[0m \u001b[0;34m\u001b[0m\u001b[0m\n",
      "\u001b[0;31mNameError\u001b[0m: name 'transformedDataTrain' is not defined"
     ]
    }
   ],
   "source": [
    "RF = RandomForestClassifier(n_estimators=500, random_state=0)\n",
    "RF.fit(transformedDataTrain, y_tr_B)\n",
    "#RF_log_loss_tr = log_loss(y_tr_B, RF.predict_proba(transformedDataTrain))\n",
    "#RF_log_loss_val = log_loss(y_val_B, RF.predict_proba(transformedDataVal))\n",
    "\n",
    "#print(\"Model: {}\\n\\nLog loss:\\n\\nTraining data: {}\\nValidation data: {}\".format('Random forest', RF_log_loss_tr, RF_log_loss_val))"
   ]
  },
  {
   "cell_type": "markdown",
   "metadata": {},
   "source": [
    "# Report"
   ]
  },
  {
   "cell_type": "markdown",
   "metadata": {},
   "source": [
    "I am trying to find the best classifier for the person/no person classification task To do this, I first investigated my data a little to get a feel for it and dropped the class and imgID columns from the training and validation datasets, as we wouldn't have these for new unseen data. I decided there was no need to remove outliers since there were no obviously extreme ones. I then fit a dummy classifier even before preprocessing to get an absolute baseline. I next preprocessed the training and validation data by using standard scaling to change all the training feature means to 0 and standard deviations to 1 and then fit the validation to this, so that my classifiers would yield better results. I then fit a dummy classifier after preprocessing too. \n",
    "\n",
    "To start my investigation with classifiers, I looked at http://scikit-learn.org/stable/tutorial/machine_learning_map/index.html and followed this to have an idea of where to begin my investigation. I had more than 50 data samples, I was predicting a person/no person category, I had labelled data and I had less than 100K samples. Therefore, I began my investigation with a linear SVC. This had a fairly good log loss of ~0.693 on the validation set. In fact, most of the classifiers ended up with losses around 0.6-0.7. I then thought, because we are dealing with categorical data, that I would try and fit a logistic model. I tried three different solvers (I did not try sag and saga since they were too computationally expensive). I plotted a scatter plot of the log losses with each solver and decided that lbfgs was the best as it obtained the lowest validation score and also over fitted to the training data the least. \n",
    "\n",
    "Since I don't have text data, I next tried K Neighbours classifier. I plotted a graph of the number of nearest neighbours used against the log loss, and chose 19 as a suitable number as it yielded a low log loss and also did not overfit too much to the training data. \n",
    "\n",
    "I then tried support vector machine models with each of the kernels. Again, I got values in the range 0.6-0.7 for the log losses. \n",
    "\n",
    "I then tried ensemble classifiers. I first tried a random forest classifier, and varied the max depth to find a suitable one. I saw from this graph that although the log loss was good for the validation set with a random forest classifier, the discrepancy between the losses for the training and validation sets was very large, so it was over fitting to the training data. If we didn't have a validation set, then this would be important, however we do and so the log loss on the validation accuracy is a good indicator of how well the model performs on unseen data. Random forest gave me the best validation log loss so far (0.585005399772).\n",
    "\n",
    "Next I trained a voting classifier model to see if the models better would yield a better result. I added each model to an estimators array as I was going though the challenge so that I could create a new model of them together. This ensemble model performed reasonably well with a log loss of   on the validation 0.6283422692061178, however it was not as good as random forest by itself (although it did overfit a lot less!).\n",
    "\n",
    "I plotted a graph of each of the models I investigated against the log losses they achieved on both datasets so I could more easily compare them. \n",
    "\n",
    "I then tried a different preprocessing technique since the features can be more important that the model. I used PCA with 95% explained variance. However, on my best two models (logistic and random forest), it performed worse.\n",
    "\n",
    "In the end, I decided to use standard scaling and the random forest with no maximum depth as a model as it gave me the best log loss score on the validation data. \n",
    "\n",
    "If I were to do a further investigation, I would explore some more different preprocessing techniques and also do further tuning to find optimal parameters (such as finding optimal C , degree and gamma for SVM classifiers – although this can be very computationally expensive). "
   ]
  },
  {
   "cell_type": "code",
   "execution_count": 91,
   "metadata": {},
   "outputs": [],
   "source": [
    "test_images_partB_pred_proba = RF1.predict_proba(X_test_B)"
   ]
  },
  {
   "cell_type": "code",
   "execution_count": 92,
   "metadata": {},
   "outputs": [],
   "source": [
    "# Execute this cell to export your results\n",
    "from numpy import savetxt\n",
    "def save_predictions(pred_proba):\n",
    "    if pred_proba.shape != (1114,2):\n",
    "        raise ValueError('Predicted probabilities array is not the right shape.')\n",
    "    \n",
    "    savetxt('assignment_3_predictions.txt', pred_proba)\n",
    "\n",
    "# You need to replace \"test_images_partB_pred_proba\"\n",
    "# with the name of the array which contains the probability \n",
    "# estimates for the data in the test set.\n",
    "save_predictions(test_images_partB_pred_proba) "
   ]
  },
  {
   "cell_type": "markdown",
   "metadata": {
    "collapsed": true
   },
   "source": [
    "# Appendix"
   ]
  },
  {
   "cell_type": "markdown",
   "metadata": {},
   "source": [
    "## More information about visual words"
   ]
  },
  {
   "cell_type": "markdown",
   "metadata": {},
   "source": [
    "Visual words are based on [Scale-invariant feature transforms (SIFT)](https://en.wikipedia.org/wiki/Scale-invariant_feature_transform). SIFT features are essentially local orientation histograms and capture the properties of small image regions. They possess attractive invariance properties which make them well suited for our task (you can read more about SIFT features in [D.Lowe, IJCV 60(2):91- 110, 2004](http://link.springer.com/article/10.1023/B:VISI.0000029664.99615.94), but the details don't matter for the purpose of this assignment). Each SIFT feature is a 128 dimensional vector. From each image many SIFT features are extracted, typically > 2500 per image (features are extracted at regular intervals using a 15 pixel grid and at 4 different scales). To obtain visual words a representative subset of all extracted SIFT features from all images is chosen and clustered with k-means using 500 centres (such use of the k-means algorithm will be discussed in detail during the lecture). These 500 cluster centres form our visual words. The representation of a single image is obtained by first assigning each SIFT feature extracted from the image to the appropriate cluster (i.e. we determine the visual word corresponding to each feature by picking the closest cluster centre). We then count the number of features from that image assigned to each cluster (i.e. we determine how often each visual word is present in the image). This results in a 500 dimensional count vector for each image (one dimension for each visual word). The normalized version of this count vector gives the final representation of the image (normalized means that we divide the count vector by the total number of visual words in the image, i.e. the normalized counts sum to 1 for each image)"
   ]
  },
  {
   "cell_type": "code",
   "execution_count": null,
   "metadata": {},
   "outputs": [],
   "source": []
  },
  {
   "cell_type": "code",
   "execution_count": null,
   "metadata": {},
   "outputs": [],
   "source": []
  },
  {
   "cell_type": "code",
   "execution_count": null,
   "metadata": {},
   "outputs": [],
   "source": []
  },
  {
   "cell_type": "code",
   "execution_count": null,
   "metadata": {},
   "outputs": [],
   "source": []
  },
  {
   "cell_type": "code",
   "execution_count": null,
   "metadata": {},
   "outputs": [],
   "source": []
  },
  {
   "cell_type": "code",
   "execution_count": null,
   "metadata": {},
   "outputs": [],
   "source": []
  },
  {
   "cell_type": "code",
   "execution_count": null,
   "metadata": {},
   "outputs": [],
   "source": []
  },
  {
   "cell_type": "code",
   "execution_count": null,
   "metadata": {},
   "outputs": [],
   "source": []
  },
  {
   "cell_type": "code",
   "execution_count": null,
   "metadata": {},
   "outputs": [],
   "source": []
  },
  {
   "cell_type": "code",
   "execution_count": null,
   "metadata": {},
   "outputs": [],
   "source": []
  },
  {
   "cell_type": "code",
   "execution_count": null,
   "metadata": {},
   "outputs": [],
   "source": []
  },
  {
   "cell_type": "code",
   "execution_count": null,
   "metadata": {},
   "outputs": [],
   "source": []
  },
  {
   "cell_type": "code",
   "execution_count": null,
   "metadata": {},
   "outputs": [],
   "source": []
  },
  {
   "cell_type": "code",
   "execution_count": null,
   "metadata": {},
   "outputs": [],
   "source": []
  },
  {
   "cell_type": "code",
   "execution_count": null,
   "metadata": {},
   "outputs": [],
   "source": []
  },
  {
   "cell_type": "code",
   "execution_count": null,
   "metadata": {},
   "outputs": [],
   "source": []
  },
  {
   "cell_type": "code",
   "execution_count": null,
   "metadata": {},
   "outputs": [],
   "source": []
  },
  {
   "cell_type": "code",
   "execution_count": null,
   "metadata": {},
   "outputs": [],
   "source": []
  },
  {
   "cell_type": "code",
   "execution_count": null,
   "metadata": {},
   "outputs": [],
   "source": []
  },
  {
   "cell_type": "code",
   "execution_count": null,
   "metadata": {},
   "outputs": [],
   "source": []
  },
  {
   "cell_type": "code",
   "execution_count": null,
   "metadata": {},
   "outputs": [],
   "source": []
  },
  {
   "cell_type": "code",
   "execution_count": null,
   "metadata": {},
   "outputs": [],
   "source": []
  },
  {
   "cell_type": "code",
   "execution_count": null,
   "metadata": {},
   "outputs": [],
   "source": []
  },
  {
   "cell_type": "code",
   "execution_count": null,
   "metadata": {},
   "outputs": [],
   "source": []
  },
  {
   "cell_type": "code",
   "execution_count": null,
   "metadata": {},
   "outputs": [],
   "source": []
  },
  {
   "cell_type": "code",
   "execution_count": null,
   "metadata": {},
   "outputs": [],
   "source": []
  },
  {
   "cell_type": "code",
   "execution_count": null,
   "metadata": {},
   "outputs": [],
   "source": []
  },
  {
   "cell_type": "code",
   "execution_count": null,
   "metadata": {},
   "outputs": [],
   "source": []
  },
  {
   "cell_type": "code",
   "execution_count": null,
   "metadata": {},
   "outputs": [],
   "source": []
  },
  {
   "cell_type": "code",
   "execution_count": null,
   "metadata": {},
   "outputs": [],
   "source": []
  },
  {
   "cell_type": "code",
   "execution_count": null,
   "metadata": {},
   "outputs": [],
   "source": []
  },
  {
   "cell_type": "code",
   "execution_count": null,
   "metadata": {},
   "outputs": [],
   "source": []
  },
  {
   "cell_type": "code",
   "execution_count": null,
   "metadata": {},
   "outputs": [],
   "source": []
  }
 ],
 "metadata": {
  "anaconda-cloud": {},
  "kernelspec": {
   "display_name": "Python 2",
   "language": "python",
   "name": "python2"
  },
  "language_info": {
   "codemirror_mode": {
    "name": "ipython",
    "version": 2
   },
   "file_extension": ".py",
   "mimetype": "text/x-python",
   "name": "python",
   "nbconvert_exporter": "python",
   "pygments_lexer": "ipython2",
   "version": "2.7.13"
  }
 },
 "nbformat": 4,
 "nbformat_minor": 1
}
