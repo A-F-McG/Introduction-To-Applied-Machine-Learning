{
 "cells": [
  {
   "cell_type": "markdown",
   "metadata": {
    "collapsed": true
   },
   "source": [
    "# Introductory applied machine learning (INFR10069)"
   ]
  },
  {
   "cell_type": "markdown",
   "metadata": {},
   "source": [
    "# Assignment 1: Data analysis and visualisation"
   ]
  },
  {
   "cell_type": "markdown",
   "metadata": {},
   "source": [
    "## Marking Breakdown\n",
    "\n",
    "**70-100%** results/answer correct plus extra achievement at understanding or analysis of results. Clear explanations, evidence of creative or deeper thought will contribute to a higher grade.\n",
    "\n",
    "**60-69%** results/answer correct or nearly correct and well explained.\n",
    "\n",
    "**50-59%** results/answer in right direction but significant errors.\n",
    "\n",
    "**40-49%** some evidence that the student has gained some understanding, but not answered the questions\n",
    "properly.\n",
    "\n",
    "**0-39%** serious error or slack work."
   ]
  },
  {
   "cell_type": "markdown",
   "metadata": {},
   "source": [
    "<font color='red'>95/100</font>"
   ]
  },
  {
   "cell_type": "markdown",
   "metadata": {},
   "source": [
    "## Mechanics\n",
    "\n",
    "Fill out this notebook, save it, and **submit it electronically as described below.**\n",
    "\n",
    "Place your notebook in a directory called `iamlans` and submit this directory using the submit command on a DICE machine:\n",
    "\n",
    "`submit iaml 1 iamlans`\n",
    "\n",
    "Please note the importance of the number. **This should changed with each assignment!** Also note that submitting again will *overwrite* your previous submission. You can check the status of your submissions with the `show_submissions` command.\n",
    "\n",
    "**Distance Learners:** To copy your work up to DICE (such that you can use the `submit` command) you can use `scp` or `rsync` (you may need to install these yourself). You can copy files up using `student.ssh.inf.ed.ac.uk`, then ssh in to submit, e.g. (in a unix terminal):\n",
    "```\n",
    "assignment_number=1\n",
    "local_scp_folder=iamlans\n",
    "UUN=s0816700\n",
    "server_address=student.ssh.inf.ed.ac.uk\n",
    "server_scp_folder=Downloads\n",
    "scp -r ${local_scp_folder} ${UUN}@${server_address}:${server_scp_folder}\n",
    "# rsync -rl ${local_scp_folder} ${UUN}@${server_address}:${server_scp_folder}\n",
    "ssh ${UUN}@${server_address}\n",
    "cd Downloads\n",
    "submit iaml ${assignment_number} iamlans\n",
    "```\n",
    "\n",
    "**Late submissions:** The policy stated in the School of Informatics MSc Degree Guide is that normally you will not be allowed to submit coursework late. See http://www.inf.ed.ac.uk/teaching/years/msc/courseguide10.html#exam for exceptions to this, e.g. in case of serious medical illness or serious personal problems.\n",
    "\n",
    "**Collaboration:** You may discuss the assignment with your colleagues, provided that the writing that you submit is entirely your own. That is, you should NOT borrow actual text or code from other students. We ask that you provide a list of the people who you've had discussions with (if any)."
   ]
  },
  {
   "cell_type": "markdown",
   "metadata": {},
   "source": [
    "## Important Instructions\n",
    "\n",
    "1. You *MUST* have your environment set up as in the [README](https://github.com/JamesOwers/iaml2017) and you *must activate this environment before running this notebook*:\n",
    "```\n",
    "source activate iaml\n",
    "cd iaml_2017\n",
    "jupyter notebook\n",
    "# Navigate to this file\n",
    "```\n",
    "\n",
    "1. Wherever you are required to produce code you should use code cells, otherwise you should use markdown cells to report results and explain answers.\n",
    "\n",
    "1. The .csv files that you will be using are located at `./datasets` (the `datasets` directory is adjacent to this file).\n",
    "\n",
    "1. **IMPORTANT:** Keep your answers brief and concise. Most written questions can be answered with 2-3 lines of explanation."
   ]
  },
  {
   "cell_type": "markdown",
   "metadata": {},
   "source": [
    "## Imports\n",
    "\n",
    "Execute the cell below to import all packages you will be using in the rest of the assignemnt."
   ]
  },
  {
   "cell_type": "code",
   "execution_count": 2,
   "metadata": {},
   "outputs": [],
   "source": [
    "from __future__ import print_function, division\n",
    "import os\n",
    "import numpy as np\n",
    "import pandas as pd\n",
    "import matplotlib.pyplot as plt\n",
    "import sklearn as sklearn\n",
    "import seaborn as sns\n",
    "from sklearn.naive_bayes import GaussianNB\n",
    "from sklearn.metrics import accuracy_score, confusion_matrix\n",
    "from scipy import stats\n",
    "from sklearn.ensemble import RandomForestClassifier\n",
    "%matplotlib inline"
   ]
  },
  {
   "cell_type": "markdown",
   "metadata": {},
   "source": [
    "## Description of the dataset\n",
    "\n",
    "This assignment is based on the 20 Newsgroups Dataset. This dataset is a collection of approximately 20,000 newsgroup documents, partitioned (nearly) evenly across 20 different newsgroups, each corresponding to a different topic. Some of the newsgroups are very closely related to each other (e.g. comp.sys.ibm.pc.hardware, comp.sys.mac.hardware), while others are highly unrelated (e.g misc.forsale, soc.religion.christian). \n",
    "\n",
    "There are three versions of the 20 Newsgroups Dataset. In this assignment we will use the `bydate` matlab version in which documents are sorted by date into training (60%) and test (40%) sets, newsgroup-identifying headers are dropped and duplicates are removed. This collection comprises roughly 61,000 different words, which results in a bag-of-words representation with frequency counts. More specifically, each document is represented by a 61,000 dimensional vector that contains the counts for each of the 61,000 different words present in the respective document. \n",
    "\n",
    "To save you time and to make the problem manageable with limited computational resources, we preprocessed the original dataset. We will use documents from only 5 out of the 20 newsgroups, which results in a 5-class problem. More specifically the 5 classes correspond to the following newsgroups: \n",
    "1. `alt.atheism`\n",
    "2. `comp.sys.ibm.pc.hardware`\n",
    "3. `comp.sys.mac.hardware`\n",
    "4. `rec.sport.baseball`\n",
    "5. `rec.sport.hockey `\n",
    "\n",
    "However, note here that classes 2-3 and 4-5 are rather closely related. Additionally, we computed the [mutual information](https://en.wikipedia.org/wiki/Mutual_information) of each word with the class attribute and selected the 520 words out of 61,000 that had highest mutual information. Therefore, our dataset is a $N \\times 520$ dimensional matrix, where $N$ is the number of documents. For very sophisticated technical reasons 1 was added to all the word counts in part A. The resulting representation is much more compact and can be used directly to perform our experiments in Python."
   ]
  },
  {
   "cell_type": "markdown",
   "metadata": {},
   "source": [
    "## 1. Exploration of the dataset [40%]"
   ]
  },
  {
   "cell_type": "markdown",
   "metadata": {},
   "source": [
    "Your first task is to get a feel for the data that you will be dealing with in the rest of the assignment."
   ]
  },
  {
   "cell_type": "markdown",
   "metadata": {},
   "source": [
    "### ========== Question 1.1 --- [5 marks] ==========\n",
    "Load the datasets `train_20news_partA.csv` and `train_20news_partB.csv` into two separate pandas DataFrames."
   ]
  },
  {
   "cell_type": "markdown",
   "metadata": {},
   "source": [
    "<font color='red'>5/5</font>"
   ]
  },
  {
   "cell_type": "code",
   "execution_count": 3,
   "metadata": {},
   "outputs": [],
   "source": [
    "# Load data set for train_20news_partA.csv and call it trainA \n",
    "data_path = os.path.join(os.getcwd(), 'datasets', 'train_20news_partA.csv')\n",
    "trainA = pd.read_csv(data_path, delimiter = ',')\n",
    "\n",
    "# Load dataset for train_20news_partB.csv and call it trainB\n",
    "data_path = os.path.join(os.getcwd(), 'datasets', 'train_20news_partB.csv')\n",
    "trainB = pd.read_csv(data_path, delimiter = ',')"
   ]
  },
  {
   "cell_type": "markdown",
   "metadata": {
    "collapsed": true
   },
   "source": [
    "### ========== Question 1.2 --- [3 marks] ==========\n",
    "Display basic information for dataset A such as number of columns, type, and memory usage (*hint: pandas dataframes have a built in method for this*) "
   ]
  },
  {
   "cell_type": "markdown",
   "metadata": {},
   "source": [
    "<font color='red'>3/3 A bit verbose for basic information</font>"
   ]
  },
  {
   "cell_type": "code",
   "execution_count": 4,
   "metadata": {},
   "outputs": [
    {
     "name": "stdout",
     "output_type": "stream",
     "text": [
      "<class 'pandas.core.frame.DataFrame'>\n",
      "Int64Index: 2129 entries, 0 to 2256\n",
      "Data columns (total 521 columns):\n",
      "w1_aaa               int64\n",
      "w2_pins              int64\n",
      "w3_kmr               int64\n",
      "w4_notion            int64\n",
      "w5_queens            int64\n",
      "w6_dwyer             int64\n",
      "w7_defenseman        int64\n",
      "w8_gld               int64\n",
      "w9_tocchet           int64\n",
      "w10_home             int64\n",
      "w11_buying           int64\n",
      "w12_internet         int64\n",
      "w13_slots            int64\n",
      "w14_compatible       int64\n",
      "w15_transfer         int64\n",
      "w16_baltimore        int64\n",
      "w17_mean             int64\n",
      "w18_person           int64\n",
      "w19_performance      int64\n",
      "w20_support          int64\n",
      "w21_tor              int64\n",
      "w22_gm               int64\n",
      "w23_mouse            int64\n",
      "w24_base             int64\n",
      "w25_population       int64\n",
      "w26_bob              int64\n",
      "w27_set              int64\n",
      "w28_it               int64\n",
      "w29_earth            int64\n",
      "w30_faith            int64\n",
      "w31_steve            int64\n",
      "w32_caps             int64\n",
      "w33_printer          int64\n",
      "w34_east             int64\n",
      "w35_cable            int64\n",
      "w36_adapter          int64\n",
      "w37_mss              int64\n",
      "w38_catcher          int64\n",
      "w39_bullpen          int64\n",
      "w40_obp              int64\n",
      "w41_innocent         int64\n",
      "w42_european         int64\n",
      "w43_angeles          int64\n",
      "w44_settings         int64\n",
      "w45_words            int64\n",
      "w46_rit              int64\n",
      "w47_shots            int64\n",
      "w48_ports            int64\n",
      "w49_vga              int64\n",
      "w50_coverage         int64\n",
      "w51_jumpers          int64\n",
      "w52_bases            int64\n",
      "w53_sea              int64\n",
      "w54_pts              int64\n",
      "w55_behavior         int64\n",
      "w56_domi             int64\n",
      "w57_sabres           int64\n",
      "w58_yzerman          int64\n",
      "w59_messier          int64\n",
      "w60_goalies          int64\n",
      "w61_hawks            int64\n",
      "w62_our              int64\n",
      "w63_sx               int64\n",
      "w64_view             int64\n",
      "w65_hitters          int64\n",
      "w66_richard          int64\n",
      "w67_point            int64\n",
      "w68_nyi              int64\n",
      "w69_mvp              int64\n",
      "w70_kill             int64\n",
      "w71_nl               int64\n",
      "w72_field            int64\n",
      "w73_connector        int64\n",
      "w74_stars            int64\n",
      "w75_th               int64\n",
      "w76_install          int64\n",
      "w77_traded           int64\n",
      "w78_configuration    int64\n",
      "w79_standard         int64\n",
      "w80_rotation         int64\n",
      "w81_ultb             int64\n",
      "w82_sports           int64\n",
      "w83_pds              int64\n",
      "w84_canada           int64\n",
      "w85_did              int64\n",
      "w86_clock            int64\n",
      "w87_first            int64\n",
      "w88_switch           int64\n",
      "w89_tonight          int64\n",
      "w90_record           int64\n",
      "w91_singer           int64\n",
      "w92_majors           int64\n",
      "w93_royals           int64\n",
      "w94_does             int64\n",
      "w95_flames           int64\n",
      "w96_of               int64\n",
      "w97_series           int64\n",
      "w98_plays            int64\n",
      "w99_det              int64\n",
      "w100_pitched         int64\n",
      "w101_cmos            int64\n",
      "w102_bobby           int64\n",
      "w103_morris          int64\n",
      "w104_saturn          int64\n",
      "w105_wwc             int64\n",
      "w106_nubus           int64\n",
      "w107_john            int64\n",
      "w108_defined         int64\n",
      "w109_fax             int64\n",
      "w110_graphics        int64\n",
      "w111_driver          int64\n",
      "w112_conference      int64\n",
      "w113_sgi             int64\n",
      "w114_yoyo            int64\n",
      "w115_early           int64\n",
      "w116_uses            int64\n",
      "w117_average         int64\n",
      "w118_as              int64\n",
      "w119_run             int64\n",
      "w120_jewish          int64\n",
      "w121_duo             int64\n",
      "w122_canadiens       int64\n",
      "w123_probert         int64\n",
      "w124_innings         int64\n",
      "w125_device          int64\n",
      "w126_species         int64\n",
      "w127_city            int64\n",
      "w128_so              int64\n",
      "w129_stadium         int64\n",
      "w130_sharks          int64\n",
      "w131_define          int64\n",
      "w132_man             int64\n",
      "w133_philadelphia    int64\n",
      "w134_monash          int64\n",
      "w135_works           int64\n",
      "w136_abc             int64\n",
      "w137_irq             int64\n",
      "w138_pin             int64\n",
      "w139_devices         int64\n",
      "w140_vice            int64\n",
      "w141_help            int64\n",
      "w142_kings           int64\n",
      "w143_example         int64\n",
      "w144_via             int64\n",
      "w145_champs          int64\n",
      "w146_are             int64\n",
      "w147_whalers         int64\n",
      "w148_fpu             int64\n",
      "w149_newton          int64\n",
      "w150_sense           int64\n",
      "w151_canadian        int64\n",
      "w152_then            int64\n",
      "w153_law             int64\n",
      "w154_certainly       int64\n",
      "w155_access          int64\n",
      "w156_ati             int64\n",
      "w157_fact            int64\n",
      "w158_price           int64\n",
      "w159_sandvik         int64\n",
      "w160_muslims         int64\n",
      "w161_ms              int64\n",
      "w162_things          int64\n",
      "w163_explain         int64\n",
      "w164_arena           int64\n",
      "w165_bure            int64\n",
      "w166_saying          int64\n",
      "w167_murder          int64\n",
      "w168_inning          int64\n",
      "w169_reds            int64\n",
      "w170_history         int64\n",
      "w171_young           int64\n",
      "w172_many            int64\n",
      "w173_gary            int64\n",
      "w174_arguments       int64\n",
      "w175_monitors        int64\n",
      "w176_au              int64\n",
      "w177_disks           int64\n",
      "w178_think           int64\n",
      "w179_points          int64\n",
      "w180_york            int64\n",
      "w181_mantis          int64\n",
      "w182_mangoe          int64\n",
      "w183_darice          int64\n",
      "w184_society         int64\n",
      "w185_believe         int64\n",
      "w186_tie             int64\n",
      "w187_bat             int64\n",
      "w188_jagr            int64\n",
      "w189_do              int64\n",
      "w190_penalty         int64\n",
      "w191_adams           int64\n",
      "w192_which           int64\n",
      "w193_gods            int64\n",
      "w194_that            int64\n",
      "w195_offense         int64\n",
      "w196_rockies         int64\n",
      "w197_atlanta         int64\n",
      "w198_beliefs         int64\n",
      "w199_capitals        int64\n",
      "w200_maynard         int64\n",
      "w201_alt             int64\n",
      "w202_minnesota       int64\n",
      "w203_rice            int64\n",
      "w204_religions       int64\n",
      "w205_hartford        int64\n",
      "w206_apr             int64\n",
      "w207_boot            int64\n",
      "w208_allan           int64\n",
      "w209_why             int64\n",
      "w210_orioles         int64\n",
      "w211_my              int64\n",
      "w212_cannot          int64\n",
      "w213_cd              int64\n",
      "w214_social          int64\n",
      "w215_nature          int64\n",
      "w216_definition      int64\n",
      "w217_simm            int64\n",
      "w218_faster          int64\n",
      "w219_not             int64\n",
      "w220_external        int64\n",
      "w221_lciii           int64\n",
      "w222_serial          int64\n",
      "w223_gretzky         int64\n",
      "w224_smythe          int64\n",
      "w225_habs            int64\n",
      "w226_maple           int64\n",
      "w227_watch           int64\n",
      "w228_umd             int64\n",
      "w229_gap             int64\n",
      "w230_jays            int64\n",
      "w231_vram            int64\n",
      "w232_program         int64\n",
      "w233_laws            int64\n",
      "w234_laurentian      int64\n",
      "w235_finals          int64\n",
      "w236_in              int64\n",
      "w237_interface       int64\n",
      "w238_defense         int64\n",
      "w239_ottawa          int64\n",
      "w240_info            int64\n",
      "w241_internal        int64\n",
      "w242_accept          int64\n",
      "w243_christians      int64\n",
      "w244_wingate         int64\n",
      "w245_penalties       int64\n",
      "w246_chicago         int64\n",
      "w247_hits            int64\n",
      "w248_defensive       int64\n",
      "w249_statement       int64\n",
      "w250_com             int64\n",
      "w251_espn            int64\n",
      "w252_ted             int64\n",
      "w253_their           int64\n",
      "w254_hitting         int64\n",
      "w255_humans          int64\n",
      "w256_ibm             int64\n",
      "w257_alomar          int64\n",
      "w258_dodgers         int64\n",
      "w259_mathew          int64\n",
      "w260_batting         int64\n",
      "w261_cards           int64\n",
      "w262_existence       int64\n",
      "w263_hr              int64\n",
      "w264_false           int64\n",
      "w265_next            int64\n",
      "w266_macs            int64\n",
      "w267_career          int64\n",
      "w268_cco             int64\n",
      "w269_canucks         int64\n",
      "w270_agree           int64\n",
      "w271_meg             int64\n",
      "w272_objective       int64\n",
      "w273_tek             int64\n",
      "w274_punishment      int64\n",
      "w275_snm             int64\n",
      "w276_buphy           int64\n",
      "w277_eisa            int64\n",
      "w278_cache           int64\n",
      "w279_se              int64\n",
      "w280_mike            int64\n",
      "w281_ico             int64\n",
      "w282_caltech         int64\n",
      "w283_mario           int64\n",
      "w284_years           int64\n",
      "w285_night           int64\n",
      "w286_staff           int64\n",
      "w287_schneider       int64\n",
      "w288_yankees         int64\n",
      "w289_buffalo         int64\n",
      "w290_by              int64\n",
      "w291_chip            int64\n",
      "w292_rom             int64\n",
      "w293_against         int64\n",
      "w294_louis           int64\n",
      "w295_screen          int64\n",
      "w296_contact         int64\n",
      "w297_modem           int64\n",
      "w298_jersey          int64\n",
      "w299_upgrade         int64\n",
      "w300_bobbe           int64\n",
      "w301_beauchaine      int64\n",
      "w302_jaeger          int64\n",
      "w303_iisi            int64\n",
      "w304_machine         int64\n",
      "w305_gilmour         int64\n",
      "w306_oilers          int64\n",
      "w307_roger           int64\n",
      "w308_rbi             int64\n",
      "w309_exist           int64\n",
      "w310_uk              int64\n",
      "w311_natural         int64\n",
      "w312_advance         int64\n",
      "w313_hi              int64\n",
      "w314_lindros         int64\n",
      "w315_goalie          int64\n",
      "w316_edmonton        int64\n",
      "w317_gregg           int64\n",
      "w318_drivers         int64\n",
      "w319_pitch           int64\n",
      "w320_red             int64\n",
      "w321_beat            int64\n",
      "w322_life            int64\n",
      "w323_they            int64\n",
      "w324_machines        int64\n",
      "w325_data            int64\n",
      "w326_potvin          int64\n",
      "w327_score           int64\n",
      "w328_stats           int64\n",
      "w329_edu             int64\n",
      "w330_scoring         int64\n",
      "w331_cpu             int64\n",
      "w332_st              int64\n",
      "w333_puck            int64\n",
      "w334_ramsey          int64\n",
      "w335_see             int64\n",
      "w336_patrick         int64\n",
      "w337_jon             int64\n",
      "w338_pitchers        int64\n",
      "w339_sox             int64\n",
      "w340_christianity    int64\n",
      "w341_wins            int64\n",
      "w342_hd              int64\n",
      "w343_round           int64\n",
      "w344_must            int64\n",
      "w345_flyers          int64\n",
      "w346_mode            int64\n",
      "w347_claim           int64\n",
      "w348_cubs            int64\n",
      "w349_therefore       int64\n",
      "w350_sport           int64\n",
      "w351_winning         int64\n",
      "w352_work            int64\n",
      "w353_memory          int64\n",
      "w354_norris          int64\n",
      "w355_video           int64\n",
      "w356_vancouver       int64\n",
      "w357_vlb             int64\n",
      "w358_montreal        int64\n",
      "w359_selanne         int64\n",
      "w360_powerbook       int64\n",
      "w361_jesus           int64\n",
      "w362_speed           int64\n",
      "w363_scored          int64\n",
      "w364_fan             int64\n",
      "w365_gateway         int64\n",
      "w366_playing         int64\n",
      "w367_were            int64\n",
      "w368_gerald          int64\n",
      "w369_macintosh       int64\n",
      "w370_installed       int64\n",
      "w371_pitcher         int64\n",
      "w372_said            int64\n",
      "w373_such            int64\n",
      "w374_buy             int64\n",
      "w375_lc              int64\n",
      "w376_phillies        int64\n",
      "w377_human           int64\n",
      "w378_simms           int64\n",
      "w379_jets            int64\n",
      "w380_your            int64\n",
      "w381_port            int64\n",
      "w382_argument        int64\n",
      "w383_boston          int64\n",
      "w384_mozumder        int64\n",
      "w385_problem         int64\n",
      "w386_you             int64\n",
      "w387_calgary         int64\n",
      "w388_go              int64\n",
      "w389_christian       int64\n",
      "w390_benedikt        int64\n",
      "w391_muslim          int64\n",
      "w392_islamic         int64\n",
      "w393_hitter          int64\n",
      "w394_pens            int64\n",
      "w395_ball            int64\n",
      "w396_os              int64\n",
      "w397_quebec          int64\n",
      "w398_wpd             int64\n",
      "w399_lemieux         int64\n",
      "w400_being           int64\n",
      "w401_played          int64\n",
      "w402_evidence        int64\n",
      "w403_using           int64\n",
      "w404_solntze         int64\n",
      "w405_bios            int64\n",
      "w406_floppy          int64\n",
      "w407_article         int64\n",
      "w408_coach           int64\n",
      "w409_belief          int64\n",
      "w410_mhz             int64\n",
      "w411_winnipeg        int64\n",
      "w412_bruins          int64\n",
      "w413_livesey         int64\n",
      "w414_braves          int64\n",
      "w415_board           int64\n",
      "w416_division        int64\n",
      "w417_say             int64\n",
      "w418_mets            int64\n",
      "w419_last            int64\n",
      "w420_was             int64\n",
      "w421_morality        int64\n",
      "w422_runs            int64\n",
      "w423_hit             int64\n",
      "w424_goal            int64\n",
      "w425_motherboard     int64\n",
      "w426_islam           int64\n",
      "w427_drives          int64\n",
      "w428_islanders       int64\n",
      "w429_quadra          int64\n",
      "w430_moral           int64\n",
      "w431_bible           int64\n",
      "w432_hardware        int64\n",
      "w433_computer        int64\n",
      "w434_ice             int64\n",
      "w435_penguins        int64\n",
      "w436_isa             int64\n",
      "w437_detroit         int64\n",
      "w438_centris         int64\n",
      "w439_ca              int64\n",
      "w440_ram             int64\n",
      "w441_goals           int64\n",
      "w442_we              int64\n",
      "w443_fans            int64\n",
      "w444_devils          int64\n",
      "w445_people          int64\n",
      "w446_use             int64\n",
      "w447_monitor         int64\n",
      "w448_pittsburgh      int64\n",
      "w449_atheist         int64\n",
      "w450_rangers         int64\n",
      "w451_playoff         int64\n",
      "w452_software        int64\n",
      "w453_system          int64\n",
      "w454_who             int64\n",
      "w455_disk            int64\n",
      "w456_stanley         int64\n",
      "w457_toronto         int64\n",
      "w458_atheists        int64\n",
      "w459_keith           int64\n",
      "w460_religious       int64\n",
      "w461_wings           int64\n",
      "w462_windows         int64\n",
      "w463_win             int64\n",
      "w464_leafs           int64\n",
      "w465_dx              int64\n",
      "w466_pitching        int64\n",
      "w467_player          int64\n",
      "w468_scsi            int64\n",
      "w469_ide             int64\n",
      "w470_him             int64\n",
      "w471_thanks          int64\n",
      "w472_atheism         int64\n",
      "w473_bus             int64\n",
      "w474_religion        int64\n",
      "w475_cup             int64\n",
      "w476_writes          int64\n",
      "w477_dos             int64\n",
      "w478_playoffs        int64\n",
      "w479_controller      int64\n",
      "w480_his             int64\n",
      "w481_pc              int64\n",
      "w482_mb              int64\n",
      "w483_league          int64\n",
      "w484_teams           int64\n",
      "w485_card            int64\n",
      "w486_year            int64\n",
      "w487_drive           int64\n",
      "w488_play            int64\n",
      "w489_games           int64\n",
      "w490_players         int64\n",
      "w491_apple           int64\n",
      "w492_nhl             int64\n",
      "w493_he              int64\n",
      "w494_season          int64\n",
      "w495_baseball        int64\n",
      "w496_god             int64\n",
      "w497_mac             int64\n",
      "w498_game            int64\n",
      "w499_hockey          int64\n",
      "w500_team            int64\n",
      "w501_journal         int64\n",
      "w502_enlighten       int64\n",
      "w503_sooner          int64\n",
      "w504_turns           int64\n",
      "w505_warm            int64\n",
      "w506_cancelled       int64\n",
      "w507_bold            int64\n",
      "w508_extremely       int64\n",
      "w509_organized       int64\n",
      "w510_resulting       int64\n",
      "w511_old             int64\n",
      "w512_constantly      int64\n",
      "w513_generate        int64\n",
      "w514_definite        int64\n",
      "w515_lacks           int64\n",
      "w516_combination     int64\n",
      "w517_sitting         int64\n",
      "w518_surface         int64\n",
      "w519_fashion         int64\n",
      "w520_sit             int64\n",
      "class                int64\n",
      "dtypes: int64(521)\n",
      "memory usage: 8.5 MB\n"
     ]
    }
   ],
   "source": [
    "trainA.info(verbose=True)"
   ]
  },
  {
   "cell_type": "markdown",
   "metadata": {},
   "source": [
    "### ========== Question 1.3 --- [3 marks] ==========\n",
    "How many data points and how many attributes are there in the dataset that we can use to model the target variable `class`?"
   ]
  },
  {
   "cell_type": "markdown",
   "metadata": {},
   "source": [
    "<font color='red'>1/3 There are 520 attributes – the last one is the class</font>"
   ]
  },
  {
   "cell_type": "markdown",
   "metadata": {},
   "source": [
    "There are 2129 data points (number of rows/number of documents) and 521 attributes (number of columns/number of different words we're collecting frequencies of). "
   ]
  },
  {
   "cell_type": "markdown",
   "metadata": {
    "collapsed": true
   },
   "source": [
    "### ========== Question 1.4 --- [3 marks] ==========\n",
    "Use a Pandas method to display the summary statistics for the `news_A` DataFrame."
   ]
  },
  {
   "cell_type": "markdown",
   "metadata": {},
   "source": [
    "<font color='red'>3/3</font>"
   ]
  },
  {
   "cell_type": "code",
   "execution_count": 5,
   "metadata": {
    "scrolled": true
   },
   "outputs": [
    {
     "data": {
      "text/html": [
       "<div>\n",
       "<style>\n",
       "    .dataframe thead tr:only-child th {\n",
       "        text-align: right;\n",
       "    }\n",
       "\n",
       "    .dataframe thead th {\n",
       "        text-align: left;\n",
       "    }\n",
       "\n",
       "    .dataframe tbody tr th {\n",
       "        vertical-align: top;\n",
       "    }\n",
       "</style>\n",
       "<table border=\"1\" class=\"dataframe\">\n",
       "  <thead>\n",
       "    <tr style=\"text-align: right;\">\n",
       "      <th></th>\n",
       "      <th>w1_aaa</th>\n",
       "      <th>w2_pins</th>\n",
       "      <th>w3_kmr</th>\n",
       "      <th>w4_notion</th>\n",
       "      <th>w5_queens</th>\n",
       "      <th>w6_dwyer</th>\n",
       "      <th>w7_defenseman</th>\n",
       "      <th>w8_gld</th>\n",
       "      <th>w9_tocchet</th>\n",
       "      <th>w10_home</th>\n",
       "      <th>...</th>\n",
       "      <th>w512_constantly</th>\n",
       "      <th>w513_generate</th>\n",
       "      <th>w514_definite</th>\n",
       "      <th>w515_lacks</th>\n",
       "      <th>w516_combination</th>\n",
       "      <th>w517_sitting</th>\n",
       "      <th>w518_surface</th>\n",
       "      <th>w519_fashion</th>\n",
       "      <th>w520_sit</th>\n",
       "      <th>class</th>\n",
       "    </tr>\n",
       "  </thead>\n",
       "  <tbody>\n",
       "    <tr>\n",
       "      <th>count</th>\n",
       "      <td>2129.000000</td>\n",
       "      <td>2129.000000</td>\n",
       "      <td>2129.000000</td>\n",
       "      <td>2129.000000</td>\n",
       "      <td>2129.000000</td>\n",
       "      <td>2129.00000</td>\n",
       "      <td>2129.000000</td>\n",
       "      <td>2129.000000</td>\n",
       "      <td>2129.000000</td>\n",
       "      <td>2129.000000</td>\n",
       "      <td>...</td>\n",
       "      <td>2129.000000</td>\n",
       "      <td>2129.000000</td>\n",
       "      <td>2129.000000</td>\n",
       "      <td>2129.000000</td>\n",
       "      <td>2129.000000</td>\n",
       "      <td>2129.000000</td>\n",
       "      <td>2129.000000</td>\n",
       "      <td>2129.000000</td>\n",
       "      <td>2129.000000</td>\n",
       "      <td>2129.000000</td>\n",
       "    </tr>\n",
       "    <tr>\n",
       "      <th>mean</th>\n",
       "      <td>5.128229</td>\n",
       "      <td>6.097698</td>\n",
       "      <td>6.120244</td>\n",
       "      <td>5.551902</td>\n",
       "      <td>5.521841</td>\n",
       "      <td>6.12776</td>\n",
       "      <td>5.633161</td>\n",
       "      <td>6.090653</td>\n",
       "      <td>5.970409</td>\n",
       "      <td>5.624706</td>\n",
       "      <td>...</td>\n",
       "      <td>9.666510</td>\n",
       "      <td>9.217473</td>\n",
       "      <td>9.061531</td>\n",
       "      <td>9.398309</td>\n",
       "      <td>9.175200</td>\n",
       "      <td>9.708783</td>\n",
       "      <td>8.807891</td>\n",
       "      <td>9.719587</td>\n",
       "      <td>9.307656</td>\n",
       "      <td>3.092532</td>\n",
       "    </tr>\n",
       "    <tr>\n",
       "      <th>std</th>\n",
       "      <td>38.292577</td>\n",
       "      <td>46.190953</td>\n",
       "      <td>46.656022</td>\n",
       "      <td>40.953913</td>\n",
       "      <td>40.978098</td>\n",
       "      <td>45.96434</td>\n",
       "      <td>41.146918</td>\n",
       "      <td>45.762060</td>\n",
       "      <td>44.266628</td>\n",
       "      <td>40.769105</td>\n",
       "      <td>...</td>\n",
       "      <td>45.844064</td>\n",
       "      <td>43.948910</td>\n",
       "      <td>40.969185</td>\n",
       "      <td>43.833064</td>\n",
       "      <td>42.403283</td>\n",
       "      <td>47.294120</td>\n",
       "      <td>39.341038</td>\n",
       "      <td>46.185082</td>\n",
       "      <td>45.059367</td>\n",
       "      <td>1.395948</td>\n",
       "    </tr>\n",
       "    <tr>\n",
       "      <th>min</th>\n",
       "      <td>1.000000</td>\n",
       "      <td>1.000000</td>\n",
       "      <td>1.000000</td>\n",
       "      <td>1.000000</td>\n",
       "      <td>1.000000</td>\n",
       "      <td>1.00000</td>\n",
       "      <td>1.000000</td>\n",
       "      <td>1.000000</td>\n",
       "      <td>1.000000</td>\n",
       "      <td>1.000000</td>\n",
       "      <td>...</td>\n",
       "      <td>1.000000</td>\n",
       "      <td>1.000000</td>\n",
       "      <td>1.000000</td>\n",
       "      <td>1.000000</td>\n",
       "      <td>1.000000</td>\n",
       "      <td>1.000000</td>\n",
       "      <td>1.000000</td>\n",
       "      <td>1.000000</td>\n",
       "      <td>1.000000</td>\n",
       "      <td>1.000000</td>\n",
       "    </tr>\n",
       "    <tr>\n",
       "      <th>25%</th>\n",
       "      <td>1.000000</td>\n",
       "      <td>1.000000</td>\n",
       "      <td>1.000000</td>\n",
       "      <td>1.000000</td>\n",
       "      <td>1.000000</td>\n",
       "      <td>1.00000</td>\n",
       "      <td>1.000000</td>\n",
       "      <td>1.000000</td>\n",
       "      <td>1.000000</td>\n",
       "      <td>1.000000</td>\n",
       "      <td>...</td>\n",
       "      <td>3.000000</td>\n",
       "      <td>2.000000</td>\n",
       "      <td>3.000000</td>\n",
       "      <td>3.000000</td>\n",
       "      <td>2.000000</td>\n",
       "      <td>3.000000</td>\n",
       "      <td>3.000000</td>\n",
       "      <td>3.000000</td>\n",
       "      <td>2.000000</td>\n",
       "      <td>2.000000</td>\n",
       "    </tr>\n",
       "    <tr>\n",
       "      <th>50%</th>\n",
       "      <td>1.000000</td>\n",
       "      <td>1.000000</td>\n",
       "      <td>1.000000</td>\n",
       "      <td>1.000000</td>\n",
       "      <td>1.000000</td>\n",
       "      <td>1.00000</td>\n",
       "      <td>1.000000</td>\n",
       "      <td>1.000000</td>\n",
       "      <td>1.000000</td>\n",
       "      <td>1.000000</td>\n",
       "      <td>...</td>\n",
       "      <td>5.000000</td>\n",
       "      <td>5.000000</td>\n",
       "      <td>5.000000</td>\n",
       "      <td>5.000000</td>\n",
       "      <td>5.000000</td>\n",
       "      <td>5.000000</td>\n",
       "      <td>5.000000</td>\n",
       "      <td>5.000000</td>\n",
       "      <td>4.000000</td>\n",
       "      <td>3.000000</td>\n",
       "    </tr>\n",
       "    <tr>\n",
       "      <th>75%</th>\n",
       "      <td>1.000000</td>\n",
       "      <td>1.000000</td>\n",
       "      <td>1.000000</td>\n",
       "      <td>1.000000</td>\n",
       "      <td>1.000000</td>\n",
       "      <td>1.00000</td>\n",
       "      <td>1.000000</td>\n",
       "      <td>1.000000</td>\n",
       "      <td>1.000000</td>\n",
       "      <td>1.000000</td>\n",
       "      <td>...</td>\n",
       "      <td>7.000000</td>\n",
       "      <td>7.000000</td>\n",
       "      <td>7.000000</td>\n",
       "      <td>7.000000</td>\n",
       "      <td>7.000000</td>\n",
       "      <td>7.000000</td>\n",
       "      <td>7.000000</td>\n",
       "      <td>7.000000</td>\n",
       "      <td>6.000000</td>\n",
       "      <td>4.000000</td>\n",
       "    </tr>\n",
       "    <tr>\n",
       "      <th>max</th>\n",
       "      <td>572.000000</td>\n",
       "      <td>583.000000</td>\n",
       "      <td>579.000000</td>\n",
       "      <td>580.000000</td>\n",
       "      <td>591.000000</td>\n",
       "      <td>600.00000</td>\n",
       "      <td>546.000000</td>\n",
       "      <td>591.000000</td>\n",
       "      <td>578.000000</td>\n",
       "      <td>578.000000</td>\n",
       "      <td>...</td>\n",
       "      <td>590.000000</td>\n",
       "      <td>587.000000</td>\n",
       "      <td>577.000000</td>\n",
       "      <td>598.000000</td>\n",
       "      <td>568.000000</td>\n",
       "      <td>599.000000</td>\n",
       "      <td>585.000000</td>\n",
       "      <td>600.000000</td>\n",
       "      <td>597.000000</td>\n",
       "      <td>5.000000</td>\n",
       "    </tr>\n",
       "  </tbody>\n",
       "</table>\n",
       "<p>8 rows × 521 columns</p>\n",
       "</div>"
      ],
      "text/plain": [
       "            w1_aaa      w2_pins       w3_kmr    w4_notion    w5_queens  \\\n",
       "count  2129.000000  2129.000000  2129.000000  2129.000000  2129.000000   \n",
       "mean      5.128229     6.097698     6.120244     5.551902     5.521841   \n",
       "std      38.292577    46.190953    46.656022    40.953913    40.978098   \n",
       "min       1.000000     1.000000     1.000000     1.000000     1.000000   \n",
       "25%       1.000000     1.000000     1.000000     1.000000     1.000000   \n",
       "50%       1.000000     1.000000     1.000000     1.000000     1.000000   \n",
       "75%       1.000000     1.000000     1.000000     1.000000     1.000000   \n",
       "max     572.000000   583.000000   579.000000   580.000000   591.000000   \n",
       "\n",
       "         w6_dwyer  w7_defenseman       w8_gld   w9_tocchet     w10_home  \\\n",
       "count  2129.00000    2129.000000  2129.000000  2129.000000  2129.000000   \n",
       "mean      6.12776       5.633161     6.090653     5.970409     5.624706   \n",
       "std      45.96434      41.146918    45.762060    44.266628    40.769105   \n",
       "min       1.00000       1.000000     1.000000     1.000000     1.000000   \n",
       "25%       1.00000       1.000000     1.000000     1.000000     1.000000   \n",
       "50%       1.00000       1.000000     1.000000     1.000000     1.000000   \n",
       "75%       1.00000       1.000000     1.000000     1.000000     1.000000   \n",
       "max     600.00000     546.000000   591.000000   578.000000   578.000000   \n",
       "\n",
       "          ...       w512_constantly  w513_generate  w514_definite  \\\n",
       "count     ...           2129.000000    2129.000000    2129.000000   \n",
       "mean      ...              9.666510       9.217473       9.061531   \n",
       "std       ...             45.844064      43.948910      40.969185   \n",
       "min       ...              1.000000       1.000000       1.000000   \n",
       "25%       ...              3.000000       2.000000       3.000000   \n",
       "50%       ...              5.000000       5.000000       5.000000   \n",
       "75%       ...              7.000000       7.000000       7.000000   \n",
       "max       ...            590.000000     587.000000     577.000000   \n",
       "\n",
       "        w515_lacks  w516_combination  w517_sitting  w518_surface  \\\n",
       "count  2129.000000       2129.000000   2129.000000   2129.000000   \n",
       "mean      9.398309          9.175200      9.708783      8.807891   \n",
       "std      43.833064         42.403283     47.294120     39.341038   \n",
       "min       1.000000          1.000000      1.000000      1.000000   \n",
       "25%       3.000000          2.000000      3.000000      3.000000   \n",
       "50%       5.000000          5.000000      5.000000      5.000000   \n",
       "75%       7.000000          7.000000      7.000000      7.000000   \n",
       "max     598.000000        568.000000    599.000000    585.000000   \n",
       "\n",
       "       w519_fashion     w520_sit        class  \n",
       "count   2129.000000  2129.000000  2129.000000  \n",
       "mean       9.719587     9.307656     3.092532  \n",
       "std       46.185082    45.059367     1.395948  \n",
       "min        1.000000     1.000000     1.000000  \n",
       "25%        3.000000     2.000000     2.000000  \n",
       "50%        5.000000     4.000000     3.000000  \n",
       "75%        7.000000     6.000000     4.000000  \n",
       "max      600.000000   597.000000     5.000000  \n",
       "\n",
       "[8 rows x 521 columns]"
      ]
     },
     "execution_count": 5,
     "metadata": {},
     "output_type": "execute_result"
    }
   ],
   "source": [
    "trainA.describe()"
   ]
  },
  {
   "cell_type": "markdown",
   "metadata": {
    "collapsed": true
   },
   "source": [
    "### ========== Question 1.5 --- [3 marks] ==========\n",
    "Display the first 7 instances of dataset A."
   ]
  },
  {
   "cell_type": "markdown",
   "metadata": {},
   "source": [
    "<font color='red'>3/3</font>"
   ]
  },
  {
   "cell_type": "code",
   "execution_count": 6,
   "metadata": {
    "scrolled": true
   },
   "outputs": [
    {
     "data": {
      "text/html": [
       "<div>\n",
       "<style>\n",
       "    .dataframe thead tr:only-child th {\n",
       "        text-align: right;\n",
       "    }\n",
       "\n",
       "    .dataframe thead th {\n",
       "        text-align: left;\n",
       "    }\n",
       "\n",
       "    .dataframe tbody tr th {\n",
       "        vertical-align: top;\n",
       "    }\n",
       "</style>\n",
       "<table border=\"1\" class=\"dataframe\">\n",
       "  <thead>\n",
       "    <tr style=\"text-align: right;\">\n",
       "      <th></th>\n",
       "      <th>w1_aaa</th>\n",
       "      <th>w2_pins</th>\n",
       "      <th>w3_kmr</th>\n",
       "      <th>w4_notion</th>\n",
       "      <th>w5_queens</th>\n",
       "      <th>w6_dwyer</th>\n",
       "      <th>w7_defenseman</th>\n",
       "      <th>w8_gld</th>\n",
       "      <th>w9_tocchet</th>\n",
       "      <th>w10_home</th>\n",
       "      <th>...</th>\n",
       "      <th>w512_constantly</th>\n",
       "      <th>w513_generate</th>\n",
       "      <th>w514_definite</th>\n",
       "      <th>w515_lacks</th>\n",
       "      <th>w516_combination</th>\n",
       "      <th>w517_sitting</th>\n",
       "      <th>w518_surface</th>\n",
       "      <th>w519_fashion</th>\n",
       "      <th>w520_sit</th>\n",
       "      <th>class</th>\n",
       "    </tr>\n",
       "  </thead>\n",
       "  <tbody>\n",
       "    <tr>\n",
       "      <th>0</th>\n",
       "      <td>1</td>\n",
       "      <td>1</td>\n",
       "      <td>1</td>\n",
       "      <td>1</td>\n",
       "      <td>1</td>\n",
       "      <td>1</td>\n",
       "      <td>1</td>\n",
       "      <td>1</td>\n",
       "      <td>1</td>\n",
       "      <td>1</td>\n",
       "      <td>...</td>\n",
       "      <td>1</td>\n",
       "      <td>5</td>\n",
       "      <td>3</td>\n",
       "      <td>6</td>\n",
       "      <td>8</td>\n",
       "      <td>4</td>\n",
       "      <td>6</td>\n",
       "      <td>4</td>\n",
       "      <td>8</td>\n",
       "      <td>4</td>\n",
       "    </tr>\n",
       "    <tr>\n",
       "      <th>1</th>\n",
       "      <td>1</td>\n",
       "      <td>1</td>\n",
       "      <td>1</td>\n",
       "      <td>1</td>\n",
       "      <td>1</td>\n",
       "      <td>1</td>\n",
       "      <td>1</td>\n",
       "      <td>1</td>\n",
       "      <td>1</td>\n",
       "      <td>1</td>\n",
       "      <td>...</td>\n",
       "      <td>2</td>\n",
       "      <td>3</td>\n",
       "      <td>6</td>\n",
       "      <td>8</td>\n",
       "      <td>3</td>\n",
       "      <td>4</td>\n",
       "      <td>5</td>\n",
       "      <td>6</td>\n",
       "      <td>5</td>\n",
       "      <td>4</td>\n",
       "    </tr>\n",
       "    <tr>\n",
       "      <th>2</th>\n",
       "      <td>1</td>\n",
       "      <td>1</td>\n",
       "      <td>1</td>\n",
       "      <td>1</td>\n",
       "      <td>1</td>\n",
       "      <td>1</td>\n",
       "      <td>1</td>\n",
       "      <td>1</td>\n",
       "      <td>1</td>\n",
       "      <td>2</td>\n",
       "      <td>...</td>\n",
       "      <td>4</td>\n",
       "      <td>2</td>\n",
       "      <td>6</td>\n",
       "      <td>5</td>\n",
       "      <td>2</td>\n",
       "      <td>5</td>\n",
       "      <td>5</td>\n",
       "      <td>7</td>\n",
       "      <td>8</td>\n",
       "      <td>2</td>\n",
       "    </tr>\n",
       "    <tr>\n",
       "      <th>3</th>\n",
       "      <td>1</td>\n",
       "      <td>1</td>\n",
       "      <td>1</td>\n",
       "      <td>1</td>\n",
       "      <td>1</td>\n",
       "      <td>1</td>\n",
       "      <td>1</td>\n",
       "      <td>1</td>\n",
       "      <td>1</td>\n",
       "      <td>1</td>\n",
       "      <td>...</td>\n",
       "      <td>6</td>\n",
       "      <td>3</td>\n",
       "      <td>6</td>\n",
       "      <td>1</td>\n",
       "      <td>1</td>\n",
       "      <td>8</td>\n",
       "      <td>1</td>\n",
       "      <td>8</td>\n",
       "      <td>4</td>\n",
       "      <td>3</td>\n",
       "    </tr>\n",
       "    <tr>\n",
       "      <th>4</th>\n",
       "      <td>1</td>\n",
       "      <td>1</td>\n",
       "      <td>1</td>\n",
       "      <td>1</td>\n",
       "      <td>1</td>\n",
       "      <td>1</td>\n",
       "      <td>1</td>\n",
       "      <td>1</td>\n",
       "      <td>1</td>\n",
       "      <td>1</td>\n",
       "      <td>...</td>\n",
       "      <td>6</td>\n",
       "      <td>1</td>\n",
       "      <td>7</td>\n",
       "      <td>8</td>\n",
       "      <td>6</td>\n",
       "      <td>3</td>\n",
       "      <td>1</td>\n",
       "      <td>8</td>\n",
       "      <td>4</td>\n",
       "      <td>3</td>\n",
       "    </tr>\n",
       "    <tr>\n",
       "      <th>5</th>\n",
       "      <td>1</td>\n",
       "      <td>1</td>\n",
       "      <td>1</td>\n",
       "      <td>1</td>\n",
       "      <td>1</td>\n",
       "      <td>1</td>\n",
       "      <td>1</td>\n",
       "      <td>1</td>\n",
       "      <td>1</td>\n",
       "      <td>1</td>\n",
       "      <td>...</td>\n",
       "      <td>7</td>\n",
       "      <td>5</td>\n",
       "      <td>4</td>\n",
       "      <td>5</td>\n",
       "      <td>5</td>\n",
       "      <td>7</td>\n",
       "      <td>7</td>\n",
       "      <td>7</td>\n",
       "      <td>2</td>\n",
       "      <td>2</td>\n",
       "    </tr>\n",
       "    <tr>\n",
       "      <th>6</th>\n",
       "      <td>1</td>\n",
       "      <td>1</td>\n",
       "      <td>1</td>\n",
       "      <td>1</td>\n",
       "      <td>2</td>\n",
       "      <td>1</td>\n",
       "      <td>1</td>\n",
       "      <td>1</td>\n",
       "      <td>1</td>\n",
       "      <td>1</td>\n",
       "      <td>...</td>\n",
       "      <td>3</td>\n",
       "      <td>6</td>\n",
       "      <td>8</td>\n",
       "      <td>8</td>\n",
       "      <td>3</td>\n",
       "      <td>5</td>\n",
       "      <td>2</td>\n",
       "      <td>1</td>\n",
       "      <td>2</td>\n",
       "      <td>1</td>\n",
       "    </tr>\n",
       "  </tbody>\n",
       "</table>\n",
       "<p>7 rows × 521 columns</p>\n",
       "</div>"
      ],
      "text/plain": [
       "   w1_aaa  w2_pins  w3_kmr  w4_notion  w5_queens  w6_dwyer  w7_defenseman  \\\n",
       "0       1        1       1          1          1         1              1   \n",
       "1       1        1       1          1          1         1              1   \n",
       "2       1        1       1          1          1         1              1   \n",
       "3       1        1       1          1          1         1              1   \n",
       "4       1        1       1          1          1         1              1   \n",
       "5       1        1       1          1          1         1              1   \n",
       "6       1        1       1          1          2         1              1   \n",
       "\n",
       "   w8_gld  w9_tocchet  w10_home  ...    w512_constantly  w513_generate  \\\n",
       "0       1           1         1  ...                  1              5   \n",
       "1       1           1         1  ...                  2              3   \n",
       "2       1           1         2  ...                  4              2   \n",
       "3       1           1         1  ...                  6              3   \n",
       "4       1           1         1  ...                  6              1   \n",
       "5       1           1         1  ...                  7              5   \n",
       "6       1           1         1  ...                  3              6   \n",
       "\n",
       "   w514_definite  w515_lacks  w516_combination  w517_sitting  w518_surface  \\\n",
       "0              3           6                 8             4             6   \n",
       "1              6           8                 3             4             5   \n",
       "2              6           5                 2             5             5   \n",
       "3              6           1                 1             8             1   \n",
       "4              7           8                 6             3             1   \n",
       "5              4           5                 5             7             7   \n",
       "6              8           8                 3             5             2   \n",
       "\n",
       "   w519_fashion  w520_sit  class  \n",
       "0             4         8      4  \n",
       "1             6         5      4  \n",
       "2             7         8      2  \n",
       "3             8         4      3  \n",
       "4             8         4      3  \n",
       "5             7         2      2  \n",
       "6             1         2      1  \n",
       "\n",
       "[7 rows x 521 columns]"
      ]
     },
     "execution_count": 6,
     "metadata": {},
     "output_type": "execute_result"
    }
   ],
   "source": [
    "trainA.head(7)"
   ]
  },
  {
   "cell_type": "markdown",
   "metadata": {},
   "source": [
    "### ========== Question 1.6 --- [5 marks] ==========\n",
    "Display the names of the first 100 attributes in dataset A. \n",
    "\n",
    "You might observe that each attribute consists of two parts:\n",
    "1. `w<x>_` (where x is an index corresponding to each word)\n",
    "2. the actual name of the word"
   ]
  },
  {
   "cell_type": "markdown",
   "metadata": {},
   "source": [
    "<font color='red'>5/5</font>"
   ]
  },
  {
   "cell_type": "code",
   "execution_count": 7,
   "metadata": {},
   "outputs": [
    {
     "data": {
      "text/plain": [
       "['w1_aaa',\n",
       " 'w2_pins',\n",
       " 'w3_kmr',\n",
       " 'w4_notion',\n",
       " 'w5_queens',\n",
       " 'w6_dwyer',\n",
       " 'w7_defenseman',\n",
       " 'w8_gld',\n",
       " 'w9_tocchet',\n",
       " 'w10_home',\n",
       " 'w11_buying',\n",
       " 'w12_internet',\n",
       " 'w13_slots',\n",
       " 'w14_compatible',\n",
       " 'w15_transfer',\n",
       " 'w16_baltimore',\n",
       " 'w17_mean',\n",
       " 'w18_person',\n",
       " 'w19_performance',\n",
       " 'w20_support',\n",
       " 'w21_tor',\n",
       " 'w22_gm',\n",
       " 'w23_mouse',\n",
       " 'w24_base',\n",
       " 'w25_population',\n",
       " 'w26_bob',\n",
       " 'w27_set',\n",
       " 'w28_it',\n",
       " 'w29_earth',\n",
       " 'w30_faith',\n",
       " 'w31_steve',\n",
       " 'w32_caps',\n",
       " 'w33_printer',\n",
       " 'w34_east',\n",
       " 'w35_cable',\n",
       " 'w36_adapter',\n",
       " 'w37_mss',\n",
       " 'w38_catcher',\n",
       " 'w39_bullpen',\n",
       " 'w40_obp',\n",
       " 'w41_innocent',\n",
       " 'w42_european',\n",
       " 'w43_angeles',\n",
       " 'w44_settings',\n",
       " 'w45_words',\n",
       " 'w46_rit',\n",
       " 'w47_shots',\n",
       " 'w48_ports',\n",
       " 'w49_vga',\n",
       " 'w50_coverage',\n",
       " 'w51_jumpers',\n",
       " 'w52_bases',\n",
       " 'w53_sea',\n",
       " 'w54_pts',\n",
       " 'w55_behavior',\n",
       " 'w56_domi',\n",
       " 'w57_sabres',\n",
       " 'w58_yzerman',\n",
       " 'w59_messier',\n",
       " 'w60_goalies',\n",
       " 'w61_hawks',\n",
       " 'w62_our',\n",
       " 'w63_sx',\n",
       " 'w64_view',\n",
       " 'w65_hitters',\n",
       " 'w66_richard',\n",
       " 'w67_point',\n",
       " 'w68_nyi',\n",
       " 'w69_mvp',\n",
       " 'w70_kill',\n",
       " 'w71_nl',\n",
       " 'w72_field',\n",
       " 'w73_connector',\n",
       " 'w74_stars',\n",
       " 'w75_th',\n",
       " 'w76_install',\n",
       " 'w77_traded',\n",
       " 'w78_configuration',\n",
       " 'w79_standard',\n",
       " 'w80_rotation',\n",
       " 'w81_ultb',\n",
       " 'w82_sports',\n",
       " 'w83_pds',\n",
       " 'w84_canada',\n",
       " 'w85_did',\n",
       " 'w86_clock',\n",
       " 'w87_first',\n",
       " 'w88_switch',\n",
       " 'w89_tonight',\n",
       " 'w90_record',\n",
       " 'w91_singer',\n",
       " 'w92_majors',\n",
       " 'w93_royals',\n",
       " 'w94_does',\n",
       " 'w95_flames',\n",
       " 'w96_of',\n",
       " 'w97_series',\n",
       " 'w98_plays',\n",
       " 'w99_det',\n",
       " 'w100_pitched']"
      ]
     },
     "execution_count": 7,
     "metadata": {},
     "output_type": "execute_result"
    }
   ],
   "source": [
    "columnLabels = list(trainA)\n",
    "columnLabels[:100]"
   ]
  },
  {
   "cell_type": "markdown",
   "metadata": {},
   "source": [
    "### ========== Question 1.7 --- [4 marks] ==========\n",
    "Familiarise yourself with the [`stripplot`](https://seaborn.github.io/generated/seaborn.stripplot.html?highlight=stripplot#seaborn.stripplot) function in `seaborn`. Pick one attribute of your choice (except `class`) and display a stripplot for that attribute for dataset A. Demonstrate the distribution of the data separately for each class (by making appropriate use of the `x` argument in `stripplot`). Set the `jitter` argument to `True` and the `alpha` argument to an appropriate value (to add transparency). When the jitter parameter is enabled a small amount of noise is added to the data so that there is less overlap and the distribution is easier to visualise."
   ]
  },
  {
   "cell_type": "markdown",
   "metadata": {},
   "source": [
    "<font color='red'>4/4</font>"
   ]
  },
  {
   "cell_type": "code",
   "execution_count": 8,
   "metadata": {
    "scrolled": true
   },
   "outputs": [
    {
     "data": {
      "image/png": "[encoded data removed]",
      "text/plain": [
       "<matplotlib.figure.Figure at 0x7fce3436b750>"
      ]
     },
     "metadata": {},
     "output_type": "display_data"
    }
   ],
   "source": [
    "#Plot stripplot of 'bob'. Set size to 20 and transparency to 0.2 so that we can see easily where the\n",
    "#higher frequencies of the word is (this will be the more opaque areas)\n",
    "ax = sns.stripplot(x=\"class\",y=\"w26_bob\", data=trainA, jitter=True, size=20, alpha=0.2)\n",
    "ax.set_ylabel(\"Frequency of the word 'bob' in document\")\n",
    "plt.title(\"Stripplot to show the distribution of the data for 'bob' for each class\\n\")\n",
    "plt.show()"
   ]
  },
  {
   "cell_type": "markdown",
   "metadata": {},
   "source": [
    "### ========== Question 1.8 --- [4 marks] ==========\n",
    "The stripplot illustrates the distribution of a single attribute. We can also visualise the joint distribution of two variables by using a scatter plot. Again, we want to add a bit of noise into the data so that is easier to see which parts of the space (2-dimensional in our case) have larger probability densities. \n",
    "\n",
    "For this, you will be using the function `scatter_jitter` provided below. This function takes as input two numpy arrays containing the features of interest. Pick two attributes of your choice from dataset A and use the provided function to plot their joint distribution. You can play around with the amount of noise added by tweaking the `jitter` parameter. Alternatively, you can just use its default value which is set to 0.2."
   ]
  },
  {
   "cell_type": "markdown",
   "metadata": {},
   "source": [
    "<font color='red'>4/4</font>"
   ]
  },
  {
   "cell_type": "code",
   "execution_count": 9,
   "metadata": {},
   "outputs": [],
   "source": [
    "def scatter_jitter(arr1, arr2, jitter=0.2):\n",
    "    \"\"\" Plots a joint scatter plot of two arrays by adding small noise to each example. \n",
    "    Noise is proportional to variance in each dimension. \"\"\"\n",
    "    arr1 = np.asarray(arr1)\n",
    "    arr2 = np.asarray(arr2)\n",
    "    arr1 = arr1 + jitter*arr1.std(axis=0)*np.random.standard_normal(arr1.shape)\n",
    "    arr2 = arr2 + jitter*arr2.std(axis=0)*np.random.standard_normal(arr2.shape)\n",
    "    plt.scatter(arr1, arr2, marker=4)"
   ]
  },
  {
   "cell_type": "code",
   "execution_count": 14,
   "metadata": {},
   "outputs": [
    {
     "data": {
      "image/png": "[encoded data removed]",
      "text/plain": [
       "<matplotlib.figure.Figure at 0x7fce0249a1d0>"
      ]
     },
     "metadata": {},
     "output_type": "display_data"
    }
   ],
   "source": [
    "plt.title(\"Scatter jitter to show the joint distribution of the\\n attributes 'bob' and 'mouse'\\n\")\n",
    "plt.xlabel(\"Frequency of 'Bob'\")\n",
    "plt.ylabel(\"Frequency of 'Mouse'\")\n",
    "scatter_jitter(trainA[\"w26_bob\"], trainA[\"w23_mouse\"], jitter=0.2)"
   ]
  },
  {
   "cell_type": "markdown",
   "metadata": {},
   "source": [
    "### ========== Question 1.9 --- [7 marks] ==========\n",
    "From the strip and scatter plots above you might observe that there is something peculiar about the data. Indeed most attributes take very small values (usually in the range 1-10) but there are some data points (i.e. rows) in the dataset where the attributes take very large values. These data points are called [outliers](https://en.wikipedia.org/wiki/Outlier).\n",
    "\n",
    "You might think that the presence of outliers in the dataset has been a resut of noise contamination (you wouldn't expect the same word to appear 600 times within an e-mail, would you?). Your job now is to create a new dataset from dataset A (name it `news_A_clean`) and remove the outliers. Create some metric to find the outliers and check that your metric is reasonable. Be careful not to alter the original `news_A`...we may require it in its dirty format later..."
   ]
  },
  {
   "cell_type": "markdown",
   "metadata": {},
   "source": [
    "<font color='red'>7/7</font>"
   ]
  },
  {
   "cell_type": "code",
   "execution_count": 11,
   "metadata": {
    "scrolled": false
   },
   "outputs": [
    {
     "data": {
      "image/png": "[encoded data removed]",
      "text/plain": [
       "<matplotlib.figure.Figure at 0x7fce024d8050>"
      ]
     },
     "metadata": {},
     "output_type": "display_data"
    }
   ],
   "source": [
    "#Creating a copy of trainA and calling it news_clean_A\n",
    "news_clean_A=trainA.copy(deep=True)\n",
    "\n",
    "#Have a look at percentiles to make sure the value chosen to detect outliers is actually reasonable \n",
    "#print(np.percentile(trainA, 99.7)) # = 494\n",
    "\n",
    "# Only keep the values in news_clean_A which is within under the 99.85th percentile of the data, and above \n",
    "# 0.15th percentile, which would be the 99.7% of the data which lies within 3 standard deviations of the mean \n",
    "# rest converted to NaN\n",
    "news_clean_A=news_clean_A[news_clean_A<=np.percentile(trainA, 99.85)]\n",
    "news_clean_A=news_clean_A[news_clean_A>=np.percentile(trainA, 0.15)]\n",
    "\n",
    "#drop all rows with any NaN values\n",
    "news_clean_A=news_clean_A.dropna(axis=0)\n",
    "\n",
    "#Plot the scatter jitter from question 8 to see if dropping the outliers was reasonable and \n",
    "#we get a graph with more readable axes and data without the very high outliers\n",
    "scatter_jitter(news_clean_A[\"w26_bob\"], news_clean_A[\"w23_mouse\"], jitter=0.2)\n",
    "plt.title(\"Scatter jitter (without outliers) to show the joint distribution of the\\n attributes 'bob' and 'mouse'\\n\")\n",
    "plt.xlabel(\"Frequency of 'Bob'\")\n",
    "plt.ylabel(\"Frequency of 'Mouse'\")\n",
    "plt.show()"
   ]
  },
  {
   "cell_type": "markdown",
   "metadata": {},
   "source": [
    "### ========== Question 1.10 --- [3 marks] ==========\n",
    "Write code to return the number of data points in the clean dataset, and the number of documents that have been excluded as outliers"
   ]
  },
  {
   "cell_type": "markdown",
   "metadata": {},
   "source": [
    "<font color='red'>3/3</font>"
   ]
  },
  {
   "cell_type": "code",
   "execution_count": 13,
   "metadata": {},
   "outputs": [
    {
     "name": "stdout",
     "output_type": "stream",
     "text": [
      "\n",
      "There are 2099 data points in the clean dataset\n",
      "\n",
      "We have excluded 30 documents because they contained outliers\n"
     ]
    }
   ],
   "source": [
    "#Having a look at the number of rows and columns in news_clean_A to see if it looks reasonable\n",
    "#print(news_clean_A.shape)\n",
    "\n",
    "print(\"\\nThere are \" + str(news_clean_A.shape[0]) + \" data points in the clean dataset\")\n",
    "\n",
    "print(\"\\nWe have excluded \" + str(trainA.shape[0]-news_clean_A.shape[0]) + \" documents because they contained outliers\")\n"
   ]
  },
  {
   "cell_type": "markdown",
   "metadata": {},
   "source": [
    "## 2. Naive Bayes classification [60%]\n",
    "Now we want to fit a Gaussian Naive Bayes model to the cleaned dataset A. You might want first to familiarise yourself with the [`GaussianNB`](http://scikit-learn.org/stable/modules/generated/sklearn.naive_bayes.GaussianNB.html) class in `Sklearn`."
   ]
  },
  {
   "cell_type": "markdown",
   "metadata": {},
   "source": [
    "### ========== Question 2.1 --- [4 marks] ==========\n",
    "\n",
    "By using the `scatter_jitter` function provided above, display a scatter plot of the features `w281_ico` and `w273_tek` for the cleaned dataset A. Set the jitter value to something small (e.g. 0.1). Label axes appropriately."
   ]
  },
  {
   "cell_type": "markdown",
   "metadata": {},
   "source": [
    "<font color='red'>4/4</font>"
   ]
  },
  {
   "cell_type": "code",
   "execution_count": 14,
   "metadata": {},
   "outputs": [
    {
     "data": {
      "image/png": "[encoded data removed]",
      "text/plain": [
       "<matplotlib.figure.Figure at 0x7fe556e7c310>"
      ]
     },
     "metadata": {},
     "output_type": "display_data"
    }
   ],
   "source": [
    "scatter_jitter(news_clean_A[\"w281_ico\"], news_clean_A[\"w273_tek\"], jitter=0.1)\n",
    "plt.title(\"Scatter jitter to show the joint distribution of the\\n attributes 'ico' and 'tek'\\n\")\n",
    "plt.xlabel(\"Frequency of 'ico'\")\n",
    "plt.ylabel(\"Frequency of 'tek'\")\n",
    "plt.show()"
   ]
  },
  {
   "cell_type": "markdown",
   "metadata": {},
   "source": [
    "### ========== Question 2.2 --- [6 marks] ==========\n",
    "What do you observe? \n",
    "\n",
    "How does that relate to the Naive Bayes assumption? \n",
    "\n",
    "What would be the main issue we would have to face if we didn't make this assumption?"
   ]
  },
  {
   "cell_type": "markdown",
   "metadata": {},
   "source": [
    "<font color='red'>6/6</font>"
   ]
  },
  {
   "cell_type": "markdown",
   "metadata": {},
   "source": [
    "I see that there is a positive correlation between the frequency of the words \"ico\" and \"tek\". This means that they have covariance and are not independent. However, when using Naive Bayes, we assume that all our x values are independent given the class. The main issue we would face if we didn't make this assumption woud be that our covariance matrix would be huge and calculating the probabilities of each class would be computationally complex and slow."
   ]
  },
  {
   "cell_type": "markdown",
   "metadata": {},
   "source": [
    "### ========== Question 2.3 --- [5 marks] ==========\n",
    "Fit a Gaussian Naive Bayes model to the cleaned dataset A. Your input features should be all the attributes in the dataset except the `class` attribute which will be your target. Display the classification accuracy on the training dataset."
   ]
  },
  {
   "cell_type": "markdown",
   "metadata": {},
   "source": [
    "<font color='red'>5/5</font>"
   ]
  },
  {
   "cell_type": "code",
   "execution_count": 15,
   "metadata": {},
   "outputs": [
    {
     "data": {
      "text/plain": [
       "0.87803716055264414"
      ]
     },
     "execution_count": 15,
     "metadata": {},
     "output_type": "execute_result"
    }
   ],
   "source": [
    "#creating a copy of news_clean_A so that we can drop the 'class' attribute\n",
    "news_clean_AA=news_clean_A.copy(deep=True)\n",
    "news_clean_AA.drop(\"class\", axis=1, inplace=True)\n",
    "cleanAClass = news_clean_A[\"class\"]\n",
    "\n",
    "#create a Gaussian distribution\n",
    "gnb_clean = GaussianNB()\n",
    "#fit the Gaussian to the clean dataset for A\n",
    "gnb_clean.fit(news_clean_AA, cleanAClass)\n",
    "#the accuracy score for the fitted Gaussian distribution\n",
    "gnb_clean.score(news_clean_AA, cleanAClass)"
   ]
  },
  {
   "cell_type": "markdown",
   "metadata": {},
   "source": [
    "### ========== Question 2.4 --- [5 marks] ==========\n",
    "Plot the (normalised) confusion matrix for the training data. Label axes appropriately."
   ]
  },
  {
   "cell_type": "markdown",
   "metadata": {},
   "source": [
    "<font color='red'>5/5</font>"
   ]
  },
  {
   "cell_type": "code",
   "execution_count": 16,
   "metadata": {
    "collapsed": true
   },
   "outputs": [],
   "source": [
    "#Predicting the class output for the cleaned dataset using the Gaussian fit \n",
    "classPredictA = gnb_clean.predict(news_clean_AA)"
   ]
  },
  {
   "cell_type": "code",
   "execution_count": 17,
   "metadata": {},
   "outputs": [
    {
     "data": {
      "image/png": "[encoded data removed]",
      "text/plain": [
       "<matplotlib.figure.Figure at 0x7fe556e96910>"
      ]
     },
     "metadata": {},
     "output_type": "display_data"
    }
   ],
   "source": [
    "#Creating and plotting the confusion matrix\n",
    "cm= confusion_matrix(cleanAClass, classPredictA)\n",
    "cmNorm = cm/ cm.sum(axis=1)[:,np.newaxis]\n",
    "\n",
    "def plot_confusion_matrix(confusionMatrix, classes=None, title='Confusion matrix'):\n",
    "    #sns.heatmap(confusionMatrix, vmin=0., vmax=1., annot=True)\n",
    "    sns.heatmap(confusionMatrix, xticklabels=classes, yticklabels=classes, vmin=0., vmax=1., annot=True)\n",
    "    plt.title(title)\n",
    "    plt.xlabel('True class value')\n",
    "    plt.ylabel('Predicted class label')\n",
    "    \n",
    "plot_confusion_matrix(cmNorm, classes=[\"alt.atheism\",\"comp.sys.ibm.pc.hardware\",\"comp.sys.mac.hardware\",\n",
    "                \"rec.sport.baseball\",\"rec.sport.hockey\"], title='Confusion matrix for Naive Bayes model on cleaned dataset A')"
   ]
  },
  {
   "cell_type": "markdown",
   "metadata": {},
   "source": [
    "### ========== Question 2.5 --- [3 marks] ==========\n",
    "\n",
    "Comment on the confusion matrix from the previous question. Does it look like what you would have expected? Explain."
   ]
  },
  {
   "cell_type": "markdown",
   "metadata": {},
   "source": [
    "<font color='red'>3/3</font>"
   ]
  },
  {
   "cell_type": "markdown",
   "metadata": {},
   "source": [
    "The diagonal from the top left to the bottom right are the proportion of the values that our predictor predicted true correctly. \n",
    "Out of the five classes, the predictor was the least good at predicting the true values of class comp.sys.ibm.pc.hardware correctly. Perhaps this is because we are told that this class and class comp.sys.mac.hardware are closely related, so it is misttaking words that are really in the former class as words in the latter class (as we can see from the value 0.35 in the confusion matrix which is rather high for a non-true poisitive value). \n",
    "We earlier excluded outliers, so we would expect our predictor to have a fairly high accuracy of getting true values correctly predicted. The top left to bottom right diagonal squares are all relatively high values which is what we would expect of a decent predictor. "
   ]
  },
  {
   "cell_type": "markdown",
   "metadata": {},
   "source": [
    "### ========== Question 2.6 --- [5 marks] ==========\n",
    "Fit a Gaussian Naive Bayes model to the original dataset A (including the outliers). Display the classification accuracy on the training dataset."
   ]
  },
  {
   "cell_type": "markdown",
   "metadata": {},
   "source": [
    "<font color='red'>5/5</font>"
   ]
  },
  {
   "cell_type": "code",
   "execution_count": 18,
   "metadata": {},
   "outputs": [
    {
     "data": {
      "text/plain": [
       "0.20526068576796619"
      ]
     },
     "execution_count": 18,
     "metadata": {},
     "output_type": "execute_result"
    }
   ],
   "source": [
    "#Creating a copy of data set A so we can remove the class attribute\n",
    "trainAA=trainA.copy(deep=True)\n",
    "trainAA.drop(\"class\", axis=1, inplace=True)\n",
    "\n",
    "#Creating a Gaussian distribution\n",
    "gnb = GaussianNB()\n",
    "#Fitting the Gaussian distribution to the dataset (including outliers)\n",
    "gnb.fit(trainAA, trainA[\"class\"])\n",
    "gnb.score(trainAA, trainA[\"class\"])"
   ]
  },
  {
   "cell_type": "markdown",
   "metadata": {},
   "source": [
    "### ========== Question 2.7 --- [4 marks] ==========\n",
    "Comment on the above results (Questions 2.3 & 2.6). In particular explain why you think that cleaning the data helps in this case."
   ]
  },
  {
   "cell_type": "markdown",
   "metadata": {},
   "source": [
    "<font color='red'>3/4</font>"
   ]
  },
  {
   "cell_type": "markdown",
   "metadata": {},
   "source": [
    "With the original training dataset, the classification accuracy is around 20.5% and with the cleaned dataset, it is around 87.9%. A Gaussian distribution has around 2/3 of the data within one standard deviation of the mean, and 98% within two standard deviations, so if we don't clean the dataset, then we will generate a vastly different model because a lot of the should-be-outliers will be included in creating this model as the standard deviation for the dataset will be a lot higher than for the cleaned dataset. Cleaning the dataset helps with accuracy because the model will be based on the actual real data, rather than trying to base it on real data AND outliers, which don't represent the majority of the data. "
   ]
  },
  {
   "cell_type": "markdown",
   "metadata": {},
   "source": [
    "### ========== Question 2.8 --- [5 marks] ==========\n",
    "\n",
    "Now we want to evaluate the generalisation of the classifier on new (i.e. unseen data). Use the classifier you trained in Question 2.5 (i.e. on the cleaned dataset) and test its performance on dataset `train_20news_partB`. \n",
    "\n",
    "Display the (normalized) confusion matrix and the classification accuracy on the Dataset B."
   ]
  },
  {
   "cell_type": "markdown",
   "metadata": {},
   "source": [
    "<font color='red'>5/5</font>"
   ]
  },
  {
   "cell_type": "code",
   "execution_count": 19,
   "metadata": {},
   "outputs": [
    {
     "name": "stdout",
     "output_type": "stream",
     "text": [
      "0.8203125\n"
     ]
    }
   ],
   "source": [
    "#Making a copy of dataset B so we can remove the 'class' attribute\n",
    "trainBB=trainB.copy(deep=True)\n",
    "trainBB.drop(\"class\", axis=1, inplace=True)\n",
    "\n",
    "#printing the accuracy score for how well the Gaussian distribution fitted on A works on \n",
    "#dataset B\n",
    "print(gnb_clean.score(trainBB, trainB[\"class\"]))"
   ]
  },
  {
   "cell_type": "code",
   "execution_count": 20,
   "metadata": {},
   "outputs": [
    {
     "data": {
      "image/png": "[encoded data removed]",
      "text/plain": [
       "<matplotlib.figure.Figure at 0x7fe556e45a50>"
      ]
     },
     "metadata": {},
     "output_type": "display_data"
    }
   ],
   "source": [
    "#Predicting the classes for dataset B using the Gaussian fitted on dataset A\n",
    "classPredictB = gnb_clean.predict(trainBB)\n",
    "cleanBClass = trainB[\"class\"]\n",
    "\n",
    "#Creating a plotting the normalised confusion matrix for the Gaussian on dataset B\n",
    "cmB= confusion_matrix(cleanBClass, classPredictB)\n",
    "#cmBNorm = cmB/ np.sum(cmB, axis=1)\n",
    "cmBNorm=cmB/cmB.sum(axis=1)[:,np.newaxis]\n",
    "plot_confusion_matrix(cmBNorm,  classes=[\"alt.atheism\",\"comp.sys.ibm.pc.hardware\",\"comp.sys.mac.hardware\",\n",
    "                \"rec.sport.baseball\",\"rec.sport.hockey\"],title='Confusion matrix for Naive Bayes distribution on dataset B')"
   ]
  },
  {
   "cell_type": "markdown",
   "metadata": {},
   "source": [
    "### ========== Question 2.9 --- [4 marks] ==========\n",
    "\n",
    "Comment on the results from the previous question. Do you think this is an acceptable level of performance? Which are the easiest and most difficult classes to predict correctly? "
   ]
  },
  {
   "cell_type": "markdown",
   "metadata": {},
   "source": [
    "<font color='red'>4/4</font>"
   ]
  },
  {
   "cell_type": "markdown",
   "metadata": {},
   "source": [
    "The matrix looks fairly similar to the previous one done on the training data, although this one has overall slightly lower accuracy for the correctly predicted true values (the coloured diagonal). This is what we would expect when we test on unseen data and is an acceptable level of performance, although the predictions for the comp.sys.ibm.pc.hardware class isn't that great. The alt.altheism class is the easiest to predict. We can see this as its correctly predicted true values score is 0.95, which is the highest. On the other hand, comp.sis.ibm.pc.hardware class is the most difficult to predict correctly, as its score for the value mentioned in the previous sentence is 0.59, which is the lowest. "
   ]
  },
  {
   "cell_type": "markdown",
   "metadata": {},
   "source": [
    "### ========== Question 2.10 --- [4 marks] ==========\n",
    "What is a reasonable baseline against which to compare the classiffication performance? *Hint: What is the simplest classiffier you can think of and what would its performance be on this dataset?* "
   ]
  },
  {
   "cell_type": "markdown",
   "metadata": {},
   "source": [
    "<font color='red'>4/4</font>"
   ]
  },
  {
   "cell_type": "markdown",
   "metadata": {},
   "source": [
    "A reasonable baseline is to always set the prediction to be the most common class, i.e. the modal class, based on training set A. This is the simplest classifier I can think of. There are 5 classes. Supposing there were roughly around the same number of data points in each class, then the performance on this dataset would be just above 20% for the training set A, and probably slightly lower but still around 20% for the testing set B. This is quite a poor classifier. "
   ]
  },
  {
   "cell_type": "markdown",
   "metadata": {},
   "source": [
    "### ========== Question 2.11 --- [4 marks] ==========\n",
    "\n",
    "Estimate the baseline performance."
   ]
  },
  {
   "cell_type": "markdown",
   "metadata": {},
   "source": [
    "<font color='red'>4/4</font>"
   ]
  },
  {
   "cell_type": "code",
   "execution_count": 21,
   "metadata": {
    "scrolled": true
   },
   "outputs": [
    {
     "name": "stdout",
     "output_type": "stream",
     "text": [
      "[4]\n"
     ]
    }
   ],
   "source": [
    "#Finding the most common number in the class attribute of dataset A\n",
    "modeTrainA=stats.mode(trainA[\"class\"], axis=None)[0] \n",
    "print(modeTrainA)\n",
    "\n",
    "#Creating an array which is the same size as the \"class\" attribute in dataset B, and where\n",
    "#all the entries are the value of the mode above (which turns out to be 4 here)\n",
    "predictFour = np.full(fill_value=modeTrainA, shape=trainB[\"class\"].shape)"
   ]
  },
  {
   "cell_type": "code",
   "execution_count": 22,
   "metadata": {},
   "outputs": [
    {
     "data": {
      "image/png": "[encoded data removed]",
      "text/plain": [
       "<matplotlib.figure.Figure at 0x7fe557305810>"
      ]
     },
     "metadata": {},
     "output_type": "display_data"
    }
   ],
   "source": [
    "#Creating a plotting the normalised confusion matrix for the baseline predictor on dataset B so that I can\n",
    "#confirm and visualise the predictor always outputting class rec.sport.baseball\n",
    "matrix4s= confusion_matrix(cleanBClass, predictFour)\n",
    "matrix4sNorm=matrix4s/matrix4s.sum(axis=1)[:,np.newaxis]\n",
    "plot_confusion_matrix(matrix4sNorm,  classes=[\"alt.atheism\",\"comp.sys.ibm.pc.hardware\",\"comp.sys.mac.hardware\",\n",
    "     \"rec.sport.baseball\",\"rec.sport.hockey\"],title='Confusion matrix for basline predictor on dataset B')"
   ]
  },
  {
   "cell_type": "code",
   "execution_count": 23,
   "metadata": {},
   "outputs": [
    {
     "name": "stdout",
     "output_type": "stream",
     "text": [
      "The accuracy of the baseline classifier is 0.203125\n"
     ]
    }
   ],
   "source": [
    "#the accuracy of using this baseline with dataset B\n",
    "accuracyMode = accuracy_score(trainB[\"class\"], predictFour)\n",
    "print(\"The accuracy of the baseline classifier is \" + str(accuracyMode))"
   ]
  },
  {
   "cell_type": "markdown",
   "metadata": {},
   "source": [
    "### ========== Question 2.12 --- [3 marks] ==========\n",
    "\n",
    "Execute the cell below to get the prediction on the test dataset by using a different classifier which we will be introducing in this class later on. By using this prediction provided below (`rf_prediction`) plot the confusion matrix and display the classification accuracy on the test dataset. *Important: Make sure the test dataset is loaded in a DataFrame called `news_B` otherwise execution will return an error. In that case replace the DataFrame name in the third line.*"
   ]
  },
  {
   "cell_type": "markdown",
   "metadata": {},
   "source": [
    "<font color='red'>3/3</font>"
   ]
  },
  {
   "cell_type": "code",
   "execution_count": 24,
   "metadata": {},
   "outputs": [
    {
     "name": "stdout",
     "output_type": "stream",
     "text": [
      "0.875\n"
     ]
    },
    {
     "data": {
      "image/png": "[encoded data removed]",
      "text/plain": [
       "<matplotlib.figure.Figure at 0x7fe55700bc90>"
      ]
     },
     "metadata": {},
     "output_type": "display_data"
    }
   ],
   "source": [
    "rf = RandomForestClassifier(n_estimators = 50).fit(X=news_clean_A.drop(\"class\", axis=1), y=news_clean_A[\"class\"])\n",
    "X_ts = trainB.drop('class', axis=1)\n",
    "rf_prediction = rf.predict(X=X_ts)\n",
    "\n",
    "print(accuracy_score(trainB[\"class\"], rf_prediction))\n",
    "\n",
    "#Creating and plotting the confusion matrix\n",
    "cmRF= confusion_matrix(trainB[\"class\"], rf_prediction)\n",
    "cmRFNorm = cmRF/ cmRF.sum(axis=1)[:,np.newaxis]\n",
    "plot_confusion_matrix(cmRFNorm,  classes=[\"alt.atheism\",\"comp.sys.ibm.pc.hardware\",\"comp.sys.mac.hardware\",\n",
    "                \"rec.sport.baseball\",\"rec.sport.hockey\"],title='Confusion matrix using random forest prediction with dataset B')\n"
   ]
  },
  {
   "cell_type": "markdown",
   "metadata": {},
   "source": [
    "### ========== Question 2.13 --- [8 marks] ==========\n",
    "\n",
    "Which classifier (Naive Bayes or Random Forest) would you trust if you had to choose? What are the reasons you believe the Gaussian Naive Bayes classifier does not perform so well in this particular problem? You are not expected to justify the performance level achieved by the Random Forest classifier. Feel free to use code and plots to illustrate your points."
   ]
  },
  {
   "cell_type": "markdown",
   "metadata": {},
   "source": [
    "<font color='red'>6/8</font>"
   ]
  },
  {
   "cell_type": "markdown",
   "metadata": {},
   "source": [
    "The accuracy of the Naive Bayes classifier on the test set was 0.8203125 (calculated in 2.8) and the accuracy of the Random Forest classifier on the test set was 0.8671875 (calculated in 2.12). The accuracy for the Random Forest was higher, so I would be more inclined to trust Random Forest over Naive Bayes for this problem. Also, looking at the confusion matrices, I can see that the Naive Bayes Classifier does have some higher true positive values, but its true positive accuracy rate varies between classes, with the lowest being 0.59 and the highest 0.95. The Random Forest classifier's true positives are more consistently high (above 0.8), so I think this is a more reliable classifier and would again trust it more. "
   ]
  },
  {
   "cell_type": "code",
   "execution_count": 33,
   "metadata": {
    "scrolled": true
   },
   "outputs": [
    {
     "data": {
      "image/png": "[encoded data removed]",
      "text/plain": [
       "<matplotlib.figure.Figure at 0x7fe54e3bd390>"
      ]
     },
     "metadata": {},
     "output_type": "display_data"
    }
   ],
   "source": [
    "#Given the class is 2, plot pairplots of the first 10 attributes against each other to start investigating\n",
    "#whether there is any correlation between any of them, which would be a problem in the Naive Bayes model\n",
    "class2A = trainA[trainA[\"class\"]==2]\n",
    "sns.pairplot(class2A[columnLabels[0:10]])\n",
    "plt.show()"
   ]
  },
  {
   "cell_type": "code",
   "execution_count": 34,
   "metadata": {},
   "outputs": [
    {
     "data": {
      "image/png": "[encoded data removed]",
      "text/plain": [
       "<matplotlib.figure.Figure at 0x7fe53ec65cd0>"
      ]
     },
     "metadata": {},
     "output_type": "display_data"
    },
    {
     "data": {
      "image/png": "[encoded data removed]",
      "text/plain": [
       "<matplotlib.figure.Figure at 0x7fe53f197850>"
      ]
     },
     "metadata": {},
     "output_type": "display_data"
    }
   ],
   "source": [
    "#Creating separating scatter plots of a couple of pairplots I identified as having positive correlations, \n",
    "#so that I can observe the plots better at a larger size.\n",
    "\n",
    "plt.scatter(class2A[\"w7_defenseman\"], class2A[\"w8_gld\"], color=\"r\")\n",
    "plt.xlabel(\"Frequency of Defenseman\")\n",
    "plt.ylabel(\"Frequency of gld\")\n",
    "plt.title(\"Joint Distribution of attributes Defenseman and gld given the class = comp.sys.mac.hardware\")\n",
    "plt.show()\n",
    "\n",
    "plt.scatter(class2A[\"w6_dwyer\"], class2A[\"w9_tocchet\"], color=\"g\")\n",
    "plt.xlabel(\"Frequency of dwyer\")\n",
    "plt.ylabel(\"Frequency of tocchet\")\n",
    "plt.title(\"Joint Distribution of attributes dwyer and tocchet given the class = comp.sys.mac.hardware\")\n",
    "plt.show()"
   ]
  },
  {
   "cell_type": "markdown",
   "metadata": {},
   "source": [
    "The Gaussian Naive Bayes classifier assumes that all attributes are independent given the class. This means that should we visualise the joint distribution via a scatter plot (given the class of both attributes are identical), we should see no correlation. However, as we can see above, there IS covariance and correlation between certain attributes given a class. This means that our assumption of independence given the class is incorrect in this example, and is a possible answer as to why the Naive Bayes Classifier did not perform so well on this particular problem. \n"
   ]
  }
 ],
 "metadata": {
  "kernelspec": {
   "display_name": "Python 2",
   "language": "python",
   "name": "python2"
  },
  "language_info": {
   "codemirror_mode": {
    "name": "ipython",
    "version": 2
   },
   "file_extension": ".py",
   "mimetype": "text/x-python",
   "name": "python",
   "nbconvert_exporter": "python",
   "pygments_lexer": "ipython2",
   "version": "2.7.13"
  }
 },
 "nbformat": 4,
 "nbformat_minor": 1
}
